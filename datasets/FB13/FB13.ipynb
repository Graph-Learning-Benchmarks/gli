{
 "cells": [
  {
   "cell_type": "code",
   "execution_count": 5,
   "metadata": {},
   "outputs": [],
   "source": [
    "id2entity = dict()\n",
    "with open('raw/entity2id.txt') as entity_file:\n",
    "    lines = entity_file.readlines()\n",
    "    num_nodes = int(lines[0].rstrip())\n",
    "    for line in lines[1:]:\n",
    "        entity, idx = line.rstrip().split('\\t')\n",
    "        id2entity[int(idx)] = entity\n",
    "\n",
    "id2rel = dict()\n",
    "with open('raw/relation2id.txt') as relation_file:\n",
    "    lines = relation_file.readlines()\n",
    "    num_rels = int(lines[0].rstrip())\n",
    "    for line in lines[1:]:\n",
    "        rel, idx = line.rstrip().split('\\t')\n",
    "        id2rel[int(idx)] = rel"
   ]
  },
  {
   "cell_type": "code",
   "execution_count": 6,
   "metadata": {},
   "outputs": [],
   "source": [
    "edge = list()  # (head_id, tail_id)\n",
    "edge_class = list()  # rel_id\n",
    "edge_name = list()  # rel_label\n",
    "tasks = [\"train\", \"valid\", \"test\"]\n",
    "split = {\n",
    "    \"train\": [],\n",
    "    \"valid\": [],\n",
    "    \"test\": []\n",
    "}\n",
    "\n",
    "for task in tasks:\n",
    "    with open(f'raw/{task}2id.txt') as infile:\n",
    "        for line in infile.readlines()[1:]:\n",
    "            line = line.rstrip().split()\n",
    "            head, tail, rel = map(lambda x: int(x), line)\n",
    "            edge.append((head, tail))\n",
    "            edge_class.append(rel)\n",
    "            edge_name.append(id2rel[rel])\n",
    "            split[task].append(len(edge) - 1)"
   ]
  },
  {
   "cell_type": "code",
   "execution_count": 7,
   "metadata": {},
   "outputs": [],
   "source": [
    "import numpy as np\n",
    "num_edges = len(edge)\n",
    "node_list = np.ones((1, num_nodes))\n",
    "edge_list = np.ones((1, num_edges))\n",
    "node_name = np.array([id2entity[i] for i in range(num_nodes)])\n",
    "edge = np.array(edge)\n",
    "edge_name = np.array(edge_name)\n",
    "edge_class = np.array(edge_class)\n",
    "\n",
    "data = {\n",
    "    # no node_feats\n",
    "    \"edge\": edge,\n",
    "    \"node_list\": node_list,\n",
    "    \"node_name\": node_name,\n",
    "    \"edge_list\": edge_list,\n",
    "    \"edge_class\": edge_class,\n",
    "    \"edge_name\": edge_name,\n",
    "    \"TrainEdge_id\": np.array(split[\"train\"]),\n",
    "    \"ValidEdge_id\": np.array(split[\"valid\"]),\n",
    "    \"TestEdge_id\": np.array(split[\"test\"]),\n",
    "    # \"num_relations\": np.int32(num_rels)\n",
    "}"
   ]
  },
  {
   "cell_type": "code",
   "execution_count": 8,
   "metadata": {},
   "outputs": [
    {
     "name": "stderr",
     "output_type": "stream",
     "text": [
      "Using backend: pytorch\n"
     ]
    },
    {
     "ename": "TypeError",
     "evalue": "Unsupported format <class 'numpy.int32'>.",
     "output_type": "error",
     "traceback": [
      "\u001b[0;31m---------------------------------------------------------------------------\u001b[0m",
      "\u001b[0;31mTypeError\u001b[0m                                 Traceback (most recent call last)",
      "\u001b[0;32m/tmp/ipykernel_4179/920838230.py\u001b[0m in \u001b[0;36m<module>\u001b[0;34m\u001b[0m\n\u001b[1;32m      1\u001b[0m \u001b[0;32mfrom\u001b[0m \u001b[0mgli\u001b[0m\u001b[0;34m.\u001b[0m\u001b[0mutils\u001b[0m \u001b[0;32mimport\u001b[0m \u001b[0msave_data\u001b[0m\u001b[0;34m;\u001b[0m\u001b[0;34m\u001b[0m\u001b[0;34m\u001b[0m\u001b[0m\n\u001b[0;32m----> 2\u001b[0;31m \u001b[0msave_data\u001b[0m\u001b[0;34m(\u001b[0m\u001b[0;34m\"FB13.npz\"\u001b[0m\u001b[0;34m,\u001b[0m \u001b[0;34m**\u001b[0m\u001b[0mdata\u001b[0m\u001b[0;34m)\u001b[0m\u001b[0;34m\u001b[0m\u001b[0;34m\u001b[0m\u001b[0m\n\u001b[0m",
      "\u001b[0;32m~/zcs-glb/examples/FB13/gli/utils.py\u001b[0m in \u001b[0;36msave_data\u001b[0;34m(prefix, **kwargs)\u001b[0m\n\u001b[1;32m    376\u001b[0m             \u001b[0;32mcontinue\u001b[0m\u001b[0;34m\u001b[0m\u001b[0;34m\u001b[0m\u001b[0m\n\u001b[1;32m    377\u001b[0m         \u001b[0;32melse\u001b[0m\u001b[0;34m:\u001b[0m\u001b[0;34m\u001b[0m\u001b[0;34m\u001b[0m\u001b[0m\n\u001b[0;32m--> 378\u001b[0;31m             \u001b[0;32mraise\u001b[0m \u001b[0mTypeError\u001b[0m\u001b[0;34m(\u001b[0m\u001b[0;34mf\"Unsupported format {type(matrix)}.\"\u001b[0m\u001b[0;34m)\u001b[0m\u001b[0;34m\u001b[0m\u001b[0;34m\u001b[0m\u001b[0m\n\u001b[0m\u001b[1;32m    379\u001b[0m \u001b[0;34m\u001b[0m\u001b[0m\n\u001b[1;32m    380\u001b[0m     \u001b[0;31m# Save numpy arrays into a single file\u001b[0m\u001b[0;34m\u001b[0m\u001b[0;34m\u001b[0m\u001b[0;34m\u001b[0m\u001b[0m\n",
      "\u001b[0;31mTypeError\u001b[0m: Unsupported format <class 'numpy.int32'>."
     ]
    }
   ],
   "source": [
    "from gli.utils import save_data;\n",
    "save_data(\"FB13\", **data)"
   ]
  },
  {
   "cell_type": "code",
   "execution_count": null,
   "metadata": {},
   "outputs": [
    {
     "name": "stdout",
     "output_type": "stream",
     "text": [
      "40943 93003\n"
     ]
    }
   ],
   "source": [
    "print(num_nodes, num_edges)"
   ]
  },
  {
   "cell_type": "code",
   "execution_count": null,
   "metadata": {},
   "outputs": [],
   "source": []
  }
 ],
 "metadata": {
  "interpreter": {
   "hash": "b7682b43318cc97787592aaf412ca4143c020cde7ce2decb4d76e73eb29cd630"
  },
  "kernelspec": {
   "display_name": "Python 3.7.9 64-bit ('base': conda)",
   "language": "python",
   "name": "python3"
  },
  "language_info": {
   "codemirror_mode": {
    "name": "ipython",
    "version": 3
   },
   "file_extension": ".py",
   "mimetype": "text/x-python",
   "name": "python",
   "nbconvert_exporter": "python",
   "pygments_lexer": "ipython3",
   "version": "3.7.9"
  },
  "orig_nbformat": 4
 },
 "nbformat": 4,
 "nbformat_minor": 2
}
