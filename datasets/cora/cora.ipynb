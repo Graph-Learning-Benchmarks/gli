{
 "cells": [
  {
   "cell_type": "markdown",
   "metadata": {},
   "source": [
    "# Cora Example"
   ]
  },
  {
   "cell_type": "markdown",
   "metadata": {},
   "source": [
    "## Data"
   ]
  },
  {
   "cell_type": "code",
   "execution_count": 2,
   "metadata": {},
   "outputs": [
    {
     "ename": "ModuleNotFoundError",
     "evalue": "No module named 'pandas'",
     "output_type": "error",
     "traceback": [
      "\u001b[0;31m---------------------------------------------------------------------------\u001b[0m",
      "\u001b[0;31mModuleNotFoundError\u001b[0m                       Traceback (most recent call last)",
      "Cell \u001b[0;32mIn[2], line 5\u001b[0m\n\u001b[1;32m      3\u001b[0m \u001b[38;5;28;01mimport\u001b[39;00m \u001b[38;5;21;01mtorch\u001b[39;00m\n\u001b[1;32m      4\u001b[0m \u001b[38;5;28;01mimport\u001b[39;00m \u001b[38;5;21;01mscipy\u001b[39;00m\u001b[38;5;21;01m.\u001b[39;00m\u001b[38;5;21;01msparse\u001b[39;00m \u001b[38;5;28;01mas\u001b[39;00m \u001b[38;5;21;01msparse\u001b[39;00m\n\u001b[0;32m----> 5\u001b[0m \u001b[38;5;28;01mfrom\u001b[39;00m \u001b[38;5;21;01mdgl\u001b[39;00m\u001b[38;5;21;01m.\u001b[39;00m\u001b[38;5;21;01mdata\u001b[39;00m \u001b[38;5;28;01mimport\u001b[39;00m CoraGraphDataset\n\u001b[1;32m      7\u001b[0m dataset \u001b[38;5;241m=\u001b[39m CoraGraphDataset()\n\u001b[1;32m      8\u001b[0m graph \u001b[38;5;241m=\u001b[39m dataset[\u001b[38;5;241m0\u001b[39m]\n",
      "File \u001b[0;32m/opt/homebrew/lib/python3.11/site-packages/dgl-2.0.0-py3.11-macosx-12-arm64.egg/dgl/__init__.py:16\u001b[0m\n\u001b[1;32m     13\u001b[0m \u001b[38;5;28;01mfrom\u001b[39;00m \u001b[38;5;21;01m.\u001b[39;00m\u001b[38;5;21;01mlogging\u001b[39;00m \u001b[38;5;28;01mimport\u001b[39;00m enable_verbose_logging  \u001b[38;5;66;03m# usort: skip\u001b[39;00m\n\u001b[1;32m     14\u001b[0m \u001b[38;5;28;01mfrom\u001b[39;00m \u001b[38;5;21;01m.\u001b[39;00m\u001b[38;5;21;01mbackend\u001b[39;00m \u001b[38;5;28;01mimport\u001b[39;00m backend_name, load_backend  \u001b[38;5;66;03m# usort: skip\u001b[39;00m\n\u001b[0;32m---> 16\u001b[0m \u001b[38;5;28;01mfrom\u001b[39;00m \u001b[38;5;21;01m.\u001b[39;00m \u001b[38;5;28;01mimport\u001b[39;00m (\n\u001b[1;32m     17\u001b[0m     container,\n\u001b[1;32m     18\u001b[0m     cuda,\n\u001b[1;32m     19\u001b[0m     dataloading,\n\u001b[1;32m     20\u001b[0m     function,\n\u001b[1;32m     21\u001b[0m     ops,\n\u001b[1;32m     22\u001b[0m     random,\n\u001b[1;32m     23\u001b[0m     sampling,\n\u001b[1;32m     24\u001b[0m     storages,\n\u001b[1;32m     25\u001b[0m )\n\u001b[1;32m     26\u001b[0m \u001b[38;5;28;01mfrom\u001b[39;00m \u001b[38;5;21;01m.\u001b[39;00m\u001b[38;5;21;01m_ffi\u001b[39;00m\u001b[38;5;21;01m.\u001b[39;00m\u001b[38;5;21;01mbase\u001b[39;00m \u001b[38;5;28;01mimport\u001b[39;00m __version__, DGLError\n\u001b[1;32m     27\u001b[0m \u001b[38;5;28;01mfrom\u001b[39;00m \u001b[38;5;21;01m.\u001b[39;00m\u001b[38;5;21;01m_ffi\u001b[39;00m\u001b[38;5;21;01m.\u001b[39;00m\u001b[38;5;21;01mfunction\u001b[39;00m \u001b[38;5;28;01mimport\u001b[39;00m (\n\u001b[1;32m     28\u001b[0m     extract_ext_funcs,\n\u001b[1;32m     29\u001b[0m     get_global_func,\n\u001b[1;32m     30\u001b[0m     list_global_func_names,\n\u001b[1;32m     31\u001b[0m     register_func,\n\u001b[1;32m     32\u001b[0m )\n",
      "File \u001b[0;32m/opt/homebrew/lib/python3.11/site-packages/dgl-2.0.0-py3.11-macosx-12-arm64.egg/dgl/dataloading/__init__.py:13\u001b[0m\n\u001b[1;32m     11\u001b[0m \u001b[38;5;28;01mif\u001b[39;00m F\u001b[38;5;241m.\u001b[39mget_preferred_backend() \u001b[38;5;241m==\u001b[39m \u001b[38;5;124m\"\u001b[39m\u001b[38;5;124mpytorch\u001b[39m\u001b[38;5;124m\"\u001b[39m:\n\u001b[1;32m     12\u001b[0m     \u001b[38;5;28;01mfrom\u001b[39;00m \u001b[38;5;21;01m.\u001b[39;00m\u001b[38;5;21;01mspot_target\u001b[39;00m \u001b[38;5;28;01mimport\u001b[39;00m \u001b[38;5;241m*\u001b[39m\n\u001b[0;32m---> 13\u001b[0m     \u001b[38;5;28;01mfrom\u001b[39;00m \u001b[38;5;21;01m.\u001b[39;00m\u001b[38;5;21;01mdataloader\u001b[39;00m \u001b[38;5;28;01mimport\u001b[39;00m \u001b[38;5;241m*\u001b[39m\n\u001b[1;32m     14\u001b[0m     \u001b[38;5;28;01mfrom\u001b[39;00m \u001b[38;5;21;01m.\u001b[39;00m\u001b[38;5;21;01mdist_dataloader\u001b[39;00m \u001b[38;5;28;01mimport\u001b[39;00m \u001b[38;5;241m*\u001b[39m\n",
      "File \u001b[0;32m/opt/homebrew/lib/python3.11/site-packages/dgl-2.0.0-py3.11-macosx-12-arm64.egg/dgl/dataloading/dataloader.py:27\u001b[0m\n\u001b[1;32m     25\u001b[0m \u001b[38;5;28;01mfrom\u001b[39;00m \u001b[38;5;21;01m.\u001b[39;00m\u001b[38;5;21;01m.\u001b[39;00m\u001b[38;5;21;01mbatch\u001b[39;00m \u001b[38;5;28;01mimport\u001b[39;00m batch \u001b[38;5;28;01mas\u001b[39;00m batch_graphs\n\u001b[1;32m     26\u001b[0m \u001b[38;5;28;01mfrom\u001b[39;00m \u001b[38;5;21;01m.\u001b[39;00m\u001b[38;5;21;01m.\u001b[39;00m\u001b[38;5;21;01mcuda\u001b[39;00m \u001b[38;5;28;01mimport\u001b[39;00m GPUCache\n\u001b[0;32m---> 27\u001b[0m \u001b[38;5;28;01mfrom\u001b[39;00m \u001b[38;5;21;01m.\u001b[39;00m\u001b[38;5;21;01m.\u001b[39;00m\u001b[38;5;21;01mdistributed\u001b[39;00m \u001b[38;5;28;01mimport\u001b[39;00m DistGraph\n\u001b[1;32m     28\u001b[0m \u001b[38;5;28;01mfrom\u001b[39;00m \u001b[38;5;21;01m.\u001b[39;00m\u001b[38;5;21;01m.\u001b[39;00m\u001b[38;5;21;01mframe\u001b[39;00m \u001b[38;5;28;01mimport\u001b[39;00m LazyFeature\n\u001b[1;32m     29\u001b[0m \u001b[38;5;28;01mfrom\u001b[39;00m \u001b[38;5;21;01m.\u001b[39;00m\u001b[38;5;21;01m.\u001b[39;00m\u001b[38;5;21;01mheterograph\u001b[39;00m \u001b[38;5;28;01mimport\u001b[39;00m DGLGraph\n",
      "File \u001b[0;32m/opt/homebrew/lib/python3.11/site-packages/dgl-2.0.0-py3.11-macosx-12-arm64.egg/dgl/distributed/__init__.py:5\u001b[0m\n\u001b[1;32m      3\u001b[0m \u001b[38;5;28;01mfrom\u001b[39;00m \u001b[38;5;21;01m.\u001b[39;00m\u001b[38;5;21;01mdist_context\u001b[39;00m \u001b[38;5;28;01mimport\u001b[39;00m exit_client, initialize\n\u001b[1;32m      4\u001b[0m \u001b[38;5;28;01mfrom\u001b[39;00m \u001b[38;5;21;01m.\u001b[39;00m\u001b[38;5;21;01mdist_dataloader\u001b[39;00m \u001b[38;5;28;01mimport\u001b[39;00m DistDataLoader\n\u001b[0;32m----> 5\u001b[0m \u001b[38;5;28;01mfrom\u001b[39;00m \u001b[38;5;21;01m.\u001b[39;00m\u001b[38;5;21;01mdist_graph\u001b[39;00m \u001b[38;5;28;01mimport\u001b[39;00m DistGraph, DistGraphServer, edge_split, node_split\n\u001b[1;32m      6\u001b[0m \u001b[38;5;28;01mfrom\u001b[39;00m \u001b[38;5;21;01m.\u001b[39;00m\u001b[38;5;21;01mdist_tensor\u001b[39;00m \u001b[38;5;28;01mimport\u001b[39;00m DistTensor\n\u001b[1;32m      7\u001b[0m \u001b[38;5;28;01mfrom\u001b[39;00m \u001b[38;5;21;01m.\u001b[39;00m\u001b[38;5;21;01mgraph_partition_book\u001b[39;00m \u001b[38;5;28;01mimport\u001b[39;00m GraphPartitionBook, PartitionPolicy\n",
      "File \u001b[0;32m/opt/homebrew/lib/python3.11/site-packages/dgl-2.0.0-py3.11-macosx-12-arm64.egg/dgl/distributed/dist_graph.py:37\u001b[0m\n\u001b[1;32m     31\u001b[0m \u001b[38;5;28;01mfrom\u001b[39;00m \u001b[38;5;21;01m.\u001b[39;00m\u001b[38;5;21;01mgraph_services\u001b[39;00m \u001b[38;5;28;01mimport\u001b[39;00m (\n\u001b[1;32m     32\u001b[0m     find_edges \u001b[38;5;28;01mas\u001b[39;00m dist_find_edges,\n\u001b[1;32m     33\u001b[0m     in_degrees \u001b[38;5;28;01mas\u001b[39;00m dist_in_degrees,\n\u001b[1;32m     34\u001b[0m     out_degrees \u001b[38;5;28;01mas\u001b[39;00m dist_out_degrees,\n\u001b[1;32m     35\u001b[0m )\n\u001b[1;32m     36\u001b[0m \u001b[38;5;28;01mfrom\u001b[39;00m \u001b[38;5;21;01m.\u001b[39;00m\u001b[38;5;21;01mkvstore\u001b[39;00m \u001b[38;5;28;01mimport\u001b[39;00m get_kvstore, KVServer\n\u001b[0;32m---> 37\u001b[0m \u001b[38;5;28;01mfrom\u001b[39;00m \u001b[38;5;21;01m.\u001b[39;00m\u001b[38;5;21;01mpartition\u001b[39;00m \u001b[38;5;28;01mimport\u001b[39;00m (\n\u001b[1;32m     38\u001b[0m     load_partition,\n\u001b[1;32m     39\u001b[0m     load_partition_book,\n\u001b[1;32m     40\u001b[0m     load_partition_feats,\n\u001b[1;32m     41\u001b[0m     RESERVED_FIELD_DTYPE,\n\u001b[1;32m     42\u001b[0m )\n\u001b[1;32m     43\u001b[0m \u001b[38;5;28;01mfrom\u001b[39;00m \u001b[38;5;21;01m.\u001b[39;00m\u001b[38;5;21;01mrpc_server\u001b[39;00m \u001b[38;5;28;01mimport\u001b[39;00m start_server\n\u001b[1;32m     44\u001b[0m \u001b[38;5;28;01mfrom\u001b[39;00m \u001b[38;5;21;01m.\u001b[39;00m\u001b[38;5;21;01mserver_state\u001b[39;00m \u001b[38;5;28;01mimport\u001b[39;00m ServerState\n",
      "File \u001b[0;32m/opt/homebrew/lib/python3.11/site-packages/dgl-2.0.0-py3.11-macosx-12-arm64.egg/dgl/distributed/partition.py:15\u001b[0m\n\u001b[1;32m     13\u001b[0m \u001b[38;5;28;01mfrom\u001b[39;00m \u001b[38;5;21;01m.\u001b[39;00m\u001b[38;5;21;01m.\u001b[39;00m\u001b[38;5;21;01mbase\u001b[39;00m \u001b[38;5;28;01mimport\u001b[39;00m DGLError, EID, ETYPE, NID, NTYPE\n\u001b[1;32m     14\u001b[0m \u001b[38;5;28;01mfrom\u001b[39;00m \u001b[38;5;21;01m.\u001b[39;00m\u001b[38;5;21;01m.\u001b[39;00m\u001b[38;5;21;01mconvert\u001b[39;00m \u001b[38;5;28;01mimport\u001b[39;00m to_homogeneous\n\u001b[0;32m---> 15\u001b[0m \u001b[38;5;28;01mfrom\u001b[39;00m \u001b[38;5;21;01m.\u001b[39;00m\u001b[38;5;21;01m.\u001b[39;00m\u001b[38;5;21;01mdata\u001b[39;00m\u001b[38;5;21;01m.\u001b[39;00m\u001b[38;5;21;01mutils\u001b[39;00m \u001b[38;5;28;01mimport\u001b[39;00m load_graphs, load_tensors, save_graphs, save_tensors\n\u001b[1;32m     16\u001b[0m \u001b[38;5;28;01mfrom\u001b[39;00m \u001b[38;5;21;01m.\u001b[39;00m\u001b[38;5;21;01m.\u001b[39;00m\u001b[38;5;21;01mpartition\u001b[39;00m \u001b[38;5;28;01mimport\u001b[39;00m (\n\u001b[1;32m     17\u001b[0m     get_peak_mem,\n\u001b[1;32m     18\u001b[0m     metis_partition_assignment,\n\u001b[1;32m     19\u001b[0m     partition_graph_with_halo,\n\u001b[1;32m     20\u001b[0m )\n\u001b[1;32m     21\u001b[0m \u001b[38;5;28;01mfrom\u001b[39;00m \u001b[38;5;21;01m.\u001b[39;00m\u001b[38;5;21;01m.\u001b[39;00m\u001b[38;5;21;01mrandom\u001b[39;00m \u001b[38;5;28;01mimport\u001b[39;00m choice \u001b[38;5;28;01mas\u001b[39;00m random_choice\n",
      "File \u001b[0;32m/opt/homebrew/lib/python3.11/site-packages/dgl-2.0.0-py3.11-macosx-12-arm64.egg/dgl/data/__init__.py:9\u001b[0m\n\u001b[1;32m      7\u001b[0m \u001b[38;5;28;01mfrom\u001b[39;00m \u001b[38;5;21;01m.\u001b[39;00m \u001b[38;5;28;01mimport\u001b[39;00m citation_graph \u001b[38;5;28;01mas\u001b[39;00m citegrh\n\u001b[1;32m      8\u001b[0m \u001b[38;5;28;01mfrom\u001b[39;00m \u001b[38;5;21;01m.\u001b[39;00m\u001b[38;5;21;01mactor\u001b[39;00m \u001b[38;5;28;01mimport\u001b[39;00m ActorDataset\n\u001b[0;32m----> 9\u001b[0m \u001b[38;5;28;01mfrom\u001b[39;00m \u001b[38;5;21;01m.\u001b[39;00m\u001b[38;5;21;01mmovielens\u001b[39;00m \u001b[38;5;28;01mimport\u001b[39;00m MovieLensDataset\n\u001b[1;32m     10\u001b[0m \u001b[38;5;28;01mfrom\u001b[39;00m \u001b[38;5;21;01m.\u001b[39;00m\u001b[38;5;21;01madapter\u001b[39;00m \u001b[38;5;28;01mimport\u001b[39;00m \u001b[38;5;241m*\u001b[39m\n\u001b[1;32m     11\u001b[0m \u001b[38;5;28;01mfrom\u001b[39;00m \u001b[38;5;21;01m.\u001b[39;00m\u001b[38;5;21;01mbitcoinotc\u001b[39;00m \u001b[38;5;28;01mimport\u001b[39;00m BitcoinOTC, BitcoinOTCDataset\n",
      "File \u001b[0;32m/opt/homebrew/lib/python3.11/site-packages/dgl-2.0.0-py3.11-macosx-12-arm64.egg/dgl/data/movielens.py:5\u001b[0m\n\u001b[1;32m      2\u001b[0m \u001b[38;5;28;01mimport\u001b[39;00m \u001b[38;5;21;01mos\u001b[39;00m\n\u001b[1;32m      4\u001b[0m \u001b[38;5;28;01mimport\u001b[39;00m \u001b[38;5;21;01mnumpy\u001b[39;00m \u001b[38;5;28;01mas\u001b[39;00m \u001b[38;5;21;01mnp\u001b[39;00m\n\u001b[0;32m----> 5\u001b[0m \u001b[38;5;28;01mimport\u001b[39;00m \u001b[38;5;21;01mpandas\u001b[39;00m \u001b[38;5;28;01mas\u001b[39;00m \u001b[38;5;21;01mpd\u001b[39;00m\n\u001b[1;32m      7\u001b[0m \u001b[38;5;28;01mfrom\u001b[39;00m \u001b[38;5;21;01mtorch\u001b[39;00m \u001b[38;5;28;01mimport\u001b[39;00m LongTensor, Tensor\n\u001b[1;32m      9\u001b[0m \u001b[38;5;28;01mfrom\u001b[39;00m \u001b[38;5;21;01m.\u001b[39;00m\u001b[38;5;21;01m.\u001b[39;00m\u001b[38;5;21;01mbase\u001b[39;00m \u001b[38;5;28;01mimport\u001b[39;00m dgl_warning\n",
      "\u001b[0;31mModuleNotFoundError\u001b[0m: No module named 'pandas'"
     ]
    }
   ],
   "source": [
    "import json\n",
    "import numpy as np\n",
    "import torch\n",
    "import scipy.sparse as sparse\n",
    "from dgl.data import CoraGraphDataset\n",
    "\n",
    "dataset = CoraGraphDataset()\n",
    "graph = dataset[0]\n"
   ]
  },
  {
   "cell_type": "markdown",
   "metadata": {},
   "source": [
    "We can save the data file in only one file `cora.npz`."
   ]
  },
  {
   "cell_type": "code",
   "execution_count": 6,
   "metadata": {},
   "outputs": [
    {
     "name": "stdout",
     "output_type": "stream",
     "text": [
      "[[   0  633]\n",
      " [   0 1862]\n",
      " [   0 2582]\n",
      " ...\n",
      " [2707  598]\n",
      " [2707 1473]\n",
      " [2707 2706]]\n"
     ]
    }
   ],
   "source": [
    "# node features\n",
    "node_feats = sparse.csr_matrix(graph.ndata[\"feat\"].numpy())\n",
    "# node labels\n",
    "node_class = graph.ndata[\"label\"].numpy()  # (2708,)\n",
    "# edge list\n",
    "edge = torch.stack(graph.edges()).numpy().T\n",
    "\n"
   ]
  },
  {
   "cell_type": "code",
   "execution_count": 3,
   "metadata": {},
   "outputs": [],
   "source": [
    "from gli.io import save_graph, Attribute\n",
    "\n",
    "node_attrs = [\n",
    "    Attribute(\n",
    "        \"NodeFeature\",\n",
    "        node_feats,\n",
    "        \"Node features of Cora dataset, 1/0-valued vectors.\",\n",
    "        \"int\",\n",
    "        \"SparseTensor\",\n",
    "    ),\n",
    "    Attribute(\n",
    "        \"NodeLabel\",\n",
    "        node_class,\n",
    "        \"Node labels of Cora dataset, int ranged from 1 to 7.\",\n",
    "        \"int\",\n",
    "        \"Tensor\",\n",
    "    )\n",
    "]\n",
    "\n",
    "metadata = save_graph(\n",
    "    name=\"cora\",\n",
    "    edge=edge,\n",
    "    num_nodes=graph.num_nodes(),\n",
    "    node_attrs=node_attrs,\n",
    "    description=\"CORA dataset.\",\n",
    "    cite=\n",
    "    \"@inproceedings{yang2016revisiting,\\ntitle={Revisiting semi-supervised learning with graph embeddings},\\nauthor={Yang, Zhilin and Cohen, William and Salakhudinov, Ruslan},\\nbooktitle={International conference on machine learning},\\npages={40--48},\\nyear={2016},\\norganization={PMLR}\\n}\",\n",
    ")"
   ]
  },
  {
   "cell_type": "markdown",
   "metadata": {},
   "source": [
    "The metadata.json and graph data (.npz files) is now saved in the current directory."
   ]
  },
  {
   "cell_type": "code",
   "execution_count": 4,
   "metadata": {},
   "outputs": [
    {
     "name": "stdout",
     "output_type": "stream",
     "text": [
      "{\n",
      "  \"description\": \"CORA dataset.\",\n",
      "  \"data\": {\n",
      "    \"Node\": {\n",
      "      \"NodeFeature\": {\n",
      "        \"description\": \"Node features of Cora dataset, 1/0-valued vectors.\",\n",
      "        \"type\": \"int\",\n",
      "        \"format\": \"SparseTensor\",\n",
      "        \"file\": \"cora__graph__Node_NodeFeature__7032c9c380d1889061dcbbcd76b8c427.sparse.npz\"\n",
      "      },\n",
      "      \"NodeLabel\": {\n",
      "        \"description\": \"Node labels of Cora dataset, int ranged from 1 to 7.\",\n",
      "        \"type\": \"int\",\n",
      "        \"format\": \"Tensor\",\n",
      "        \"file\": \"cora__graph__6c912909fa18eff10797210ea5e485fe.npz\",\n",
      "        \"key\": \"Node_NodeLabel\"\n",
      "      }\n",
      "    },\n",
      "    \"Edge\": {\n",
      "      \"_Edge\": {\n",
      "        \"file\": \"cora__graph__6c912909fa18eff10797210ea5e485fe.npz\",\n",
      "        \"key\": \"Edge_Edge\"\n",
      "      }\n",
      "    },\n",
      "    \"Graph\": {\n",
      "      \"_NodeList\": {\n",
      "        \"file\": \"cora__graph__Graph_NodeList__23bbef862fd6037395412eb03b4e1d9c.sparse.npz\"\n",
      "      }\n",
      "    }\n",
      "  },\n",
      "  \"citation\": \"@inproceedings{yang2016revisiting,\\ntitle={Revisiting semi-supervised learning with graph embeddings},\\nauthor={Yang, Zhilin and Cohen, William and Salakhudinov, Ruslan},\\nbooktitle={International conference on machine learning},\\npages={40--48},\\nyear={2016},\\norganization={PMLR}\\n}\",\n",
      "  \"is_heterogeneous\": false\n",
      "}\n"
     ]
    }
   ],
   "source": [
    "# Print metadata\n",
    "print(json.dumps(metadata, indent=2))"
   ]
  },
  {
   "cell_type": "markdown",
   "metadata": {},
   "source": [
    "## Task"
   ]
  },
  {
   "cell_type": "code",
   "execution_count": 1,
   "metadata": {},
   "outputs": [
    {
     "ename": "NameError",
     "evalue": "name 'graph' is not defined",
     "output_type": "error",
     "traceback": [
      "\u001b[0;31m---------------------------------------------------------------------------\u001b[0m",
      "\u001b[0;31mNameError\u001b[0m                                 Traceback (most recent call last)",
      "Cell \u001b[0;32mIn[1], line 1\u001b[0m\n\u001b[0;32m----> 1\u001b[0m train_set \u001b[38;5;241m=\u001b[39m \u001b[43mgraph\u001b[49m\u001b[38;5;241m.\u001b[39mndata[\u001b[38;5;124m\"\u001b[39m\u001b[38;5;124mtrain_mask\u001b[39m\u001b[38;5;124m\"\u001b[39m]\u001b[38;5;241m.\u001b[39mnonzero()\u001b[38;5;241m.\u001b[39msqueeze()\u001b[38;5;241m.\u001b[39mnumpy()\n\u001b[1;32m      2\u001b[0m val_set \u001b[38;5;241m=\u001b[39m graph\u001b[38;5;241m.\u001b[39mndata[\u001b[38;5;124m\"\u001b[39m\u001b[38;5;124mval_mask\u001b[39m\u001b[38;5;124m\"\u001b[39m]\u001b[38;5;241m.\u001b[39mnonzero()\u001b[38;5;241m.\u001b[39msqueeze()\u001b[38;5;241m.\u001b[39mnumpy()\n\u001b[1;32m      3\u001b[0m test_set \u001b[38;5;241m=\u001b[39m graph\u001b[38;5;241m.\u001b[39mndata[\u001b[38;5;124m\"\u001b[39m\u001b[38;5;124mtest_mask\u001b[39m\u001b[38;5;124m\"\u001b[39m]\u001b[38;5;241m.\u001b[39mnonzero()\u001b[38;5;241m.\u001b[39msqueeze()\u001b[38;5;241m.\u001b[39mnumpy()\n",
      "\u001b[0;31mNameError\u001b[0m: name 'graph' is not defined"
     ]
    }
   ],
   "source": [
    "train_set = graph.ndata[\"train_mask\"].nonzero().squeeze().numpy()\n",
    "val_set = graph.ndata[\"val_mask\"].nonzero().squeeze().numpy()\n",
    "test_set = graph.ndata[\"test_mask\"].nonzero().squeeze().numpy()\n",
    "\n",
    "graph.ndata[\"train_mask\"]"
   ]
  },
  {
   "cell_type": "code",
   "execution_count": 6,
   "metadata": {},
   "outputs": [],
   "source": [
    "from gli.io import save_task_node_classification\n",
    "\n",
    "task_data = save_task_node_classification(\n",
    "    name=\"cora\",\n",
    "    description=\"Node classification on CORA dataset. Planetoid split.\",\n",
    "    feature=[\"Node/NodeFeature\"],\n",
    "    target=\"Node/NodeLabel\",\n",
    "    num_classes=7,\n",
    "    train_set=train_set,\n",
    "    val_set=val_set,\n",
    "    test_set=test_set,\n",
    "    task_id=\"1\"\n",
    ")"
   ]
  },
  {
   "cell_type": "markdown",
   "metadata": {},
   "source": [
    "The task data (.json and .npz files) is now saved in the current directory."
   ]
  },
  {
   "cell_type": "code",
   "execution_count": 7,
   "metadata": {},
   "outputs": [
    {
     "name": "stdout",
     "output_type": "stream",
     "text": [
      "{\n",
      "  \"description\": \"Node classification on CORA dataset. Planetoid split.\",\n",
      "  \"type\": \"NodeClassification\",\n",
      "  \"feature\": [\n",
      "    \"Node/NodeFeature\"\n",
      "  ],\n",
      "  \"target\": \"Node/NodeLabel\",\n",
      "  \"num_classes\": 7,\n",
      "  \"train_set\": {\n",
      "    \"file\": \"cora__task_node_classification_1__41e167258678b585872679839ce9c40f.npz\",\n",
      "    \"key\": \"train_set\"\n",
      "  },\n",
      "  \"val_set\": {\n",
      "    \"file\": \"cora__task_node_classification_1__41e167258678b585872679839ce9c40f.npz\",\n",
      "    \"key\": \"val_set\"\n",
      "  },\n",
      "  \"test_set\": {\n",
      "    \"file\": \"cora__task_node_classification_1__41e167258678b585872679839ce9c40f.npz\",\n",
      "    \"key\": \"test_set\"\n",
      "  }\n",
      "}\n"
     ]
    }
   ],
   "source": [
    "print(json.dumps(task_data, indent=2))"
   ]
  },
  {
   "cell_type": "markdown",
   "metadata": {},
   "source": [
    "Test loading the data."
   ]
  },
  {
   "cell_type": "code",
   "execution_count": 8,
   "metadata": {},
   "outputs": [
    {
     "name": "stdout",
     "output_type": "stream",
     "text": [
      "CORA dataset.\n",
      "Node classification on CORA dataset. Planetoid split.\n"
     ]
    },
    {
     "name": "stderr",
     "output_type": "stream",
     "text": [
      "/Users/jimmy/Projects/Private/gli/gli/utils.py:254: UserWarning: Sparse CSR tensor support is in beta state. If you miss a functionality in the sparse tensor support, please submit a feature request to https://github.com/pytorch/pytorch/issues. (Triggered internally at /Users/runner/work/pytorch/pytorch/pytorch/aten/src/ATen/SparseCsrTensorImpl.cpp:56.)\n",
      "  return torch.sparse_csr_tensor(crow_indices,\n"
     ]
    },
    {
     "data": {
      "text/plain": [
       "Graph(num_nodes=2708, num_edges=10556,\n",
       "      ndata_schemes={'NodeFeature': Scheme(shape=(1433,), dtype=torch.float32), 'NodeLabel': Scheme(shape=(), dtype=torch.int64), 'train_mask': Scheme(shape=(), dtype=torch.bool), 'val_mask': Scheme(shape=(), dtype=torch.bool), 'test_mask': Scheme(shape=(), dtype=torch.bool)}\n",
       "      edata_schemes={})"
      ]
     },
     "execution_count": 8,
     "metadata": {},
     "output_type": "execute_result"
    }
   ],
   "source": [
    "from gli.dataloading import read_gli_graph, read_gli_task, combine_graph_and_task\n",
    "\n",
    "g = read_gli_graph(\"./metadata.json\")\n",
    "t = read_gli_task(\"./task_node_classification_1.json\")\n",
    "data = combine_graph_and_task(g, t)\n",
    "data[0]"
   ]
  },
  {
   "cell_type": "markdown",
   "metadata": {},
   "source": [
    "After adding LICENSE and README.md, the dataset directory will be the following."
   ]
  },
  {
   "cell_type": "code",
   "execution_count": 9,
   "metadata": {},
   "outputs": [
    {
     "name": "stdout",
     "output_type": "stream",
     "text": [
      "\u001b[1;36m.\u001b[00m\n",
      "├── LICENSE\n",
      "├── README.md\n",
      "├── cora.ipynb\n",
      "├── cora__graph__6c912909fa18eff10797210ea5e485fe.npz\n",
      "├── cora__graph__Graph_NodeList__23bbef862fd6037395412eb03b4e1d9c.sparse.npz\n",
      "├── cora__graph__Node_NodeFeature__7032c9c380d1889061dcbbcd76b8c427.sparse.npz\n",
      "├── cora__task_node_classification_1__41e167258678b585872679839ce9c40f.npz\n",
      "├── metadata.json\n",
      "└── task_node_classification_1.json\n",
      "\n",
      "0 directories, 9 files\n"
     ]
    }
   ],
   "source": [
    "!tree ."
   ]
  }
 ],
 "metadata": {
  "kernelspec": {
   "display_name": "Python 3.8.13 ('gli')",
   "language": "python",
   "name": "python3"
  },
  "language_info": {
   "codemirror_mode": {
    "name": "ipython",
    "version": 3
   },
   "file_extension": ".py",
   "mimetype": "text/x-python",
   "name": "python",
   "nbconvert_exporter": "python",
   "pygments_lexer": "ipython3",
   "version": "3.11.5"
  },
  "orig_nbformat": 4,
  "vscode": {
   "interpreter": {
    "hash": "6d44b81210f2b1cc6f5cbf794116c1ed3b756872db4baf49235947e0f03609f1"
   }
  }
 },
 "nbformat": 4,
 "nbformat_minor": 2
}
