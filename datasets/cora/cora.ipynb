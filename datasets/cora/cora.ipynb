{
 "cells": [
  {
   "cell_type": "markdown",
   "metadata": {},
   "source": [
    "# Cora Example"
   ]
  },
  {
   "cell_type": "markdown",
   "metadata": {},
   "source": [
    "## Data"
   ]
  },
  {
   "cell_type": "code",
   "execution_count": 1,
   "metadata": {},
   "outputs": [
    {
     "name": "stdout",
     "output_type": "stream",
     "text": [
      "  NumNodes: 2708\n",
      "  NumEdges: 10556\n",
      "  NumFeats: 1433\n",
      "  NumClasses: 7\n",
      "  NumTrainingSamples: 140\n",
      "  NumValidationSamples: 500\n",
      "  NumTestSamples: 1000\n",
      "Done loading data from cached files.\n"
     ]
    }
   ],
   "source": [
    "import json\n",
    "import numpy as np\n",
    "import torch\n",
    "import scipy.sparse as sparse\n",
    "from dgl.data import CoraGraphDataset\n",
    "dataset = CoraGraphDataset()\n",
    "graph = dataset[0]"
   ]
  },
  {
   "cell_type": "markdown",
   "metadata": {},
   "source": [
    "We can save the data file in only one file `cora.npz`."
   ]
  },
  {
   "cell_type": "code",
   "execution_count": 2,
   "metadata": {},
   "outputs": [],
   "source": [
    "# cora_feat\n",
    "node_feats = sparse.csr_matrix(graph.ndata[\"feat\"].numpy())\n",
    "# cora_class\n",
    "node_class = graph.ndata[\"label\"].numpy()  # (2708,)\n",
    "# cora_edge\n",
    "edge = torch.stack(graph.edges()).numpy().T\n",
    "# cora only has 1 single connected graph\n",
    "node_list = np.ones((1, graph.num_nodes()))  # (1, 2708)\n",
    "edge_list = np.ones((1, graph.num_edges()))  # (1, 10556)\n",
    "\n",
    "data = {\n",
    "    \"node_feats\": node_feats,\n",
    "    \"node_class\": node_class,\n",
    "    \"edge\": edge,\n",
    "    \"node_list\": node_list,\n",
    "    \"edge_list\": edge_list\n",
    "}"
   ]
  },
  {
   "cell_type": "code",
   "execution_count": 3,
   "metadata": {},
   "outputs": [
    {
     "name": "stdout",
     "output_type": "stream",
     "text": [
      "Save all dense arrays to cora.npz, including ['node_class', 'edge', 'node_list', 'edge_list']\n",
      "Save sparse matrix node_feats to cora_node_feats.sparse.npz\n"
     ]
    }
   ],
   "source": [
    "from gli.utils import save_data\n",
    "save_data(\"cora\", **data)"
   ]
  },
  {
   "cell_type": "markdown",
   "metadata": {},
   "source": [
    "## Task"
   ]
  },
  {
   "cell_type": "code",
   "execution_count": 4,
   "metadata": {},
   "outputs": [],
   "source": [
    "train_set = graph.ndata[\"train_mask\"].nonzero().squeeze().numpy()\n",
    "val_set = graph.ndata[\"val_mask\"].nonzero().squeeze().numpy()\n",
    "test_set = graph.ndata[\"test_mask\"].nonzero().squeeze().numpy()"
   ]
  },
  {
   "cell_type": "code",
   "execution_count": 5,
   "metadata": {},
   "outputs": [
    {
     "name": "stdout",
     "output_type": "stream",
     "text": [
      "Save all dense arrays to cora_task.npz, including ['train', 'val', 'test']\n"
     ]
    }
   ],
   "source": [
    "task_data = {\n",
    "    \"train\": train_set,\n",
    "    \"val\": val_set,\n",
    "    \"test\": test_set\n",
    "}\n",
    "save_data(\"cora_task\", **task_data)"
   ]
  }
 ],
 "metadata": {
  "kernelspec": {
   "display_name": "Python 3.8.13 ('gli')",
   "language": "python",
   "name": "python3"
  },
  "language_info": {
   "codemirror_mode": {
    "name": "ipython",
    "version": 3
   },
   "file_extension": ".py",
   "mimetype": "text/x-python",
   "name": "python",
   "nbconvert_exporter": "python",
   "pygments_lexer": "ipython3",
   "version": "3.8.13"
  },
  "orig_nbformat": 4,
  "vscode": {
   "interpreter": {
    "hash": "6d44b81210f2b1cc6f5cbf794116c1ed3b756872db4baf49235947e0f03609f1"
   }
  }
 },
 "nbformat": 4,
 "nbformat_minor": 2
}
