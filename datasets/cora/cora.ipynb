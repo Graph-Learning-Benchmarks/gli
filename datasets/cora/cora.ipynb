{
 "cells": [
  {
   "cell_type": "markdown",
   "metadata": {},
   "source": [
    "# Cora Example"
   ]
  },
  {
   "cell_type": "markdown",
   "metadata": {},
   "source": [
    "## Data"
   ]
  },
  {
   "cell_type": "code",
   "execution_count": 1,
   "metadata": {},
   "outputs": [
    {
     "name": "stdout",
     "output_type": "stream",
     "text": [
      "  NumNodes: 2708\n",
      "  NumEdges: 10556\n",
      "  NumFeats: 1433\n",
      "  NumClasses: 7\n",
      "  NumTrainingSamples: 140\n",
      "  NumValidationSamples: 500\n",
      "  NumTestSamples: 1000\n",
      "Done loading data from cached files.\n"
     ]
    }
   ],
   "source": [
    "import json\n",
    "import numpy as np\n",
    "import torch\n",
    "import scipy.sparse as sparse\n",
    "from dgl.data import CoraGraphDataset\n",
    "\n",
    "dataset = CoraGraphDataset()\n",
    "graph = dataset[0]"
   ]
  },
  {
   "cell_type": "markdown",
   "metadata": {},
   "source": [
    "We can save the data file in only one file `cora.npz`."
   ]
  },
  {
   "cell_type": "code",
   "execution_count": 2,
   "metadata": {},
   "outputs": [
    {
     "name": "stdout",
     "output_type": "stream",
     "text": [
      "(10556, 2)\n"
     ]
    }
   ],
   "source": [
    "# node features\n",
    "node_feats = sparse.csr_matrix(graph.ndata[\"feat\"].numpy())\n",
    "# node labels\n",
    "node_class = graph.ndata[\"label\"].numpy()  # (2708,)\n",
    "# edge list\n",
    "edge = torch.stack(graph.edges()).numpy().T\n",
    "print(edge.shape)"
   ]
  },
  {
   "cell_type": "code",
   "execution_count": 3,
   "metadata": {},
   "outputs": [],
   "source": [
    "from gli.io import save_graph, Attribute\n",
    "\n",
    "node_attrs = [\n",
    "    Attribute(\n",
    "        \"NodeFeature\",\n",
    "        node_feats,\n",
    "        \"Node features of Cora dataset, 1/0-valued vectors.\",\n",
    "        \"int\",\n",
    "        \"SparseTensor\",\n",
    "    ),\n",
    "    Attribute(\n",
    "        \"NodeLabel\",\n",
    "        node_class,\n",
    "        \"Node labels of Cora dataset, int ranged from 1 to 7.\",\n",
    "        \"int\",\n",
    "        \"Tensor\",\n",
    "    )\n",
    "]\n",
    "\n",
    "metadata = save_graph(\n",
    "    name=\"cora\",\n",
    "    edge=edge,\n",
    "    num_nodes=graph.num_nodes(),\n",
    "    node_attrs=node_attrs,\n",
    "    description=\"CORA dataset.\",\n",
    "    cite=\n",
    "    \"@inproceedings{yang2016revisiting,\\ntitle={Revisiting semi-supervised learning with graph embeddings},\\nauthor={Yang, Zhilin and Cohen, William and Salakhudinov, Ruslan},\\nbooktitle={International conference on machine learning},\\npages={40--48},\\nyear={2016},\\norganization={PMLR}\\n}\",\n",
    ")"
   ]
  },
  {
   "cell_type": "markdown",
   "metadata": {},
   "source": [
    "The metadata.json and graph data (.npz files) is now saved in the current directory."
   ]
  },
  {
   "cell_type": "code",
   "execution_count": 4,
   "metadata": {},
   "outputs": [
    {
     "name": "stdout",
     "output_type": "stream",
     "text": [
      "{\n",
      "  \"description\": \"CORA dataset.\",\n",
      "  \"data\": {\n",
      "    \"Node\": {\n",
      "      \"NodeFeature\": {\n",
      "        \"description\": \"Node features of Cora dataset, 1/0-valued vectors.\",\n",
      "        \"type\": \"int\",\n",
      "        \"format\": \"SparseTensor\",\n",
      "        \"file\": \"cora__graph__Node_NodeFeature__7032c9c380d1889061dcbbcd76b8c427.sparse.npz\"\n",
      "      },\n",
      "      \"NodeLabel\": {\n",
      "        \"description\": \"Node labels of Cora dataset, int ranged from 1 to 7.\",\n",
      "        \"type\": \"int\",\n",
      "        \"format\": \"Tensor\",\n",
      "        \"file\": \"cora__graph__6c912909fa18eff10797210ea5e485fe.npz\",\n",
      "        \"key\": \"Node_NodeLabel\"\n",
      "      }\n",
      "    },\n",
      "    \"Edge\": {\n",
      "      \"_Edge\": {\n",
      "        \"file\": \"cora__graph__6c912909fa18eff10797210ea5e485fe.npz\",\n",
      "        \"key\": \"Edge_Edge\"\n",
      "      }\n",
      "    },\n",
      "    \"Graph\": {\n",
      "      \"_NodeList\": {\n",
      "        \"file\": \"cora__graph__Graph_NodeList__23bbef862fd6037395412eb03b4e1d9c.sparse.npz\"\n",
      "      }\n",
      "    }\n",
      "  },\n",
      "  \"citation\": \"@inproceedings{yang2016revisiting,\\ntitle={Revisiting semi-supervised learning with graph embeddings},\\nauthor={Yang, Zhilin and Cohen, William and Salakhudinov, Ruslan},\\nbooktitle={International conference on machine learning},\\npages={40--48},\\nyear={2016},\\norganization={PMLR}\\n}\",\n",
      "  \"is_heterogeneous\": false\n",
      "}\n"
     ]
    }
   ],
   "source": [
    "# Print metadata\n",
    "print(json.dumps(metadata, indent=2))"
   ]
  },
  {
   "cell_type": "markdown",
   "metadata": {},
   "source": [
    "## Task"
   ]
  },
  {
   "cell_type": "code",
   "execution_count": 5,
   "metadata": {},
   "outputs": [],
   "source": [
    "train_set = graph.ndata[\"train_mask\"].nonzero().squeeze().numpy()\n",
    "val_set = graph.ndata[\"val_mask\"].nonzero().squeeze().numpy()\n",
    "test_set = graph.ndata[\"test_mask\"].nonzero().squeeze().numpy()"
   ]
  },
  {
   "cell_type": "code",
   "execution_count": 6,
   "metadata": {},
   "outputs": [],
   "source": [
    "from gli.io import save_task_node_classification\n",
    "\n",
    "task_data = save_task_node_classification(\n",
    "    name=\"cora\",\n",
    "    description=\"Node classification on CORA dataset. Planetoid split.\",\n",
    "    feature=[\"Node/NodeFeature\"],\n",
    "    target=\"Node/NodeLabel\",\n",
    "    num_classes=7,\n",
    "    train_set=train_set,\n",
    "    val_set=val_set,\n",
    "    test_set=test_set,\n",
    "    task_id=\"1\"\n",
    ")"
   ]
  },
  {
   "cell_type": "markdown",
   "metadata": {},
   "source": [
    "The task data (.json and .npz files) is now saved in the current directory."
   ]
  },
  {
   "cell_type": "code",
   "execution_count": 7,
   "metadata": {},
   "outputs": [
    {
     "name": "stdout",
     "output_type": "stream",
     "text": [
      "{\n",
      "  \"description\": \"Node classification on CORA dataset. Planetoid split.\",\n",
      "  \"type\": \"NodeClassification\",\n",
      "  \"feature\": [\n",
      "    \"Node/NodeFeature\"\n",
      "  ],\n",
      "  \"target\": \"Node/NodeLabel\",\n",
      "  \"num_classes\": 7,\n",
      "  \"train_set\": {\n",
      "    \"file\": \"cora__task_node_classification_1__41e167258678b585872679839ce9c40f.npz\",\n",
      "    \"key\": \"train_set\"\n",
      "  },\n",
      "  \"val_set\": {\n",
      "    \"file\": \"cora__task_node_classification_1__41e167258678b585872679839ce9c40f.npz\",\n",
      "    \"key\": \"val_set\"\n",
      "  },\n",
      "  \"test_set\": {\n",
      "    \"file\": \"cora__task_node_classification_1__41e167258678b585872679839ce9c40f.npz\",\n",
      "    \"key\": \"test_set\"\n",
      "  }\n",
      "}\n"
     ]
    }
   ],
   "source": [
    "print(json.dumps(task_data, indent=2))"
   ]
  },
  {
   "cell_type": "markdown",
   "metadata": {},
   "source": [
    "Test loading the data."
   ]
  },
  {
   "cell_type": "code",
   "execution_count": 8,
   "metadata": {},
   "outputs": [
    {
     "name": "stdout",
     "output_type": "stream",
     "text": [
      "CORA dataset.\n",
      "Node classification on CORA dataset. Planetoid split.\n"
     ]
    },
    {
     "name": "stderr",
     "output_type": "stream",
     "text": [
      "/Users/jimmy/Projects/Private/gli/gli/utils.py:254: UserWarning: Sparse CSR tensor support is in beta state. If you miss a functionality in the sparse tensor support, please submit a feature request to https://github.com/pytorch/pytorch/issues. (Triggered internally at /Users/runner/work/pytorch/pytorch/pytorch/aten/src/ATen/SparseCsrTensorImpl.cpp:56.)\n",
      "  return torch.sparse_csr_tensor(crow_indices,\n"
     ]
    },
    {
     "data": {
      "text/plain": [
       "Graph(num_nodes=2708, num_edges=10556,\n",
       "      ndata_schemes={'NodeFeature': Scheme(shape=(1433,), dtype=torch.float32), 'NodeLabel': Scheme(shape=(), dtype=torch.int64), 'train_mask': Scheme(shape=(), dtype=torch.bool), 'val_mask': Scheme(shape=(), dtype=torch.bool), 'test_mask': Scheme(shape=(), dtype=torch.bool)}\n",
       "      edata_schemes={})"
      ]
     },
     "execution_count": 8,
     "metadata": {},
     "output_type": "execute_result"
    }
   ],
   "source": [
    "from gli.dataloading import read_gli_graph, read_gli_task, combine_graph_and_task\n",
    "\n",
    "g = read_gli_graph(\"./metadata.json\")\n",
    "t = read_gli_task(\"./task_node_classification_1.json\")\n",
    "data = combine_graph_and_task(g, t)\n",
    "data[0]"
   ]
  },
  {
   "cell_type": "markdown",
   "metadata": {},
   "source": [
    "After adding LICENSE and README.md, the dataset directory will be the following."
   ]
  },
  {
   "cell_type": "code",
   "execution_count": 9,
   "metadata": {},
   "outputs": [
    {
     "name": "stdout",
     "output_type": "stream",
     "text": [
      "\u001b[1;36m.\u001b[00m\n",
      "├── LICENSE\n",
      "├── README.md\n",
      "├── cora.ipynb\n",
      "├── cora__graph__6c912909fa18eff10797210ea5e485fe.npz\n",
      "├── cora__graph__Graph_NodeList__23bbef862fd6037395412eb03b4e1d9c.sparse.npz\n",
      "├── cora__graph__Node_NodeFeature__7032c9c380d1889061dcbbcd76b8c427.sparse.npz\n",
      "├── cora__task_node_classification_1__41e167258678b585872679839ce9c40f.npz\n",
      "├── metadata.json\n",
      "└── task_node_classification_1.json\n",
      "\n",
      "0 directories, 9 files\n"
     ]
    }
   ],
   "source": [
    "!tree ."
   ]
  }
 ],
 "metadata": {
  "kernelspec": {
   "display_name": "Python 3.8.13 ('gli')",
   "language": "python",
   "name": "python3"
  },
  "language_info": {
   "codemirror_mode": {
    "name": "ipython",
    "version": 3
   },
   "file_extension": ".py",
   "mimetype": "text/x-python",
   "name": "python",
   "nbconvert_exporter": "python",
   "pygments_lexer": "ipython3",
   "version": "3.8.13"
  },
  "orig_nbformat": 4,
  "vscode": {
   "interpreter": {
    "hash": "6d44b81210f2b1cc6f5cbf794116c1ed3b756872db4baf49235947e0f03609f1"
   }
  }
 },
 "nbformat": 4,
 "nbformat_minor": 2
}
