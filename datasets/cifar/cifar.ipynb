{
 "cells": [
  {
   "cell_type": "code",
   "execution_count": 1,
   "metadata": {},
   "outputs": [],
   "source": [
    "import numpy as np\n",
    "import torch\n",
    "import pickle\n",
    "import time\n",
    "import os\n",
    "%matplotlib inline\n",
    "import matplotlib.pyplot as plt\n"
   ]
  },
  {
   "cell_type": "code",
   "execution_count": 2,
   "metadata": {},
   "outputs": [
    {
     "name": "stdout",
     "output_type": "stream",
     "text": [
      "downloading..\n",
      "zsh:1: no matches found: https://www.dropbox.com/s/y2qwa77a0fxem47/superpixels.zip?dl=1\n",
      "unzip:  cannot find or open superpixels.zip, superpixels.zip.zip or superpixels.zip.ZIP.\n"
     ]
    }
   ],
   "source": [
    "if not os.path.isfile('superpixels.zip'):\n",
    "    print('downloading..')\n",
    "    !curl https://www.dropbox.com/s/y2qwa77a0fxem47/superpixels.zip?dl=1 -o superpixels.zip -J -L -k\n",
    "    !unzip superpixels.zip -d ../\n",
    "    # !tar -xvf superpixels.zip -C ../\n",
    "else:\n",
    "    print('File already downloaded')"
   ]
  },
  {
   "cell_type": "code",
   "execution_count": 3,
   "metadata": {},
   "outputs": [
    {
     "name": "stdout",
     "output_type": "stream",
     "text": [
      "/Users/tuyiwen/Desktop/gli/datasets/cifar\n"
     ]
    }
   ],
   "source": [
    "import os\n",
    "\n",
    "print(os.getcwd())"
   ]
  },
  {
   "cell_type": "code",
   "execution_count": 4,
   "metadata": {},
   "outputs": [
    {
     "name": "stderr",
     "output_type": "stream",
     "text": [
      "Using backend: pytorch\n",
      "WARNING:root:The OGB package is out of date. Your version is 1.3.3, while the latest version is 1.3.4.\n"
     ]
    }
   ],
   "source": [
    "import pickle\n",
    "\n",
    "%load_ext autoreload\n",
    "%autoreload 2\n",
    "\n",
    "from data.superpixels import SuperPixDatasetDGL \n",
    "\n",
    "from data.data import LoadData\n",
    "from torch.utils.data import DataLoader\n",
    "from data.superpixels import SuperPixDataset"
   ]
  },
  {
   "cell_type": "code",
   "execution_count": 5,
   "metadata": {},
   "outputs": [
    {
     "name": "stdout",
     "output_type": "stream",
     "text": [
      "Adj matrix defined from super-pixel locations (only)\n",
      "preparing 10000 graphs for the TEST set...\n"
     ]
    },
    {
     "name": "stderr",
     "output_type": "stream",
     "text": [
      "/Users/tuyiwen/Library/Python/3.8/lib/python/site-packages/dgl/base.py:45: DGLWarning: Recommend creating graphs by `dgl.graph(data)` instead of `dgl.DGLGraph(data)`.\n",
      "  return warnings.warn(message, category=category, stacklevel=1)\n"
     ]
    },
    {
     "name": "stdout",
     "output_type": "stream",
     "text": [
      "preparing 50000 graphs for the TRAIN set...\n",
      "[I] Data load time: 2126.8937s\n",
      "Time (sec): 2126.9006509780884\n"
     ]
    }
   ],
   "source": [
    "start = time.time()\n",
    "\n",
    "DATASET_NAME = 'CIFAR10'\n",
    "dataset = SuperPixDatasetDGL(DATASET_NAME) \n",
    "\n",
    "print('Time (sec):',time.time() - start) # 636s=10min"
   ]
  },
  {
   "cell_type": "code",
   "execution_count": 6,
   "metadata": {},
   "outputs": [
    {
     "name": "stdout",
     "output_type": "stream",
     "text": [
      "45000\n",
      "5000\n",
      "10000\n",
      "(Graph(num_nodes=110, num_edges=880,\n",
      "      ndata_schemes={'feat': Scheme(shape=(5,), dtype=torch.float16)}\n",
      "      edata_schemes={'feat': Scheme(shape=(1,), dtype=torch.float16)}), tensor(6))\n",
      "(Graph(num_nodes=123, num_edges=984,\n",
      "      ndata_schemes={'feat': Scheme(shape=(5,), dtype=torch.float16)}\n",
      "      edata_schemes={'feat': Scheme(shape=(1,), dtype=torch.float16)}), tensor(6))\n",
      "(Graph(num_nodes=118, num_edges=944,\n",
      "      ndata_schemes={'feat': Scheme(shape=(5,), dtype=torch.float16)}\n",
      "      edata_schemes={'feat': Scheme(shape=(1,), dtype=torch.float16)}), tensor(3))\n"
     ]
    }
   ],
   "source": [
    "print(len(dataset.train))\n",
    "print(len(dataset.val))\n",
    "print(len(dataset.test))\n",
    "\n",
    "print(dataset.train[0])\n",
    "print(dataset.val[0])\n",
    "print(dataset.test[0])"
   ]
  },
  {
   "cell_type": "code",
   "execution_count": 7,
   "metadata": {},
   "outputs": [],
   "source": [
    "train_idx=np.arange(0,45000,1)\n",
    "valid_idx=np.arange(45000,50000,1)\n",
    "test_idx=np.arange(50000,60000,1)"
   ]
  },
  {
   "cell_type": "code",
   "execution_count": 8,
   "metadata": {},
   "outputs": [],
   "source": [
    "task_data = {\n",
    "    \"train\": train_idx,\n",
    "    \"val\": valid_idx,\n",
    "    \"test\": test_idx\n",
    "}\n",
    "np.savez_compressed(\"graph_classification_1.npz\", **task_data)"
   ]
  },
  {
   "cell_type": "code",
   "execution_count": 9,
   "metadata": {},
   "outputs": [
    {
     "name": "stderr",
     "output_type": "stream",
     "text": [
      "100%|██████████| 45000/45000 [00:15<00:00, 2951.58it/s]\n",
      "100%|██████████| 5000/5000 [00:02<00:00, 1768.01it/s]\n",
      "100%|██████████| 10000/10000 [00:03<00:00, 2555.88it/s]\n"
     ]
    }
   ],
   "source": [
    "from tqdm import tqdm\n",
    "node_list = []\n",
    "labels = []\n",
    "edges = []\n",
    "edge_feats = []\n",
    "node_feats = []\n",
    "num_nodes = 0\n",
    "for g, label in tqdm(dataset.train):\n",
    "    node_list.append(np.arange(g.num_nodes()) + num_nodes)  # All the nodes are considered in a single graph\n",
    "    \n",
    "    labels.append(label)\n",
    "    edges.append(np.stack([g.edges()[0],g.edges()[1]]).T + num_nodes)\n",
    "    edge_feats.append(np.array(g.edata['feat']))\n",
    "    node_feats.append(np.array(g.ndata['feat']))\n",
    "    num_nodes += g.num_nodes()\n",
    "for g, label in tqdm(dataset.val):\n",
    "    node_list.append(np.arange(g.num_nodes()) + num_nodes)  # All the nodes are considered in a single graph\n",
    "    labels.append(label)\n",
    "    edges.append(np.stack([g.edges()[0],g.edges()[1]]).T + num_nodes)\n",
    "    edge_feats.append(np.array(g.edata['feat']))\n",
    "    node_feats.append(np.array(g.ndata['feat']))\n",
    "    num_nodes += g.num_nodes()\n",
    "for g, label in tqdm(dataset.test):\n",
    "    node_list.append(np.arange(g.num_nodes()) + num_nodes)  # All the nodes are considered in a single graph\n",
    "\n",
    "\n",
    "    labels.append(label)\n",
    "    edges.append(np.stack([g.edges()[0],g.edges()[1]]).T + num_nodes)\n",
    "    edge_feats.append(np.array(g.edata['feat']))\n",
    "    node_feats.append(np.array(g.ndata['feat']))\n",
    "    num_nodes += g.num_nodes()"
   ]
  },
  {
   "cell_type": "markdown",
   "metadata": {},
   "source": [
    "\n",
    "_edges = np.concatenate(edges, axis=0)\n",
    "_labels = np.stack(labels).squeeze()\n",
    "_edge_feats = np.concatenate(edge_feats)\n",
    "_node_feats = np.concatenate(node_feats)"
   ]
  },
  {
   "cell_type": "code",
   "execution_count": 11,
   "metadata": {},
   "outputs": [],
   "source": [
    "import scipy.sparse as sparse\n",
    "_node_list = sparse.csr_matrix((60000, num_nodes))\n",
    "\n",
    "for i, indices in enumerate(node_list):\n",
    "    _node_list[i, indices] = 1"
   ]
  },
  {
   "cell_type": "code",
   "execution_count": 14,
   "metadata": {},
   "outputs": [],
   "source": [
    "data = {\n",
    "    \"node_feats\": _node_feats,\n",
    "    \"graph_class\": _labels,\n",
    "    \"edge\": _edges,\n",
    "    \"edge_feats\": _edge_feats,\n",
    "    \"node_list\": _node_list,\n",
    "}"
   ]
  },
  {
   "cell_type": "code",
   "execution_count": 13,
   "metadata": {},
   "outputs": [],
   "source": [
    "\n",
    "_edges = np.concatenate(edges, axis=0)\n",
    "_labels = np.stack(labels).squeeze()\n",
    "_edge_feats = np.concatenate(edge_feats)\n",
    "_node_feats = np.concatenate(node_feats)"
   ]
  },
  {
   "cell_type": "code",
   "execution_count": 15,
   "metadata": {},
   "outputs": [],
   "source": [
    "np.savez_compressed(\"mnist.npz\", **data)"
   ]
  },
  {
   "cell_type": "code",
   "execution_count": null,
   "metadata": {},
   "outputs": [],
   "source": []
  }
 ],
 "metadata": {
  "kernelspec": {
   "display_name": "Python 3.8.9 64-bit",
   "language": "python",
   "name": "python3"
  },
  "language_info": {
   "codemirror_mode": {
    "name": "ipython",
    "version": 3
   },
   "file_extension": ".py",
   "mimetype": "text/x-python",
   "name": "python",
   "nbconvert_exporter": "python",
   "pygments_lexer": "ipython3",
   "version": "3.8.9"
  },
  "orig_nbformat": 4,
  "vscode": {
   "interpreter": {
    "hash": "31f2aee4e71d21fbe5cf8b01ff0e069b9275f58929596ceb00d14d90e3e16cd6"
   }
  }
 },
 "nbformat": 4,
 "nbformat_minor": 2
}
