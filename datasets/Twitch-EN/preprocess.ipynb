{
  "nbformat": 4,
  "nbformat_minor": 0,
  "metadata": {
    "colab": {
      "provenance": []
    },
    "kernelspec": {
      "name": "python3",
      "display_name": "Python 3"
    },
    "language_info": {
      "name": "python"
    }
  },
  "cells": [
    {
      "cell_type": "code",
      "execution_count": 1,
      "metadata": {
        "colab": {
          "base_uri": "https://localhost:8080/"
        },
        "id": "Ai7MLcJugTc2",
        "outputId": "1156a127-1581-43a6-e575-f9a548a9b1e1"
      },
      "outputs": [
        {
          "output_type": "stream",
          "name": "stdout",
          "text": [
            "Cloning into 'MUSAE'...\n",
            "remote: Enumerating objects: 672, done.\u001b[K\n",
            "remote: Counting objects: 100% (6/6), done.\u001b[K\n",
            "remote: Compressing objects: 100% (6/6), done.\u001b[K\n",
            "remote: Total 672 (delta 2), reused 0 (delta 0), pack-reused 666\u001b[K\n",
            "Receiving objects: 100% (672/672), 19.88 MiB | 20.99 MiB/s, done.\n",
            "Resolving deltas: 100% (358/358), done.\n"
          ]
        }
      ],
      "source": [
        "!git clone https://github.com/benedekrozemberczki/MUSAE.git"
      ]
    },
    {
      "cell_type": "code",
      "source": [
        "import csv\n",
        "import json\n",
        "import networkx as nx\n",
        "import numpy as np\n",
        "import torch\n",
        "from scipy.sparse import csr_matrix"
      ],
      "metadata": {
        "id": "6U9B5Xmvg1Ne"
      },
      "execution_count": 4,
      "outputs": []
    },
    {
      "cell_type": "code",
      "source": [
        "dir = [\"DE\", \"ENGB\", \"ES\", \"FR\", \"PTBR\", \"RU\"]\n",
        "\n",
        "# for dataset\n",
        "\n",
        "for dataset in dir:\n",
        "\n",
        "    output_npz = {}\n",
        "\n",
        "    with open(\"MUSAE/input/edges/\" + dataset + \"_edges.csv\") as f2:\n",
        "        csvreader = csv.reader(f2)\n",
        "        next(csvreader)\n",
        "        dic = []\n",
        "        for row in csvreader:\n",
        "            scr = row[0]\n",
        "            dst = row[1]\n",
        "            dic.append([int(scr), int(dst)])\n",
        "\n",
        "        G = nx.Graph(dic)\n",
        "        edges = np.array(dic)\n",
        "\n",
        "        output_npz['edge'] = edges\n",
        "\n",
        "        # labels: use \"mature\" as label for now\n",
        "        node_num = G.number_of_nodes()\n",
        "        print(dataset)\n",
        "        print(\"number of nodes\", node_num)\n",
        "        print(\"number of edges\", G.number_of_edges())\n",
        "        labels = [0] * node_num\n",
        "    \n",
        "        with open(\"MUSAE/input/target/\" + dataset+ \"_target.csv\") as f3:\n",
        "            csvreader = csv.reader(f3)\n",
        "            next(csvreader)\n",
        "            dic = []\n",
        "            for row in csvreader:\n",
        "                node = row[5]\n",
        "                if row[2] == 'True':\n",
        "                    label = 1\n",
        "                elif row[2] == 'False':\n",
        "                    label = 0\n",
        "                else:\n",
        "                    print(\"label wrong!!!!\")\n",
        "    \n",
        "                labels[int(node)] = int(label)\n",
        "    \n",
        "        output_npz['node_class'] = labels\n",
        "    \n",
        "        # features\n",
        "        row1 = []\n",
        "        col1 = []\n",
        "        val1 = []\n",
        "        f = open(\"MUSAE/input/features/\" + dataset + \".json\")\n",
        "        data = json.load(f)\n",
        "        for node in data:\n",
        "            for feats in data[node]:\n",
        "                row1.append(int(node))\n",
        "                col1.append(int(feats))\n",
        "                val1.append(1)\n",
        "        \n",
        "        features = csr_matrix((val1, (row1, col1)), shape=(node_num, 3170))\n",
        "    \n",
        "        output_npz['node_feats'] = features\n",
        "    \n",
        "        # node list\n",
        "        output_npz['node_list'] = torch.from_numpy(np.ones(node_num))\n",
        "    \n",
        "    np.savez(\"Twitch-\" + dataset[:2] + \".npz\", **output_npz, allow_pickle=True)\n",
        "    \n",
        "    test_load = np.load(\"Twitch-\" + dataset[:2] + \".npz\")\n",
        "\n",
        "    "
      ],
      "metadata": {
        "colab": {
          "base_uri": "https://localhost:8080/"
        },
        "id": "XiIATJWmg8fy",
        "outputId": "099737e2-dbd5-4769-8dce-4802150cf0eb"
      },
      "execution_count": 7,
      "outputs": [
        {
          "output_type": "stream",
          "name": "stdout",
          "text": [
            "DE\n",
            "number of nodes 9498\n",
            "number of edges 153138\n",
            "ENGB\n",
            "number of nodes 7126\n",
            "number of edges 35324\n",
            "ES\n",
            "number of nodes 4648\n",
            "number of edges 59382\n",
            "FR\n",
            "number of nodes 6549\n",
            "number of edges 112666\n",
            "PTBR\n",
            "number of nodes 1912\n",
            "number of edges 31299\n",
            "RU\n",
            "number of nodes 4385\n",
            "number of edges 37304\n"
          ]
        }
      ]
    },
    {
      "cell_type": "code",
      "source": [],
      "metadata": {
        "id": "ti27LHPRibrI"
      },
      "execution_count": null,
      "outputs": []
    }
  ]
}