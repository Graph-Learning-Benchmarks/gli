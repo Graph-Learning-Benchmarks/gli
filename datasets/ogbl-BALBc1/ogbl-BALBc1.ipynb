{
 "cells": [
  {
   "cell_type": "markdown",
   "metadata": {},
   "source": [
    "# VesselGraph / ogbl-BALBc1"
   ]
  },
  {
   "cell_type": "markdown",
   "metadata": {},
   "source": [
    "## Data (OGB dataloader)"
   ]
  },
  {
   "cell_type": "code",
   "execution_count": 1,
   "metadata": {},
   "outputs": [
    {
     "name": "stderr",
     "output_type": "stream",
     "text": [
      "WARNING:root:The OGB package is out of date. Your version is 1.3.1, while the latest version is 1.3.3.\n"
     ]
    }
   ],
   "source": [
    "from source.ogb.linkproppred import *\n",
    "import numpy as np\n",
    "\n",
    "data = LinkPropPredDataset(name='ogbl-BALBc_no1_spatial_edge_attr')\n"
   ]
  },
  {
   "cell_type": "code",
   "execution_count": 15,
   "metadata": {},
   "outputs": [
    {
     "name": "stdout",
     "output_type": "stream",
     "text": [
      "edge_index\n",
      "[[      0       1       2 ... 3538494 3538494 3538494]\n",
      " [ 278560       3  249900 ... 3538486 3538490 3538492]]\n",
      "edge_feat\n",
      "[[182.464    167.946      4.0269     0.493999   1.08644 ]\n",
      " [  9.98625    6.7082     2.06331    0.315612   1.48866 ]\n",
      " [  2.48805    2.44949    4.82482    0.433435   1.01574 ]\n",
      " ...\n",
      " [  9.16001    9.04926    2.49044    0.45713    1.01224 ]\n",
      " [ 10.8936     9.40043    6.12633    0.310315   1.15884 ]\n",
      " [  3.18663    3.14469    2.7655     0.562911   1.01333 ]]\n",
      "node_feat\n",
      "[[2.93200e+03 3.47700e+03 0.00000e+00 1.00000e+00 1.00000e+00]\n",
      " [2.91600e+03 3.50900e+03 0.00000e+00 1.00000e+00 1.00000e+00]\n",
      " [2.92900e+03 3.51400e+03 0.00000e+00 1.00000e+00 1.00000e+00]\n",
      " ...\n",
      " [9.90000e+02 2.19200e+03 1.86500e+03 2.00000e+00 0.00000e+00]\n",
      " [9.57000e+02 2.19600e+03 1.86500e+03 3.00000e+00 0.00000e+00]\n",
      " [9.92667e+02 2.19100e+03 1.86633e+03 3.00000e+00 0.00000e+00]]\n",
      "num_nodes\n",
      "3538495\n"
     ]
    }
   ],
   "source": [
    "#print(len(data))\n",
    "whole_dataset = data[0]\n",
    "#print(whole_dataset)\n",
    "\n",
    "for key, value in whole_dataset.items() :\n",
    "    print(key)\n",
    "    print(value)"
   ]
  },
  {
   "cell_type": "code",
   "execution_count": 16,
   "metadata": {},
   "outputs": [],
   "source": [
    "node_list = np.ones((1, whole_dataset['num_nodes']))\n",
    "node_feats = whole_dataset['node_feat']\n",
    "edge_list = np.ones((1, len(whole_dataset['edge_feat'])))\n",
    "edge_feats = whole_dataset['edge_feat']\n",
    "edge = whole_dataset['edge_index']"
   ]
  },
  {
   "cell_type": "code",
   "execution_count": 4,
   "metadata": {},
   "outputs": [],
   "source": [
    "final_data = {\n",
    "    \"node_list\": node_list,\n",
    "    \"node_feats\": node_feats,\n",
    "    \"edge\": edge,\n",
    "    \"edge_list\": edge_list,\n",
    "    \"edge_feats\": edge_feats\n",
    "}"
   ]
  },
  {
   "cell_type": "code",
   "execution_count": null,
   "metadata": {},
   "outputs": [],
   "source": [
    "np.savez_compressed('obgl-BALBc1.npz', **final_data)"
   ]
  },
  {
   "cell_type": "markdown",
   "metadata": {},
   "source": [
    "## Task"
   ]
  },
  {
   "cell_type": "code",
   "execution_count": 5,
   "metadata": {},
   "outputs": [],
   "source": [
    "split_edge = data.get_edge_split()\n",
    "train = split_edge['train']\n",
    "validation = split_edge['valid']\n",
    "test = split_edge['test']"
   ]
  },
  {
   "cell_type": "code",
   "execution_count": 6,
   "metadata": {},
   "outputs": [],
   "source": [
    "edge_ids = {}\n",
    "for count, e in enumerate(edge[0]):\n",
    "    edge_ids[(e, edge[1][count])] = count"
   ]
  },
  {
   "cell_type": "code",
   "execution_count": 17,
   "metadata": {},
   "outputs": [],
   "source": [
    "train_pos = []\n",
    "for elt in train['edge']:\n",
    "    i = elt.numpy()\n",
    "    train_pos.append([i[0], edge_ids[tuple(i)], i[1]])"
   ]
  },
  {
   "cell_type": "code",
   "execution_count": 29,
   "metadata": {},
   "outputs": [],
   "source": [
    "task_data = {\n",
    "    \"train_pos\": train_pos,\n",
    "    \"train_neg\": train['edge_neg'].numpy(),\n",
    "    \"validation\": validation['edge'].numpy(),\n",
    "    \"validation_neg\": validation['edge_neg'].numpy(),\n",
    "    \"test\": test['edge'].numpy(),\n",
    "    \"test_neg\": test['edge_neg'].numpy()\n",
    "}"
   ]
  },
  {
   "cell_type": "code",
   "execution_count": null,
   "metadata": {},
   "outputs": [],
   "source": [
    "np.savez_compressed('ogbl-BALBc1_link_prediction.npz', **task_data)"
   ]
  }
 ],
 "metadata": {
  "kernelspec": {
   "display_name": "Python 3.9.7 64-bit",
   "language": "python",
   "name": "python3"
  },
  "language_info": {
   "codemirror_mode": {
    "name": "ipython",
    "version": 3
   },
   "file_extension": ".py",
   "mimetype": "text/x-python",
   "name": "python",
   "nbconvert_exporter": "python",
   "pygments_lexer": "ipython3",
   "version": "3.9.7"
  },
  "orig_nbformat": 4,
  "vscode": {
   "interpreter": {
    "hash": "aee8b7b246df8f9039afb4144a1f6fd8d2ca17a180786b69acc140d282b71a49"
   }
  }
 },
 "nbformat": 4,
 "nbformat_minor": 2
}
