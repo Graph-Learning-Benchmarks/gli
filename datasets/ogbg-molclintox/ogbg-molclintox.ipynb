{
 "cells": [
  {
   "cell_type": "code",
   "execution_count": 1,
   "metadata": {},
   "outputs": [
    {
     "name": "stderr",
     "output_type": "stream",
     "text": [
      "/home/jimmyzxj/miniconda3/envs/gli_env/lib/python3.8/site-packages/tqdm/auto.py:22: TqdmWarning: IProgress not found. Please update jupyter and ipywidgets. See https://ipywidgets.readthedocs.io/en/stable/user_install.html\n",
      "  from .autonotebook import tqdm as notebook_tqdm\n"
     ]
    }
   ],
   "source": [
    "import json\n",
    "import numpy as np\n",
    "import torch\n",
    "import scipy.sparse as sparse\n",
    "from ogb.graphproppred import GraphPropPredDataset\n",
    "from torch_geometric.loader import DataLoader\n",
    "\n",
    "# Download and process data at './dataset/ogbg_molclintox/'\n",
    "dataset = GraphPropPredDataset(name = 'ogbg-molclintox')\n",
    "\n",
    "\n",
    "split_idx = dataset.get_idx_split()\n",
    "train_idx, valid_idx, test_idx = split_idx[\"train\"], split_idx[\"valid\"], split_idx[\"test\"]"
   ]
  },
  {
   "cell_type": "code",
   "execution_count": 2,
   "metadata": {},
   "outputs": [
    {
     "name": "stdout",
     "output_type": "stream",
     "text": [
      "dict_keys(['edge_index', 'edge_feat', 'node_feat', 'num_nodes'])\n"
     ]
    }
   ],
   "source": [
    "print(dataset[0][0].keys())"
   ]
  },
  {
   "cell_type": "code",
   "execution_count": 3,
   "metadata": {},
   "outputs": [],
   "source": [
    "from tqdm import tqdm\n",
    "node_list = []\n",
    "labels = []\n",
    "edges = []\n",
    "edge_feats = []\n",
    "node_feats = []\n",
    "num_nodes = 0"
   ]
  },
  {
   "cell_type": "code",
   "execution_count": 4,
   "metadata": {},
   "outputs": [
    {
     "name": "stderr",
     "output_type": "stream",
     "text": [
      "100%|██████████| 1477/1477 [00:00<00:00, 36223.76it/s]\n"
     ]
    }
   ],
   "source": [
    "for g, label in tqdm(dataset):\n",
    "    node_list.append(np.arange(g[\"num_nodes\"]) + num_nodes)  # All the nodes are considered in a single graph\n",
    "    edges.append(np.stack(g[\"edge_index\"]).T + num_nodes)\n",
    "    edge_feats.append(g[\"edge_feat\"])\n",
    "    node_feats.append(g[\"node_feat\"])\n",
    "    labels.append(label)\n",
    "    num_nodes += g[\"num_nodes\"]"
   ]
  },
  {
   "cell_type": "code",
   "execution_count": 5,
   "metadata": {},
   "outputs": [],
   "source": [
    "_edges = np.concatenate(edges, axis=0)\n",
    "_labels = np.stack(labels).squeeze()\n",
    "_edge_feats = np.concatenate(edge_feats)\n",
    "_node_feats = np.concatenate(node_feats)"
   ]
  },
  {
   "cell_type": "code",
   "execution_count": 6,
   "metadata": {},
   "outputs": [
    {
     "name": "stderr",
     "output_type": "stream",
     "text": [
      "/home/jimmyzxj/miniconda3/envs/gli_env/lib/python3.8/site-packages/scipy/sparse/_index.py:146: SparseEfficiencyWarning: Changing the sparsity structure of a csr_matrix is expensive. lil_matrix is more efficient.\n",
      "  self._set_arrayXarray(i, j, x)\n"
     ]
    }
   ],
   "source": [
    "_node_list = sparse.csr_matrix((len(dataset), num_nodes))\n",
    "for i, indices in enumerate(node_list):\n",
    "    _node_list[i, indices] = 1"
   ]
  },
  {
   "cell_type": "code",
   "execution_count": 7,
   "metadata": {},
   "outputs": [
    {
     "name": "stdout",
     "output_type": "stream",
     "text": [
      "Save all dense arrays to ogbg-molclintox.npz, including ['node_feats', 'edge', 'graph_class', 'edge_feats']\n",
      "Save sparse matrix node_list to ogbg-molclintox_node_list.sparse.npz\n"
     ]
    }
   ],
   "source": [
    "from gli.utils import save_data\n",
    "data = {\n",
    "    \"node_feats\": _node_feats,\n",
    "    \"edge\": _edges,\n",
    "    \"graph_class\": _labels,\n",
    "    \"edge_feats\": _edge_feats,\n",
    "    \"node_list\": _node_list,\n",
    "}\n",
    "save_data(\"ogbg-molclintox\", **data)"
   ]
  },
  {
   "cell_type": "code",
   "execution_count": 9,
   "metadata": {},
   "outputs": [
    {
     "name": "stdout",
     "output_type": "stream",
     "text": [
      "Save all dense arrays to ogbg-molclintox_task.npz, including ['train', 'val', 'test']\n"
     ]
    }
   ],
   "source": [
    "task_data={\n",
    "    \"train\" :train_idx,\n",
    "    \"val\" :valid_idx,\n",
    "    \"test\" :test_idx\n",
    "}\n",
    "save_data(\"ogbg-molclintox_task\",**task_data)"
   ]
  },
  {
   "cell_type": "code",
   "execution_count": null,
   "metadata": {},
   "outputs": [],
   "source": []
  }
 ],
 "metadata": {
  "kernelspec": {
   "display_name": "Python 3.8.13 ('gli_env')",
   "language": "python",
   "name": "python3"
  },
  "language_info": {
   "codemirror_mode": {
    "name": "ipython",
    "version": 3
   },
   "file_extension": ".py",
   "mimetype": "text/x-python",
   "name": "python",
   "nbconvert_exporter": "python",
   "pygments_lexer": "ipython3",
   "version": "3.8.13"
  },
  "orig_nbformat": 4,
  "vscode": {
   "interpreter": {
    "hash": "ae89e7fe314a0c3626f099dacf673708e7342e63ae97a5d57520c606700b6535"
   }
  }
 },
 "nbformat": 4,
 "nbformat_minor": 2
}
