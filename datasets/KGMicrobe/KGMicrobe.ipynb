{
 "cells": [
  {
   "cell_type": "code",
   "execution_count": 9,
   "metadata": {},
   "outputs": [],
   "source": [
    "from grape.datasets import get_available_repositories\n",
    "\n",
    "from grape.datasets import get_dataset\n",
    "dataset_generator = get_dataset(\n",
    "    graph_name=\"KGMicrobe\",\n",
    "    repository=\"kghub\"\n",
    ")\n",
    "\n",
    "dataset = dataset_generator()"
   ]
  },
  {
   "cell_type": "code",
   "execution_count": 10,
   "metadata": {},
   "outputs": [],
   "source": [
    "import csv\n",
    "\n",
    "edge = list()\n",
    "edge_class = list()\n",
    "edge_types = list()\n",
    "with open(\"graphs/kghub/KGMicrobe/current/preprocessed/undirected/1a89d82964ea842fc88b4d564b6a456de30db37136e74a21f5fd7d157c2b469f/edge_types.tsv\") as edge_types_file:\n",
    "    tsv_edge_types_file = csv.reader(edge_types_file, delimiter=\"\\t\")\n",
    "    edge_types = [r.rstrip() for r in edge_types_file][1:]\n",
    "\n",
    "with open(\"graphs/kghub/KGMicrobe/current/preprocessed/undirected/1a89d82964ea842fc88b4d564b6a456de30db37136e74a21f5fd7d157c2b469f/edges.tsv\") as edges_file:\n",
    "    for line in edges_file.readlines():\n",
    "        line = line.rstrip().split()\n",
    "        head, tail, type = map(lambda x: int(x), line)\n",
    "        edge.append((head, tail))\n",
    "        edge_class.append(edge_types[type])\n"
   ]
  },
  {
   "cell_type": "code",
   "execution_count": 11,
   "metadata": {},
   "outputs": [],
   "source": [
    "node_name = list()\n",
    "node_class = list()\n",
    "node_types = list()\n",
    "with open(\"graphs/kghub/KGMicrobe/current/preprocessed/undirected/1a89d82964ea842fc88b4d564b6a456de30db37136e74a21f5fd7d157c2b469f/node_types.tsv\") as node_types_file:\n",
    "    tsv_node_types_file = csv.reader(node_types_file, delimiter=\"\\t\")\n",
    "    node_types = [r.rstrip() for r in node_types_file][1:]\n",
    "\n",
    "with open(\"graphs/kghub/KGMicrobe/current/preprocessed/undirected/1a89d82964ea842fc88b4d564b6a456de30db37136e74a21f5fd7d157c2b469f/nodes.tsv\") as nodes_file:\n",
    "    for line in nodes_file.readlines()[1:]:\n",
    "        name, type_s = line.rstrip().split()\n",
    "        type = int(type_s[0])\n",
    "        node_name.append(name)\n",
    "        node_class.append(node_types[type])"
   ]
  },
  {
   "cell_type": "code",
   "execution_count": 12,
   "metadata": {},
   "outputs": [],
   "source": [
    "from grape import Graph\n",
    "kg = Graph.from_csv(\n",
    "    edge_path=\"graphs/kghub/KGMicrobe/current/kg-microbe/merged-kg_edges.tsv\",\n",
    "   sources_column_number=0,\n",
    "   edge_list_edge_types_column_number=1,\n",
    "   destinations_column_number=2,\n",
    "   directed=False,\n",
    "   name=\"kg-microbe\")"
   ]
  },
  {
   "cell_type": "code",
   "execution_count": 13,
   "metadata": {},
   "outputs": [],
   "source": [
    "import numpy as np\n",
    "num_edges = len(edge)\n",
    "edge_list = np.ones((1, num_edges))\n",
    "edge = np.array(edge)\n",
    "edge_class = np.array(edge_class)\n",
    "\n",
    "num_nodes = len(node_name)\n",
    "node_list = np.ones((1, num_nodes))\n",
    "node_name = np.array(node_name)\n",
    "node_class = np.array(node_class)\n",
    "\n",
    "data = {\n",
    "    \"edge\": edge,\n",
    "    \"edge_list\": edge_list,\n",
    "    \"edge_class\": edge_class,\n",
    "    \"node_list\": node_list,\n",
    "    \"node_name\": node_name,\n",
    "    \"node_class\": node_class,\n",
    "}"
   ]
  },
  {
   "cell_type": "code",
   "execution_count": 14,
   "metadata": {},
   "outputs": [
    {
     "name": "stdout",
     "output_type": "stream",
     "text": [
      "Save all dense arrays to KGMicrobe.npz, including ['edge', 'edge_list', 'edge_class', 'node_list', 'node_name', 'node_class']\n"
     ]
    }
   ],
   "source": [
    "from gli.utils import save_data;\n",
    "save_data(\"KGMicrobe\", **data)"
   ]
  },
  {
   "cell_type": "code",
   "execution_count": 15,
   "metadata": {},
   "outputs": [
    {
     "name": "stdout",
     "output_type": "stream",
     "text": [
      "2715139 5937358\n"
     ]
    }
   ],
   "source": [
    "print(num_nodes, num_edges)"
   ]
  }
 ],
 "metadata": {
  "kernelspec": {
   "display_name": "gli",
   "language": "python",
   "name": "python3"
  },
  "language_info": {
   "codemirror_mode": {
    "name": "ipython",
    "version": 3
   },
   "file_extension": ".py",
   "mimetype": "text/x-python",
   "name": "python",
   "nbconvert_exporter": "python",
   "pygments_lexer": "ipython3",
   "version": "3.10.9"
  },
  "orig_nbformat": 4,
  "vscode": {
   "interpreter": {
    "hash": "099ca48a7111a230dae8af0e996c83c1b29a92a064b562a510283637d89baed7"
   }
  }
 },
 "nbformat": 4,
 "nbformat_minor": 2
}
