{
 "cells": [
  {
   "cell_type": "code",
   "execution_count": 3,
   "metadata": {},
   "outputs": [
    {
     "name": "stderr",
     "output_type": "stream",
     "text": [
      "Using backend: pytorch\n"
     ]
    }
   ],
   "source": [
    "from ogb.linkproppred import LinkPropPredDataset\n",
    "\n",
    "dataset = LinkPropPredDataset(name = \"ogbl-ddi\")\n",
    "\n",
    "split_edge = dataset.get_edge_split()\n",
    "train_edge, valid_edge, test_edge = split_edge[\"train\"], split_edge[\"valid\"], split_edge[\"test\"]\n",
    "graph = dataset[0]"
   ]
  },
  {
   "cell_type": "code",
   "execution_count": 11,
   "metadata": {},
   "outputs": [
    {
     "name": "stdout",
     "output_type": "stream",
     "text": [
      "4267\n",
      "2135822\n"
     ]
    }
   ],
   "source": [
    "import numpy as np\n",
    "print(graph['num_nodes'])\n",
    "print(len(np.array(graph['edge_index']).T))\n"
   ]
  },
  {
   "cell_type": "code",
   "execution_count": 5,
   "metadata": {},
   "outputs": [],
   "source": [
    "import numpy as np\n",
    "node_feats = graph['node_feat'] \n",
    "edge = graph['edge_index'].T \n",
    "\n",
    "node_list = np.ones((1, graph['num_nodes']))\n",
    "edge_list = np.ones((1, edge.shape[0]))\n",
    "edge_id = np.arange(0, edge.shape[0])\n",
    "\n",
    "\n",
    "data = {\n",
    "    \"node_feats\": node_feats,\n",
    "    \"edge\": edge,\n",
    "    \"node_list\": node_list,\n",
    "    \"edge_list\": edge_list,\n",
    "    \"edge_id\": edge_id\n",
    "}\n",
    "np.savez_compressed(\"ogbl-ddi.npz\", **data)\n"
   ]
  },
  {
   "cell_type": "code",
   "execution_count": 6,
   "metadata": {},
   "outputs": [],
   "source": [
    "task_data={\n",
    "    \"val_neg\": valid_edge['edge_neg'],\n",
    "    \"test_neg\": test_edge['edge_neg'],\n",
    "    \"train_set\": train_edge,\n",
    "    \"valid_set\": valid_edge,\n",
    "    \"test_set\": test_edge\n",
    "}\n",
    "np.savez_compressed(\"ogbl-ddi_task.npz\", **data)"
   ]
  },
  {
   "cell_type": "code",
   "execution_count": 27,
   "metadata": {},
   "outputs": [],
   "source": []
  }
 ],
 "metadata": {
  "kernelspec": {
   "display_name": "Python 3.8.9 64-bit",
   "language": "python",
   "name": "python3"
  },
  "language_info": {
   "codemirror_mode": {
    "name": "ipython",
    "version": 3
   },
   "file_extension": ".py",
   "mimetype": "text/x-python",
   "name": "python",
   "nbconvert_exporter": "python",
   "pygments_lexer": "ipython3",
   "version": "3.8.9"
  },
  "orig_nbformat": 4,
  "vscode": {
   "interpreter": {
    "hash": "31f2aee4e71d21fbe5cf8b01ff0e069b9275f58929596ceb00d14d90e3e16cd6"
   }
  }
 },
 "nbformat": 4,
 "nbformat_minor": 2
}
