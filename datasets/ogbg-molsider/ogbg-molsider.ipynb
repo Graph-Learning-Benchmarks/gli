{
  "cells": [
    {
      "cell_type": "code",
      "execution_count": 1,
      "metadata": {},
      "outputs": [
        {
          "name": "stderr",
          "output_type": "stream",
          "text": [
            "/home/jimmyzxj/miniconda3/envs/gli_env/lib/python3.8/site-packages/tqdm/auto.py:22: TqdmWarning: IProgress not found. Please update jupyter and ipywidgets. See https://ipywidgets.readthedocs.io/en/stable/user_install.html\n",
            "  from .autonotebook import tqdm as notebook_tqdm\n"
          ]
        },
        {
          "name": "stdout",
          "output_type": "stream",
          "text": [
            "Downloading http://snap.stanford.edu/ogb/data/graphproppred/csv_mol_download/sider.zip\n"
          ]
        },
        {
          "name": "stderr",
          "output_type": "stream",
          "text": [
            "Downloaded 0.00 GB: 100%|██████████| 2/2 [00:00<00:00,  8.88it/s]\n"
          ]
        },
        {
          "name": "stdout",
          "output_type": "stream",
          "text": [
            "Extracting dataset/sider.zip\n",
            "Loading necessary files...\n",
            "This might take a while.\n",
            "Processing graphs...\n"
          ]
        },
        {
          "name": "stderr",
          "output_type": "stream",
          "text": [
            "100%|██████████| 1427/1427 [00:00<00:00, 58579.21it/s]\n"
          ]
        },
        {
          "name": "stdout",
          "output_type": "stream",
          "text": [
            "Saving...\n"
          ]
        }
      ],
      "source": [
        "import json\n",
        "import numpy as np\n",
        "import torch\n",
        "import scipy.sparse as sparse\n",
        "from ogb.graphproppred import GraphPropPredDataset\n",
        "from torch_geometric.loader import DataLoader\n",
        "\n",
        "# Download and process data at './dataset/ogbg_molsider/'\n",
        "\n",
        "dataset = GraphPropPredDataset(name = 'ogbg-molsider')\n",
        "\n",
        "\n",
        "split_idx = dataset.get_idx_split()\n",
        "train_idx, valid_idx, test_idx = split_idx[\"train\"], split_idx[\"valid\"], split_idx[\"test\"]"
      ]
    },
    {
      "cell_type": "code",
      "execution_count": 2,
      "metadata": {},
      "outputs": [
        {
          "name": "stdout",
          "output_type": "stream",
          "text": [
            "dict_keys(['edge_index', 'edge_feat', 'node_feat', 'num_nodes'])\n"
          ]
        }
      ],
      "source": [
        "print(dataset[0][0].keys())"
      ]
    },
    {
      "cell_type": "code",
      "execution_count": 3,
      "metadata": {},
      "outputs": [],
      "source": [
        "from tqdm import tqdm\n",
        "node_list = []\n",
        "labels = []\n",
        "edges = []\n",
        "edge_feats = []\n",
        "node_feats = []\n",
        "num_nodes = 0"
      ]
    },
    {
      "cell_type": "code",
      "execution_count": 4,
      "metadata": {},
      "outputs": [
        {
          "name": "stderr",
          "output_type": "stream",
          "text": [
            "100%|██████████| 1427/1427 [00:00<00:00, 41557.17it/s]\n"
          ]
        }
      ],
      "source": [
        "for g, label in tqdm(dataset):\n",
        "    node_list.append(np.arange(g[\"num_nodes\"]) + num_nodes)  # All the nodes are considered in a single graph\n",
        "    edges.append(np.stack(g[\"edge_index\"]).T + num_nodes)\n",
        "    edge_feats.append(g[\"edge_feat\"])\n",
        "    node_feats.append(g[\"node_feat\"])\n",
        "    labels.append(label)\n",
        "    num_nodes += g[\"num_nodes\"]"
      ]
    },
    {
      "cell_type": "code",
      "execution_count": 5,
      "metadata": {},
      "outputs": [],
      "source": [
        "_edges = np.concatenate(edges, axis=0)\n",
        "_labels = np.stack(labels).squeeze()\n",
        "_edge_feats = np.concatenate(edge_feats)\n",
        "_node_feats = np.concatenate(node_feats)"
      ]
    },
    {
      "cell_type": "code",
      "execution_count": 6,
      "metadata": {},
      "outputs": [],
      "source": [
        "rows = []\n",
        "for r, col in enumerate(node_list):\n",
        "    rows.append(np.ones(len(col)) * r)\n",
        "rows = np.concatenate(rows)\n",
        "data = np.ones_like(rows)\n",
        "cols = np.concatenate(node_list)\n",
        "_node_list = sparse.coo_matrix((data, (rows, cols)), shape=(len(node_list), num_nodes))"
      ]
    },
    {
      "cell_type": "code",
      "execution_count": 7,
      "metadata": {},
      "outputs": [
        {
          "name": "stdout",
          "output_type": "stream",
          "text": [
            "Save all dense arrays to ogbg-molsider.npz, including ['node_feats', 'edge', 'graph_class', 'edge_feats']\n",
            "Save sparse matrix node_list to ogbg-molsider_node_list.sparse.npz\n"
          ]
        }
      ],
      "source": [
        "from gli.utils import save_data\n",
        "data = {\n",
        "    \"node_feats\": _node_feats,\n",
        "    \"edge\": _edges,\n",
        "    \"graph_class\": _labels,\n",
        "    \"edge_feats\": _edge_feats,\n",
        "    \"node_list\": _node_list,\n",
        "}\n",
        "save_data(\"ogbg-molsider\", **data)"
      ]
    },
    {
      "cell_type": "code",
      "execution_count": 8,
      "metadata": {},
      "outputs": [
        {
          "name": "stdout",
          "output_type": "stream",
          "text": [
            "Save all dense arrays to ogbg-molsider_task.npz, including ['train', 'val', 'test']\n"
          ]
        }
      ],
      "source": [
        "task_data={\n",
        "    \"train\" :train_idx,\n",
        "    \"val\" :valid_idx,\n",
        "    \"test\" :test_idx\n",
        "}\n",
        "save_data(\"ogbg-molsider_task\",**task_data)"
      ]
    },
    {
      "cell_type": "code",
      "execution_count": null,
      "metadata": {},
      "outputs": [],
      "source": []
    }
  ],
  "metadata": {
    "kernelspec": {
      "display_name": "Python 3.8.13 ('gli_env')",
      "language": "python",
      "name": "python3"
    },
    "language_info": {
      "codemirror_mode": {
        "name": "ipython",
        "version": 3
      },
      "file_extension": ".py",
      "mimetype": "text/x-python",
      "name": "python",
      "nbconvert_exporter": "python",
      "pygments_lexer": "ipython3",
      "version": "3.8.13"
    },
    "orig_nbformat": 4,
    "vscode": {
      "interpreter": {
        "hash": "ae89e7fe314a0c3626f099dacf673708e7342e63ae97a5d57520c606700b6535"
      }
    }
  },
  "nbformat": 4,
  "nbformat_minor": 2
}
