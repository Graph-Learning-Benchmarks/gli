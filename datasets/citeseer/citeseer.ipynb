{
 "cells": [
  {
   "cell_type": "markdown",
   "metadata": {
    "id": "-YF5X2_e_16o"
   },
   "source": [
    "# Citeseer Example"
   ]
  },
  {
   "cell_type": "markdown",
   "metadata": {
    "id": "jr4MY1lr_16r"
   },
   "source": [
    "## Data"
   ]
  },
  {
   "cell_type": "code",
   "execution_count": 1,
   "metadata": {
    "colab": {
     "base_uri": "https://localhost:8080/"
    },
    "executionInfo": {
     "elapsed": 8113,
     "status": "ok",
     "timestamp": 1646435669126,
     "user": {
      "displayName": "Hezheng Fan",
      "photoUrl": "https://lh3.googleusercontent.com/a/default-user=s64",
      "userId": "02692002400554089702"
     },
     "user_tz": 300
    },
    "id": "tfqmpzcJ_16u",
    "outputId": "d8363516-ac5d-4609-8a8a-9d2977d641a4"
   },
   "outputs": [
    {
     "name": "stdout",
     "output_type": "stream",
     "text": [
      "  NumNodes: 3327\n",
      "  NumEdges: 9228\n",
      "  NumFeats: 3703\n",
      "  NumClasses: 6\n",
      "  NumTrainingSamples: 120\n",
      "  NumValidationSamples: 500\n",
      "  NumTestSamples: 1000\n",
      "Done loading data from cached files.\n"
     ]
    }
   ],
   "source": [
    "import json\n",
    "import numpy as np\n",
    "import torch\n",
    "import scipy.sparse as sparse\n",
    "from dgl.data import CiteseerGraphDataset\n",
    "dataset = CiteseerGraphDataset()\n",
    "graph = dataset[0]"
   ]
  },
  {
   "cell_type": "markdown",
   "metadata": {
    "id": "kWLV759P_16w"
   },
   "source": [
    "We can save the data file in only one file `citeseer.npz`."
   ]
  },
  {
   "cell_type": "code",
   "execution_count": 2,
   "metadata": {
    "executionInfo": {
     "elapsed": 173,
     "status": "ok",
     "timestamp": 1646435669294,
     "user": {
      "displayName": "Hezheng Fan",
      "photoUrl": "https://lh3.googleusercontent.com/a/default-user=s64",
      "userId": "02692002400554089702"
     },
     "user_tz": 300
    },
    "id": "L_RKUyt3_16w"
   },
   "outputs": [],
   "source": [
    "# citeseer_feat\n",
    "node_feats = sparse.csr_matrix(graph.ndata[\"feat\"].numpy())\n",
    "# citeseer_class\n",
    "node_class = graph.ndata[\"label\"].numpy()  # (3327,)\n",
    "# citeseer_edge\n",
    "edge = torch.stack(graph.edges()).numpy().T\n",
    "# citeseer only has 1 single graph, there are some isolated nodes in the graph. \n",
    "# These isolated nodes are added as zero-vecs into the right position\n",
    "node_list = np.ones((1, graph.num_nodes()))  # (1, 3327)\n",
    "edge_list = np.ones((1, graph.num_edges()))  # (1, 9228)\n",
    "\n",
    "data = {\n",
    "    \"node_feats\": node_feats,\n",
    "    \"node_class\": node_class,\n",
    "    \"edge\": edge,\n",
    "    \"node_list\": node_list,\n",
    "    \"edge_list\": edge_list\n",
    "}"
   ]
  },
  {
   "cell_type": "code",
   "execution_count": 3,
   "metadata": {},
   "outputs": [],
   "source": [
    "from gli.io import save_graph, Attribute\n",
    "\n",
    "node_attrs = [\n",
    "    Attribute(\n",
    "        \"NodeFeature\",\n",
    "        node_feats,\n",
    "        \"Node features of Citeseer dataset, 1/0-valued vectors.\",\n",
    "        \"int\",\n",
    "        \"SparseTensor\",\n",
    "    ),\n",
    "    Attribute(\n",
    "        \"NodeLabel\",\n",
    "        node_class,\n",
    "        \"Node labels of Citeseer dataset, int ranged from 1 to 6.\",\n",
    "        \"int\",\n",
    "        \"Tensor\",\n",
    "    )\n",
    "]\n",
    "\n",
    "metadata = save_graph(\n",
    "    name=\"citeseer\",\n",
    "    edge=edge,\n",
    "    num_nodes=graph.num_nodes(),\n",
    "    node_attrs=node_attrs,\n",
    "    description=\"CITESEER dataset.\",\n",
    "    cite=\n",
    "    \"@inproceedings{yang2016revisiting,\\ntitle={Revisiting semi-supervised learning with graph embeddings},\\nauthor={Yang, Zhilin and Cohen, William and Salakhudinov, Ruslan},\\nbooktitle={International conference on machine learning},\\npages={40--48},\\nyear={2016},\\norganization={PMLR}\\n}\",\n",
    ")"
   ]
  },
  {
   "cell_type": "markdown",
   "metadata": {},
   "source": [
    "The metadata.json and graph data (.npz files) is now saved in the current directory."
   ]
  },
  {
   "cell_type": "code",
   "execution_count": 4,
   "metadata": {},
   "outputs": [
    {
     "name": "stdout",
     "output_type": "stream",
     "text": [
      "{\n",
      "  \"description\": \"CITESEER dataset.\",\n",
      "  \"data\": {\n",
      "    \"Node\": {\n",
      "      \"NodeFeature\": {\n",
      "        \"description\": \"Node features of Citeseer dataset, 1/0-valued vectors.\",\n",
      "        \"type\": \"int\",\n",
      "        \"format\": \"SparseTensor\",\n",
      "        \"file\": \"citeseer__graph__Node_NodeFeature__48cffb6534f4b56a45196efa8b32cdac.sparse.npz\"\n",
      "      },\n",
      "      \"NodeLabel\": {\n",
      "        \"description\": \"Node labels of Citeseer dataset, int ranged from 1 to 6.\",\n",
      "        \"type\": \"int\",\n",
      "        \"format\": \"Tensor\",\n",
      "        \"file\": \"citeseer__graph__aed93544b5c54381d05b5452603278fb.npz\",\n",
      "        \"key\": \"Node_NodeLabel\"\n",
      "      }\n",
      "    },\n",
      "    \"Edge\": {\n",
      "      \"_Edge\": {\n",
      "        \"file\": \"citeseer__graph__aed93544b5c54381d05b5452603278fb.npz\",\n",
      "        \"key\": \"Edge_Edge\"\n",
      "      }\n",
      "    },\n",
      "    \"Graph\": {\n",
      "      \"_NodeList\": {\n",
      "        \"file\": \"citeseer__graph__Graph_NodeList__be3f84ead018cfb899bd6f98d0bb92db.sparse.npz\"\n",
      "      }\n",
      "    }\n",
      "  },\n",
      "  \"citation\": \"@inproceedings{yang2016revisiting,\\ntitle={Revisiting semi-supervised learning with graph embeddings},\\nauthor={Yang, Zhilin and Cohen, William and Salakhudinov, Ruslan},\\nbooktitle={International conference on machine learning},\\npages={40--48},\\nyear={2016},\\norganization={PMLR}\\n}\",\n",
      "  \"is_heterogeneous\": false\n",
      "}\n"
     ]
    }
   ],
   "source": [
    "# Print metadata\n",
    "print(json.dumps(metadata, indent=2))"
   ]
  },
  {
   "cell_type": "markdown",
   "metadata": {
    "id": "qauMEjnq_16z"
   },
   "source": [
    "## Task"
   ]
  },
  {
   "cell_type": "code",
   "execution_count": 5,
   "metadata": {
    "executionInfo": {
     "elapsed": 7,
     "status": "ok",
     "timestamp": 1646435669683,
     "user": {
      "displayName": "Hezheng Fan",
      "photoUrl": "https://lh3.googleusercontent.com/a/default-user=s64",
      "userId": "02692002400554089702"
     },
     "user_tz": 300
    },
    "id": "rmgrGq3R_16z"
   },
   "outputs": [],
   "source": [
    "train_set = graph.ndata[\"train_mask\"].nonzero().squeeze().numpy()\n",
    "val_set = graph.ndata[\"val_mask\"].nonzero().squeeze().numpy()\n",
    "test_set = graph.ndata[\"test_mask\"].nonzero().squeeze().numpy()"
   ]
  },
  {
   "cell_type": "code",
   "execution_count": 6,
   "metadata": {},
   "outputs": [],
   "source": [
    "from gli.io import save_task_node_classification\n",
    "\n",
    "task_data = save_task_node_classification(\n",
    "    name=\"citeseer\",\n",
    "    description=\"Node classification on CITESEER dataset. Planetoid split.\",\n",
    "    feature=[\"Node/NodeFeature\"],\n",
    "    target=\"Node/NodeLabel\",\n",
    "    num_classes=6,\n",
    "    train_set=train_set,\n",
    "    val_set=val_set,\n",
    "    test_set=test_set,\n",
    "    task_id=\"1\"\n",
    ")"
   ]
  },
  {
   "cell_type": "markdown",
   "metadata": {},
   "source": [
    "The task data (.json and .npz files) is now saved in the current directory."
   ]
  },
  {
   "cell_type": "code",
   "execution_count": 7,
   "metadata": {},
   "outputs": [
    {
     "name": "stdout",
     "output_type": "stream",
     "text": [
      "{\n",
      "  \"description\": \"Node classification on CITESEER dataset. Planetoid split.\",\n",
      "  \"type\": \"NodeClassification\",\n",
      "  \"feature\": [\n",
      "    \"Node/NodeFeature\"\n",
      "  ],\n",
      "  \"target\": \"Node/NodeLabel\",\n",
      "  \"num_classes\": 6,\n",
      "  \"train_set\": {\n",
      "    \"file\": \"citeseer__task_node_classification_1__d0b7b5f7e7e7cb9b84e0b3e97354e16e.npz\",\n",
      "    \"key\": \"train_set\"\n",
      "  },\n",
      "  \"val_set\": {\n",
      "    \"file\": \"citeseer__task_node_classification_1__d0b7b5f7e7e7cb9b84e0b3e97354e16e.npz\",\n",
      "    \"key\": \"val_set\"\n",
      "  },\n",
      "  \"test_set\": {\n",
      "    \"file\": \"citeseer__task_node_classification_1__d0b7b5f7e7e7cb9b84e0b3e97354e16e.npz\",\n",
      "    \"key\": \"test_set\"\n",
      "  }\n",
      "}\n"
     ]
    }
   ],
   "source": [
    "print(json.dumps(task_data, indent=2))"
   ]
  },
  {
   "cell_type": "markdown",
   "metadata": {},
   "source": [
    "Test loading the data."
   ]
  },
  {
   "cell_type": "code",
   "execution_count": 8,
   "metadata": {},
   "outputs": [
    {
     "name": "stdout",
     "output_type": "stream",
     "text": [
      "CITESEER dataset.\n",
      "Node classification on CITESEER dataset. Planetoid split.\n"
     ]
    },
    {
     "name": "stderr",
     "output_type": "stream",
     "text": [
      "/Users/wjt/gli/gli/utils.py:254: UserWarning: Sparse CSR tensor support is in beta state. If you miss a functionality in the sparse tensor support, please submit a feature request to https://github.com/pytorch/pytorch/issues. (Triggered internally at /Users/runner/work/pytorch/pytorch/pytorch/aten/src/ATen/SparseCsrTensorImpl.cpp:56.)\n",
      "  return torch.sparse_csr_tensor(crow_indices,\n"
     ]
    },
    {
     "data": {
      "text/plain": [
       "Graph(num_nodes=3327, num_edges=9228,\n",
       "      ndata_schemes={'NodeFeature': Scheme(shape=(3703,), dtype=torch.float32), 'NodeLabel': Scheme(shape=(), dtype=torch.int64), 'train_mask': Scheme(shape=(), dtype=torch.bool), 'val_mask': Scheme(shape=(), dtype=torch.bool), 'test_mask': Scheme(shape=(), dtype=torch.bool)}\n",
       "      edata_schemes={})"
      ]
     },
     "execution_count": 8,
     "metadata": {},
     "output_type": "execute_result"
    }
   ],
   "source": [
    "from gli.dataloading import read_gli_graph, read_gli_task, combine_graph_and_task\n",
    "\n",
    "g = read_gli_graph(\"./metadata.json\")\n",
    "t = read_gli_task(\"./task_node_classification_1.json\")\n",
    "data = combine_graph_and_task(g, t)\n",
    "data[0]"
   ]
  },
  {
   "cell_type": "markdown",
   "metadata": {},
   "source": [
    "After adding LICENSE and README.md, the dataset directory will be the following."
   ]
  },
  {
   "cell_type": "code",
   "execution_count": 9,
   "metadata": {},
   "outputs": [
    {
     "name": "stdout",
     "output_type": "stream",
     "text": [
      "\u001b[1;36m.\u001b[0m\n",
      "├── LICENSE\n",
      "├── README.md\n",
      "├── citeseer.ipynb\n",
      "├── citeseer__graph__Graph_NodeList__be3f84ead018cfb899bd6f98d0bb92db.sparse.npz\n",
      "├── citeseer__graph__Node_NodeFeature__48cffb6534f4b56a45196efa8b32cdac.sparse.npz\n",
      "├── citeseer__graph__aed93544b5c54381d05b5452603278fb.npz\n",
      "├── citeseer__task_node_classification_1__d0b7b5f7e7e7cb9b84e0b3e97354e16e.npz\n",
      "├── metadata.json\n",
      "├── task_node_classification_1.json\n",
      "└── urls.json\n",
      "\n",
      "1 directory, 10 files\n"
     ]
    }
   ],
   "source": [
    "!tree ."
   ]
  },
  {
   "cell_type": "code",
   "execution_count": 1,
   "metadata": {},
   "outputs": [
    {
     "name": "stdout",
     "output_type": "stream",
     "text": [
      "123\n"
     ]
    }
   ],
   "source": [
    "print('123')"
   ]
  },
  {
   "cell_type": "code",
   "execution_count": null,
   "metadata": {},
   "outputs": [],
   "source": []
  }
 ],
 "metadata": {
  "colab": {
   "collapsed_sections": [],
   "name": "citeseer.ipynb",
   "provenance": []
  },
  "kernelspec": {
   "display_name": "Python 3.9.12 ('GNN')",
   "language": "python",
   "name": "python3"
  },
  "language_info": {
   "codemirror_mode": {
    "name": "ipython",
    "version": 3
   },
   "file_extension": ".py",
   "mimetype": "text/x-python",
   "name": "python",
   "nbconvert_exporter": "python",
   "pygments_lexer": "ipython3",
   "version": "3.10.10"
  },
  "vscode": {
   "interpreter": {
    "hash": "0bd942c2e584cb94ca867084588a99f86757dbc66438ffa848a3e419d4c0b11e"
   }
  }
 },
 "nbformat": 4,
 "nbformat_minor": 0
}
