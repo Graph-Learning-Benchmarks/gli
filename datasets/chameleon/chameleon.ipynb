{
 "cells": [
  {
   "cell_type": "code",
   "execution_count": 1,
   "metadata": {},
   "outputs": [
    {
     "name": "stderr",
     "output_type": "stream",
     "text": [
      "/home/litianyue/anaconda3/envs/GNN/lib/python3.9/site-packages/tqdm/auto.py:22: TqdmWarning: IProgress not found. Please update jupyter and ipywidgets. See https://ipywidgets.readthedocs.io/en/stable/user_install.html\n",
      "  from .autonotebook import tqdm as notebook_tqdm\n"
     ]
    }
   ],
   "source": [
    "import json\n",
    "import numpy as np\n",
    "import torch\n",
    "import scipy.sparse as sparse\n",
    "from torch_geometric.datasets import WikipediaNetwork"
   ]
  },
  {
   "cell_type": "code",
   "execution_count": 2,
   "metadata": {},
   "outputs": [
    {
     "name": "stdout",
     "output_type": "stream",
     "text": [
      "Data(x=[2277, 2325], edge_index=[2, 36101], y=[2277], train_mask=[2277, 10], val_mask=[2277, 10], test_mask=[2277, 10])\n",
      "Length of dataset: 1\n",
      "NumNodes:  2277\n",
      "NumEdges:  36101\n",
      "NumFeats:  2325\n",
      "NumClasses:  5\n",
      "NumTrainingSamples:  10920\n",
      "NumValidationSamples:  7290\n",
      "NumTestSamples:  4560\n"
     ]
    }
   ],
   "source": [
    "# dataset = WikipediaNetwork(root='/tmp/squirrel', name='squirrel')\n",
    "dataset = WikipediaNetwork(root='/tmp/chameleon', name='chameleon')\n",
    "graph = dataset[0]\n",
    "print(graph)\n",
    "print(\"Length of dataset:\",len(dataset)) # 1\n",
    "print(\"NumNodes: \",graph.x.shape[0])\n",
    "print(\"NumEdges: \",graph.edge_index.shape[1])\n",
    "print(\"NumFeats: \",dataset.num_node_features)\n",
    "print(\"NumClasses: \",dataset.num_classes)\n",
    "print(\"NumTrainingSamples: \",graph.train_mask.nonzero().squeeze().numpy().shape[0])\n",
    "print(\"NumValidationSamples: \", graph.val_mask.nonzero().squeeze().numpy().shape[0])\n",
    "print(\"NumTestSamples: \", graph.test_mask.nonzero().squeeze().numpy().shape[0])"
   ]
  },
  {
   "cell_type": "code",
   "execution_count": 3,
   "metadata": {},
   "outputs": [],
   "source": [
    "# chameleon_feat\n",
    "node_feats = sparse.csr_matrix(graph.x.numpy()) # (2277, 2325)\n",
    "# chameleon_class\n",
    "node_class = graph.y.numpy() # (2277,)\n",
    "# chameleon_edge\n",
    "edge = graph.edge_index.T.numpy() # (36101, 2)\n",
    "# chameleon only has 1 single connected graph\n",
    "node_list = np.ones((1, graph.x.shape[0]))\n",
    "edge_list = np.ones((1, graph.edge_index.shape[1]))\n",
    "data = {\n",
    "    \"node_feats\": node_feats,\n",
    "    \"node_class\": node_class,\n",
    "    \"edge\": edge,\n",
    "    \"node_list\": node_list,\n",
    "    \"edge_list\": edge_list\n",
    "}"
   ]
  },
  {
   "cell_type": "markdown",
   "metadata": {},
   "source": [
    "We can save the data file in only one file `chameleon.npz`."
   ]
  },
  {
   "cell_type": "code",
   "execution_count": 4,
   "metadata": {},
   "outputs": [
    {
     "name": "stdout",
     "output_type": "stream",
     "text": [
      "Save all dense arrays to chameleon.npz, including ['node_class', 'edge', 'node_list', 'edge_list']\n",
      "Save sparse matrix node_feats to chameleon_node_feats.sparse.npz\n"
     ]
    },
    {
     "data": {
      "text/plain": [
       "['node_class', 'edge', 'node_list', 'edge_list']"
      ]
     },
     "execution_count": 4,
     "metadata": {},
     "output_type": "execute_result"
    }
   ],
   "source": [
    "from gli.utils import save_data\n",
    "save_data(\"chameleon\", **data)\n",
    "chameleon = np.load(\"chameleon.npz\", allow_pickle=True)\n",
    "chameleon.files"
   ]
  },
  {
   "cell_type": "code",
   "execution_count": 5,
   "metadata": {},
   "outputs": [
    {
     "name": "stdout",
     "output_type": "stream",
     "text": [
      "Graph is undirected?:  False\n"
     ]
    }
   ],
   "source": [
    "print(\"Graph is undirected?: \",graph.is_undirected())"
   ]
  },
  {
   "cell_type": "markdown",
   "metadata": {},
   "source": [
    "## Task"
   ]
  },
  {
   "cell_type": "code",
   "execution_count": 6,
   "metadata": {},
   "outputs": [
    {
     "name": "stdout",
     "output_type": "stream",
     "text": [
      "torch.Size([2277, 10])\n"
     ]
    }
   ],
   "source": [
    "print(graph.train_mask.shape)"
   ]
  },
  {
   "cell_type": "code",
   "execution_count": 7,
   "metadata": {},
   "outputs": [],
   "source": [
    "train_set = []\n",
    "val_set = []\n",
    "test_set = []\n",
    "for i in range(graph.train_mask.shape[1]):\n",
    "    train_set.append(graph.train_mask[:,i].nonzero().squeeze().numpy())\n",
    "    val_set.append(graph.val_mask[:,i].nonzero().squeeze().numpy())\n",
    "    test_set.append(graph.test_mask[:,i].nonzero().squeeze().numpy())"
   ]
  },
  {
   "cell_type": "code",
   "execution_count": 8,
   "metadata": {},
   "outputs": [
    {
     "name": "stdout",
     "output_type": "stream",
     "text": [
      "Save all dense arrays to chameleon_task.npz, including ['train_0', 'val_0', 'test_0', 'train_1', 'val_1', 'test_1', 'train_2', 'val_2', 'test_2', 'train_3', 'val_3', 'test_3', 'train_4', 'val_4', 'test_4', 'train_5', 'val_5', 'test_5', 'train_6', 'val_6', 'test_6', 'train_7', 'val_7', 'test_7', 'train_8', 'val_8', 'test_8', 'train_9', 'val_9', 'test_9']\n"
     ]
    }
   ],
   "source": [
    "task_data = {}\n",
    "for i in range(graph.train_mask.shape[1]):\n",
    "    task_data['train_'+str(i)] = train_set[i]\n",
    "    task_data['val_'+str(i)] = val_set[i]\n",
    "    task_data['test_'+str(i)] = test_set[i]\n",
    "save_data(\"chameleon_task\", **task_data)"
   ]
  }
 ],
 "metadata": {
  "kernelspec": {
   "display_name": "Python 3.9.0 ('GNN')",
   "language": "python",
   "name": "python3"
  },
  "language_info": {
   "codemirror_mode": {
    "name": "ipython",
    "version": 3
   },
   "file_extension": ".py",
   "mimetype": "text/x-python",
   "name": "python",
   "nbconvert_exporter": "python",
   "pygments_lexer": "ipython3",
   "version": "3.9.12"
  },
  "orig_nbformat": 4,
  "vscode": {
   "interpreter": {
    "hash": "0bd942c2e584cb94ca867084588a99f86757dbc66438ffa848a3e419d4c0b11e"
   }
  }
 },
 "nbformat": 4,
 "nbformat_minor": 2
}
