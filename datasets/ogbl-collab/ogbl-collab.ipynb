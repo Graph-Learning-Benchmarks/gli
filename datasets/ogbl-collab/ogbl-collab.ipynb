{
 "cells": [
  {
   "cell_type": "code",
   "execution_count": 1,
   "id": "15c565ab",
   "metadata": {
    "pycharm": {
     "name": "#%%\n"
    }
   },
   "outputs": [
    {
     "name": "stderr",
     "output_type": "stream",
     "text": [
      "Using backend: pytorch[21:05:45] /opt/dgl/src/runtime/tensordispatch.cc:43: TensorDispatcher: dlopen failed: /home/jimmyzxj/miniconda3/envs/py39/lib/python3.9/site-packages/dgl/tensoradapter/pytorch/libtensoradapter_pytorch_1.10.2.so: cannot open shared object file: No such file or directory\n",
      "\n"
     ]
    }
   ],
   "source": [
    "# source: https://ogb.stanford.edu/docs/linkprop/#ogbl-collab\n",
    "import numpy as np\n",
    "from ogb.linkproppred import LinkPropPredDataset\n",
    "\n",
    "dataset = LinkPropPredDataset(name = 'ogbl-collab')\n",
    "\n",
    "split_edge = dataset.get_edge_split()\n",
    "train_edge, valid_edge, test_edge = split_edge[\"train\"], split_edge[\"valid\"], split_edge[\"test\"]\n",
    "graph = dataset[0]\n"
   ]
  },
  {
   "cell_type": "code",
   "execution_count": 2,
   "id": "4c3a04c9",
   "metadata": {
    "pycharm": {
     "name": "#%%\n"
    }
   },
   "outputs": [],
   "source": [
    "node_feats = graph['node_feat'] # (235868, 128)\n",
    "edge_year = graph['edge_year']\n",
    "edge_weight = graph['edge_weight'].reshape(-1,) # (2358104, )\n",
    "edge = graph['edge_index'].T # (2358104, 2)\n",
    "neg_edge = np.concatenate([valid_edge['edge_neg'], test_edge['edge_neg']])\n",
    "node_list = np.ones((1, graph['num_nodes']))\n",
    "edge_list = np.ones((1, edge.shape[0]))\n",
    "edge_id = np.arange(0, edge.shape[0])\n",
    "\n",
    "data = {\n",
    "    \"node_feats\": node_feats,\n",
    "    \"edge_year\": edge_year,\n",
    "    \"edge_weight\":edge_weight,\n",
    "    \"edge\": edge,\n",
    "    \"neg_edge\": neg_edge,\n",
    "    \"node_list\": node_list,\n",
    "    \"edge_list\": edge_list,\n",
    "    \"edge_id\": edge_id\n",
    "}"
   ]
  },
  {
   "cell_type": "code",
   "execution_count": 3,
   "id": "44979c00",
   "metadata": {
    "pycharm": {
     "name": "#%%\n"
    }
   },
   "outputs": [],
   "source": [
    "np.savez_compressed(\"ogbl-collab.npz\", **data)"
   ]
  },
  {
   "cell_type": "code",
   "execution_count": null,
   "id": "2ffbbf14",
   "metadata": {
    "pycharm": {
     "name": "#%%\n"
    }
   },
   "outputs": [],
   "source": [
    "task_data = {\n",
    "    # use edges (N, 2) to save negative edges\n",
    "    \"val_neg\": valid_edge['edge_neg'],\n",
    "    \"test_neg\": test_edge['edge_neg'],\n",
    "    \"train_time_window\": (1963, 2017),\n",
    "    \"valid_time_window\": (2018, 2018),\n",
    "    \"test_time_window\": (2019, 2019)\n",
    "}\n",
    "np.savez_compressed(\"ogbl-collab_task_prestore_neg.npz\", **task_data)\n",
    "\n",
    "\n"
   ]
  },
  {
   "cell_type": "code",
   "execution_count": null,
   "id": "366dccf3",
   "metadata": {
    "pycharm": {
     "name": "#%%\n"
    }
   },
   "outputs": [],
   "source": [
    "task_data_no_pre_stored_neg_edge = {\n",
    "    \"train_time_window\": (1963, 2017), # window of (edge_year in train)\n",
    "    \"valid_time_window\": (2018, 2018),\n",
    "    \"test_time_window\": (2019, 2019)\n",
    "}\n",
    "np.savez_compressed(\"ogbl-collab_task_runtime_sampling.npz\", **task_data_no_pre_stored_neg_edge)"
   ]
  },
  {
   "cell_type": "code",
   "execution_count": null,
   "id": "90e5abd0",
   "metadata": {
    "pycharm": {
     "name": "#%%\n"
    }
   },
   "outputs": [],
   "source": [
    "# 1. pre-store neg - index\n",
    "# 2. no pre-store - time"
   ]
  },
  {
   "cell_type": "code",
   "execution_count": null,
   "id": "aacaeea4",
   "metadata": {
    "pycharm": {
     "name": "#%%\n"
    }
   },
   "outputs": [],
   "source": []
  }
 ],
 "metadata": {
  "kernelspec": {
   "display_name": "Python 3.9.7 ('py39')",
   "language": "python",
   "name": "python3"
  },
  "language_info": {
   "codemirror_mode": {
    "name": "ipython",
    "version": 3
   },
   "file_extension": ".py",
   "mimetype": "text/x-python",
   "name": "python",
   "nbconvert_exporter": "python",
   "pygments_lexer": "ipython3",
   "version": "3.9.7"
  },
  "vscode": {
   "interpreter": {
    "hash": "c060a5fe1ced4d379d309ec1358bf896d440ce64254413b3c9daccac0d24786c"
   }
  }
 },
 "nbformat": 4,
 "nbformat_minor": 5
}
