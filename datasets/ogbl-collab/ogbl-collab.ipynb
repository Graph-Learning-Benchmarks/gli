{
 "cells": [
  {
   "cell_type": "code",
   "execution_count": 1,
   "id": "15c565ab",
   "metadata": {
    "pycharm": {
     "name": "#%%\n"
    }
   },
   "outputs": [
    {
     "name": "stderr",
     "output_type": "stream",
     "text": [
      "/home/jimmyzxj/miniconda3/envs/gli_env/lib/python3.8/site-packages/tqdm/auto.py:22: TqdmWarning: IProgress not found. Please update jupyter and ipywidgets. See https://ipywidgets.readthedocs.io/en/stable/user_install.html\n",
      "  from .autonotebook import tqdm as notebook_tqdm\n"
     ]
    }
   ],
   "source": [
    "# source: https://ogb.stanford.edu/docs/linkprop/#ogbl-collab\n",
    "import numpy as np\n",
    "import torch\n",
    "from ogb.linkproppred import LinkPropPredDataset\n",
    "\n",
    "dataset = LinkPropPredDataset(name = 'ogbl-collab')\n",
    "\n",
    "split_edge = dataset.get_edge_split()\n",
    "train_edge, valid_edge, test_edge = split_edge[\"train\"], split_edge[\"valid\"], split_edge[\"test\"]\n",
    "graph = dataset[0]\n"
   ]
  },
  {
   "cell_type": "code",
   "execution_count": 2,
   "id": "2ffbbf14",
   "metadata": {
    "pycharm": {
     "name": "#%%\n"
    }
   },
   "outputs": [
    {
     "name": "stdout",
     "output_type": "stream",
     "text": [
      "Save all dense arrays to ogbl-collab_task_prestore_neg.npz, including ['val_neg', 'test_neg']\n"
     ]
    }
   ],
   "source": [
    "from gli.utils import save_data\n",
    "task_data = {\n",
    "    # use edges (N, 2) to save negative edges\n",
    "    \"val_neg\": valid_edge['edge_neg'],\n",
    "    \"test_neg\": test_edge['edge_neg']\n",
    "}\n",
    "save_data(\"ogbl-collab_task_prestore_neg\", **task_data)"
   ]
  },
  {
   "cell_type": "code",
   "execution_count": 3,
   "id": "aacaeea4",
   "metadata": {
    "pycharm": {
     "name": "#%%\n"
    }
   },
   "outputs": [],
   "source": [
    "edges = train_edge\n",
    "for e in (valid_edge, test_edge):\n",
    "    for t in (\"edge\", \"weight\", \"year\"):\n",
    "        edges[t] = np.concatenate((edges[t], e[t]))\n",
    "\n",
    "\n",
    "import dgl\n",
    "g = dgl.graph((edges[\"edge\"].T[0], edges[\"edge\"].T[1]))\n",
    "g.edata[\"weight\"] = torch.from_numpy(edges[\"weight\"])\n",
    "g.edata[\"year\"] = torch.from_numpy(edges[\"year\"])\n",
    "g.ndata[\"feat\"] = torch.from_numpy(graph[\"node_feat\"])"
   ]
  },
  {
   "cell_type": "code",
   "execution_count": 4,
   "id": "94fbccc3",
   "metadata": {},
   "outputs": [
    {
     "data": {
      "text/plain": [
       "tensor([[150989, 224881],\n",
       "        [150989, 224881],\n",
       "        [180078, 199043],\n",
       "        ...,\n",
       "        [ 47058, 190305],\n",
       "        [216257, 190305],\n",
       "        [ 32459, 190305]])"
      ]
     },
     "execution_count": 4,
     "metadata": {},
     "output_type": "execute_result"
    }
   ],
   "source": [
    "torch.stack(g.edges()).T"
   ]
  },
  {
   "cell_type": "code",
   "execution_count": 5,
   "id": "4c3a04c9",
   "metadata": {
    "pycharm": {
     "name": "#%%\n"
    }
   },
   "outputs": [],
   "source": [
    "node_feats = graph['node_feat'] # (235868, 128)\n",
    "edge_year = g.edata[\"year\"].numpy()\n",
    "edge_weight = g.edata[\"weight\"].numpy() # (2358104, )\n",
    "edge = torch.stack(g.edges()).T.numpy() # (2358104, 2)\n",
    "node_list = np.ones((1, graph['num_nodes']))\n",
    "edge_list = np.ones((1, edge.shape[0]))\n",
    "edge_id = np.arange(0, edge.shape[0])\n",
    "\n",
    "data = {\n",
    "    \"node_feats\": node_feats,\n",
    "    \"edge_year\": edge_year,\n",
    "    \"edge_weight\":edge_weight,\n",
    "    \"edge\": edge,\n",
    "    \"node_list\": node_list,\n",
    "    \"edge_list\": edge_list,\n",
    "    \"edge_id\": edge_id\n",
    "}"
   ]
  },
  {
   "cell_type": "code",
   "execution_count": 6,
   "id": "9767d935",
   "metadata": {},
   "outputs": [
    {
     "name": "stdout",
     "output_type": "stream",
     "text": [
      "node_feats (235868, 128)\n",
      "edge_year (1285465,)\n",
      "edge_weight (1285465,)\n",
      "edge (1285465, 2)\n",
      "node_list (1, 235868)\n",
      "edge_list (1, 1285465)\n",
      "edge_id (1285465,)\n"
     ]
    }
   ],
   "source": [
    "for k, v in data.items():\n",
    "    print(k, v.shape)"
   ]
  },
  {
   "cell_type": "code",
   "execution_count": 7,
   "id": "988ba8cc",
   "metadata": {},
   "outputs": [
    {
     "name": "stdout",
     "output_type": "stream",
     "text": [
      "Save all dense arrays to ogbl-collab.npz, including ['node_feats', 'edge_year', 'edge_weight', 'edge', 'node_list', 'edge_list', 'edge_id']\n"
     ]
    }
   ],
   "source": [
    "save_data(\"ogbl-collab\", **data)"
   ]
  }
 ],
 "metadata": {
  "kernelspec": {
   "display_name": "Python 3.8.13 ('gli_env')",
   "language": "python",
   "name": "python3"
  },
  "language_info": {
   "codemirror_mode": {
    "name": "ipython",
    "version": 3
   },
   "file_extension": ".py",
   "mimetype": "text/x-python",
   "name": "python",
   "nbconvert_exporter": "python",
   "pygments_lexer": "ipython3",
   "version": "3.8.13"
  },
  "vscode": {
   "interpreter": {
    "hash": "ae89e7fe314a0c3626f099dacf673708e7342e63ae97a5d57520c606700b6535"
   }
  }
 },
 "nbformat": 4,
 "nbformat_minor": 5
}
