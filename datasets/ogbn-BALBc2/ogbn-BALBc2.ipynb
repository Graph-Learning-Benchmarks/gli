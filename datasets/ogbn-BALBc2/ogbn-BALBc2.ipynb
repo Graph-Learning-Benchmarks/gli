{
 "cells": [
  {
   "cell_type": "markdown",
   "metadata": {},
   "source": [
    "# VesselGraph / ogbn-BALBc2"
   ]
  },
  {
   "cell_type": "markdown",
   "metadata": {},
   "source": [
    "## Data (OGB dataloader)"
   ]
  },
  {
   "cell_type": "code",
   "execution_count": 1,
   "metadata": {},
   "outputs": [
    {
     "name": "stderr",
     "output_type": "stream",
     "text": [
      "WARNING:root:The OGB package is out of date. Your version is 1.3.1, while the latest version is 1.3.3.\n"
     ]
    }
   ],
   "source": [
    "# load data with ogb\n",
    "from source.ogb.nodeproppred import *\n",
    "import numpy as np\n",
    "\n",
    "data = NodePropPredDataset(name='ogbn-BALBc_no2_pb_minRadiusAvg')"
   ]
  },
  {
   "cell_type": "code",
   "execution_count": 2,
   "metadata": {},
   "outputs": [
    {
     "name": "stdout",
     "output_type": "stream",
     "text": [
      "{'edge_index': array([[      0,       0,       1, ..., 5193774, 5193774, 5193774],\n",
      "       [ 251540,  251543,  251547, ..., 5193771, 5193772, 5193773]]), 'edge_feat': None, 'node_feat': array([[15.9319 , 12.4499 ,  1.27968],\n",
      "       [21.0002 , 16.4317 ,  1.27803],\n",
      "       [29.1497 , 24.7415 ,  1.17817],\n",
      "       ...,\n",
      "       [ 9.93712,  9.64365,  1.03043],\n",
      "       [ 5.9641 ,  5.83095,  1.02283],\n",
      "       [13.5432 , 12.3693 ,  1.0949 ]], dtype=float32), 'num_nodes': 5193775}\n",
      "5193775\n"
     ]
    }
   ],
   "source": [
    "# print dataset\n",
    "whole_dataset = data[0][0]\n",
    "\n",
    "print(whole_dataset)\n",
    "print(len(data[0][1]))"
   ]
  },
  {
   "cell_type": "code",
   "execution_count": 3,
   "metadata": {},
   "outputs": [],
   "source": [
    "# extract data from dataset\n",
    "node_list = np.ones((1, whole_dataset['num_nodes']))\n",
    "node_feats = whole_dataset['node_feat']\n",
    "edge_list = np.ones((1, len(whole_dataset['edge_index'][0])))\n",
    "edge = whole_dataset['edge_index']"
   ]
  },
  {
   "cell_type": "code",
   "execution_count": 4,
   "metadata": {},
   "outputs": [],
   "source": [
    "# format final data\n",
    "final_data = {\n",
    "    \"node_list\": node_list,\n",
    "    \"node_feats\": node_feats,\n",
    "    \"edge\": edge,\n",
    "    \"edge_list\": edge_list\n",
    "}"
   ]
  },
  {
   "cell_type": "code",
   "execution_count": null,
   "metadata": {},
   "outputs": [],
   "source": [
    "# save data\n",
    "np.savez_compressed('ogbn-BALBc2.npz', **final_data)"
   ]
  },
  {
   "cell_type": "markdown",
   "metadata": {},
   "source": [
    "## Task"
   ]
  },
  {
   "cell_type": "code",
   "execution_count": 5,
   "metadata": {},
   "outputs": [],
   "source": [
    "# split dataset, extract data\n",
    "split_data = data.get_idx_split()\n",
    "train = split_data['train']\n",
    "validation = split_data['valid']\n",
    "test = split_data['test']"
   ]
  },
  {
   "cell_type": "code",
   "execution_count": 6,
   "metadata": {},
   "outputs": [
    {
     "name": "stdout",
     "output_type": "stream",
     "text": [
      "{'train': tensor([5084136, 2333278, 4474489,  ..., 1491979, 3745197, 3315339]), 'valid': tensor([3898917, 3775418, 3461146,  ...,  150234, 2771426, 3009997]), 'test': tensor([2075323, 4750436,  575343,  ..., 2133634, 1461501, 3905179])}\n"
     ]
    }
   ],
   "source": [
    "print(split_data)"
   ]
  },
  {
   "cell_type": "code",
   "execution_count": 7,
   "metadata": {},
   "outputs": [],
   "source": [
    "# format task data\n",
    "task_data = {\n",
    "    \"train\": train,\n",
    "    \"validation\": validation,\n",
    "    \"test\": test\n",
    "}"
   ]
  },
  {
   "cell_type": "code",
   "execution_count": null,
   "metadata": {},
   "outputs": [],
   "source": [
    "# save data\n",
    "np.savez_compressed('ogbn-BALBc2_node_classification.npz', **task_data)"
   ]
  }
 ],
 "metadata": {
  "kernelspec": {
   "display_name": "Python 3.9.7 64-bit",
   "language": "python",
   "name": "python3"
  },
  "language_info": {
   "codemirror_mode": {
    "name": "ipython",
    "version": 3
   },
   "file_extension": ".py",
   "mimetype": "text/x-python",
   "name": "python",
   "nbconvert_exporter": "python",
   "pygments_lexer": "ipython3",
   "version": "3.9.7"
  },
  "orig_nbformat": 4,
  "vscode": {
   "interpreter": {
    "hash": "aee8b7b246df8f9039afb4144a1f6fd8d2ca17a180786b69acc140d282b71a49"
   }
  }
 },
 "nbformat": 4,
 "nbformat_minor": 2
}
