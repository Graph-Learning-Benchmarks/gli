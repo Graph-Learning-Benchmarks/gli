{
 "cells": [
  {
   "cell_type": "code",
   "execution_count": 1,
   "metadata": {},
   "outputs": [],
   "source": [
    "id2entity = dict()\n",
    "with open('raw/entity2id.txt') as entity_file:\n",
    "    lines = entity_file.readlines()\n",
    "    num_nodes = int(lines[0].rstrip())\n",
    "    for line in lines[1:]:\n",
    "        entity, idx = line.rstrip().split('\\t')\n",
    "        id2entity[int(idx)+1] = entity\n",
    "\n",
    "id2rel = dict()\n",
    "with open('raw/relation2id.txt') as relation_file:\n",
    "    lines = relation_file.readlines()\n",
    "    num_rels = int(lines[0].rstrip())\n",
    "    for line in lines[1:]:\n",
    "        rel, idx = line.rstrip().split('\\t')\n",
    "        id2rel[int(idx)+1] = rel"
   ]
  },
  {
   "cell_type": "code",
   "execution_count": 2,
   "metadata": {},
   "outputs": [],
   "source": [
    "edge = list()  # (head_id, tail_id)\n",
    "edge_class = list()  # rel_id\n",
    "edge_name = list()  # rel_label\n",
    "tasks = [\"train\", \"valid\", \"test\"]\n",
    "split = {\n",
    "    \"train\": [],\n",
    "    \"valid\": [],\n",
    "    \"test\": []\n",
    "}\n",
    "\n",
    "for task in tasks:\n",
    "    with open(f'raw/{task}2id.txt') as infile:\n",
    "        for line in infile.readlines()[1:]:\n",
    "            line = line.rstrip().split()\n",
    "            head, tail, rel = map(lambda x: int(x), line)\n",
    "            edge.append((head + 1, tail + 1))\n",
    "            edge_class.append(rel + 1)\n",
    "            edge_name.append(id2rel[rel + 1])\n",
    "            split[task].append(len(edge))"
   ]
  },
  {
   "cell_type": "code",
   "execution_count": 3,
   "metadata": {},
   "outputs": [],
   "source": [
    "import numpy as np\n",
    "num_edges = len(edge)\n",
    "node_list = np.ones((1, num_nodes))  # (1, 14951)\n",
    "edge_list = np.ones((1, num_edges))  # (1, 483142)\n",
    "node_name = np.array([id2entity[i+1] for i in range(num_nodes)])\n",
    "edge = np.array(edge)\n",
    "edge_name = np.array(edge_name)\n",
    "edge_class = np.array(edge_class)\n",
    "\n",
    "data = {\n",
    "    # no node_feats\n",
    "    \"edge\": edge,\n",
    "    \"node_list\": node_list,\n",
    "    \"node_name\": node_name,\n",
    "    \"edge_list\": edge_list,\n",
    "    \"edge_class\": edge_class,\n",
    "    \"edge_name\": edge_name,\n",
    "    \"TrainEdge_id\": np.array(split[\"train\"]),\n",
    "    \"ValidEdge_id\": np.array(split[\"valid\"]),\n",
    "    \"TestEdge_id\": np.array(split[\"test\"]),\n",
    "}"
   ]
  },
  {
   "cell_type": "code",
   "execution_count": 4,
   "metadata": {},
   "outputs": [],
   "source": [
    "np.savez_compressed(\"YAGO3-10.npz\", **data)"
   ]
  },
  {
   "cell_type": "code",
   "execution_count": 5,
   "metadata": {},
   "outputs": [
    {
     "name": "stdout",
     "output_type": "stream",
     "text": [
      "123182 1089040\n"
     ]
    }
   ],
   "source": [
    "print(num_nodes, num_edges)"
   ]
  },
  {
   "cell_type": "code",
   "execution_count": null,
   "metadata": {},
   "outputs": [],
   "source": []
  }
 ],
 "metadata": {
  "interpreter": {
   "hash": "b7682b43318cc97787592aaf412ca4143c020cde7ce2decb4d76e73eb29cd630"
  },
  "kernelspec": {
   "display_name": "Python 3.7.9 64-bit ('base': conda)",
   "language": "python",
   "name": "python3"
  },
  "language_info": {
   "codemirror_mode": {
    "name": "ipython",
    "version": 3
   },
   "file_extension": ".py",
   "mimetype": "text/x-python",
   "name": "python",
   "nbconvert_exporter": "python",
   "pygments_lexer": "ipython3",
   "version": "3.8.5"
  },
  "orig_nbformat": 4
 },
 "nbformat": 4,
 "nbformat_minor": 2
}
