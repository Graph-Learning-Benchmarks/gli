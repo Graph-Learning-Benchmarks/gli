{
 "cells": [
  {
   "cell_type": "code",
   "execution_count": 9,
   "metadata": {},
   "outputs": [],
   "source": [
    "import json\n",
    "import numpy as np\n",
    "import torch\n",
    "import scipy.sparse as sparse\n",
    "from torch_geometric.datasets import Actor"
   ]
  },
  {
   "cell_type": "code",
   "execution_count": 10,
   "metadata": {},
   "outputs": [
    {
     "name": "stdout",
     "output_type": "stream",
     "text": [
      "Data(x=[7600, 932], edge_index=[2, 30019], y=[7600], train_mask=[7600, 10], val_mask=[7600, 10], test_mask=[7600, 10])\n",
      "Length of dataset: 1\n",
      "NumNodes:  7600\n",
      "NumEdges:  30019\n",
      "NumFeats:  932\n",
      "NumClasses:  5\n",
      "NumTrainingSamples:  36480\n",
      "NumValidationSamples:  24320\n",
      "NumTestSamples:  15200\n"
     ]
    }
   ],
   "source": [
    "dataset = Actor(root='/tmp/actor')\n",
    "graph = dataset[0]\n",
    "print(graph)\n",
    "print(\"Length of dataset:\",len(dataset)) # 1\n",
    "print(\"NumNodes: \",graph.x.shape[0])\n",
    "print(\"NumEdges: \",graph.edge_index.shape[1])\n",
    "print(\"NumFeats: \",dataset.num_node_features)\n",
    "print(\"NumClasses: \",dataset.num_classes)\n",
    "print(\"NumTrainingSamples: \",graph.train_mask.nonzero().squeeze().numpy().shape[0])\n",
    "print(\"NumValidationSamples: \", graph.val_mask.nonzero().squeeze().numpy().shape[0])\n",
    "print(\"NumTestSamples: \", graph.test_mask.nonzero().squeeze().numpy().shape[0])\n"
   ]
  },
  {
   "cell_type": "code",
   "execution_count": 11,
   "metadata": {},
   "outputs": [],
   "source": [
    "# actor_feat\n",
    "node_feats = sparse.csr_matrix(graph.x.numpy()) # (7600, 932)\n",
    "# actor_class\n",
    "node_class = graph.y.numpy() # (7600,)\n",
    "# actor_edge\n",
    "edge = graph.edge_index.T.numpy() # (30019, 2)\n",
    "# actor only has 1 single connected graph\n",
    "node_list = np.ones((1, graph.x.shape[0]))  # (1, 7600)\n",
    "edge_list = np.ones((1, graph.edge_index.shape[1]))  # (1, 30019)\n",
    "data = {\n",
    "    \"node_feats\": node_feats,\n",
    "    \"node_class\": node_class,\n",
    "    \"edge\": edge,\n",
    "    \"node_list\": node_list,\n",
    "    \"edge_list\": edge_list\n",
    "}"
   ]
  },
  {
   "cell_type": "markdown",
   "metadata": {},
   "source": [
    "We can save the data file in only one file `actor.npz`."
   ]
  },
  {
   "cell_type": "code",
   "execution_count": 12,
   "metadata": {},
   "outputs": [
    {
     "name": "stdout",
     "output_type": "stream",
     "text": [
      "Save all dense arrays to actor.npz, including ['node_class', 'edge', 'node_list', 'edge_list']\n",
      "Save sparse matrix node_feats to actor_node_feats.sparse.npz\n"
     ]
    },
    {
     "data": {
      "text/plain": [
       "['node_class', 'edge', 'node_list', 'edge_list']"
      ]
     },
     "execution_count": 12,
     "metadata": {},
     "output_type": "execute_result"
    }
   ],
   "source": [
    "from gli.utils import save_data\n",
    "save_data(\"actor\", **data)\n",
    "actor = np.load(\"actor.npz\", allow_pickle=True)\n",
    "actor.files"
   ]
  },
  {
   "cell_type": "code",
   "execution_count": 14,
   "metadata": {},
   "outputs": [
    {
     "name": "stdout",
     "output_type": "stream",
     "text": [
      "Graph is undirected?:  False\n"
     ]
    }
   ],
   "source": [
    "print(\"Graph is undirected?: \",graph.is_undirected())"
   ]
  },
  {
   "cell_type": "markdown",
   "metadata": {},
   "source": [
    "## Task"
   ]
  },
  {
   "cell_type": "code",
   "execution_count": 15,
   "metadata": {},
   "outputs": [
    {
     "name": "stdout",
     "output_type": "stream",
     "text": [
      "torch.Size([7600, 10])\n"
     ]
    }
   ],
   "source": [
    "print(graph.train_mask.shape)"
   ]
  },
  {
   "cell_type": "code",
   "execution_count": 16,
   "metadata": {},
   "outputs": [],
   "source": [
    "train_set = []\n",
    "val_set = []\n",
    "test_set = []\n",
    "for i in range(graph.train_mask.shape[1]):\n",
    "    train_set.append(graph.train_mask[:,i].nonzero().squeeze().numpy())\n",
    "    val_set.append(graph.val_mask[:,i].nonzero().squeeze().numpy())\n",
    "    test_set.append(graph.test_mask[:,i].nonzero().squeeze().numpy())"
   ]
  },
  {
   "cell_type": "code",
   "execution_count": 17,
   "metadata": {},
   "outputs": [
    {
     "name": "stdout",
     "output_type": "stream",
     "text": [
      "Save all dense arrays to actor_task.npz, including ['train_0', 'val_0', 'test_0', 'train_1', 'val_1', 'test_1', 'train_2', 'val_2', 'test_2', 'train_3', 'val_3', 'test_3', 'train_4', 'val_4', 'test_4', 'train_5', 'val_5', 'test_5', 'train_6', 'val_6', 'test_6', 'train_7', 'val_7', 'test_7', 'train_8', 'val_8', 'test_8', 'train_9', 'val_9', 'test_9']\n"
     ]
    }
   ],
   "source": [
    "task_data = {}\n",
    "for i in range(graph.train_mask.shape[1]):\n",
    "    task_data['train_'+str(i)] = train_set[i]\n",
    "    task_data['val_'+str(i)] = val_set[i]\n",
    "    task_data['test_'+str(i)] = test_set[i]\n",
    "\n",
    "save_data(\"actor_task\", **task_data)"
   ]
  }
 ],
 "metadata": {
  "kernelspec": {
   "display_name": "Python 3.9.12 ('GNN')",
   "language": "python",
   "name": "python3"
  },
  "language_info": {
   "codemirror_mode": {
    "name": "ipython",
    "version": 3
   },
   "file_extension": ".py",
   "mimetype": "text/x-python",
   "name": "python",
   "nbconvert_exporter": "python",
   "pygments_lexer": "ipython3",
   "version": "3.9.12"
  },
  "orig_nbformat": 4,
  "vscode": {
   "interpreter": {
    "hash": "0bd942c2e584cb94ca867084588a99f86757dbc66438ffa848a3e419d4c0b11e"
   }
  }
 },
 "nbformat": 4,
 "nbformat_minor": 2
}
