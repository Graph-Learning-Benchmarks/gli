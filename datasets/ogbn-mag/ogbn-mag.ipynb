{
 "cells": [
  {
   "cell_type": "code",
   "execution_count": 1,
   "id": "047d59e5",
   "metadata": {},
   "outputs": [
    {
     "name": "stderr",
     "output_type": "stream",
     "text": [
      "/home/jimmyzxj/miniconda3/envs/gli_env/lib/python3.8/site-packages/tqdm/auto.py:22: TqdmWarning: IProgress not found. Please update jupyter and ipywidgets. See https://ipywidgets.readthedocs.io/en/stable/user_install.html\n",
      "  from .autonotebook import tqdm as notebook_tqdm\n"
     ]
    },
    {
     "name": "stdout",
     "output_type": "stream",
     "text": [
      "Downloading http://snap.stanford.edu/ogb/data/nodeproppred/mag.zip\n"
     ]
    },
    {
     "name": "stderr",
     "output_type": "stream",
     "text": [
      "Downloaded 0.40 GB: 100%|██████████| 413/413 [00:57<00:00,  7.13it/s]\n"
     ]
    },
    {
     "name": "stdout",
     "output_type": "stream",
     "text": [
      "Extracting dataset/mag.zip\n",
      "Loading necessary files...\n",
      "This might take a while.\n",
      "Processing graphs...\n"
     ]
    },
    {
     "name": "stderr",
     "output_type": "stream",
     "text": [
      "100%|██████████| 1/1 [00:00<00:00, 8176.03it/s]"
     ]
    },
    {
     "name": "stdout",
     "output_type": "stream",
     "text": [
      "Saving...\n"
     ]
    },
    {
     "name": "stderr",
     "output_type": "stream",
     "text": [
      "\n"
     ]
    }
   ],
   "source": [
    "# source: https://ogb.stanford.edu/docs/nodeprop/#ogbn-mag\n",
    "\n",
    "from ogb.nodeproppred import NodePropPredDataset\n",
    "\n",
    "dataset = NodePropPredDataset(name=\"ogbn-mag\")\n",
    "\n",
    "split_idx = dataset.get_idx_split()\n",
    "\n",
    "train_idx, valid_idx, test_idx = split_idx[\"train\"], split_idx[\"valid\"], split_idx[\"test\"]\n",
    "graph, label = dataset[0]"
   ]
  },
  {
   "cell_type": "code",
   "execution_count": 2,
   "id": "00c1bba3",
   "metadata": {
    "pycharm": {
     "name": "#%%\n"
    }
   },
   "outputs": [],
   "source": [
    "import numpy as np\n"
   ]
  },
  {
   "cell_type": "code",
   "execution_count": 3,
   "id": "cef0a463",
   "metadata": {
    "pycharm": {
     "name": "#%%\n"
    }
   },
   "outputs": [
    {
     "name": "stdout",
     "output_type": "stream",
     "text": [
      "dict_keys(['edge_index_dict', 'edge_feat_dict', 'node_feat_dict', 'num_nodes_dict', 'node_year', 'edge_reltype'])\n"
     ]
    }
   ],
   "source": [
    "graph, label = dataset[0]\n",
    "\n",
    "print(graph.keys())\n"
   ]
  },
  {
   "cell_type": "code",
   "execution_count": 4,
   "id": "471b04b1",
   "metadata": {
    "pycharm": {
     "name": "#%%\n"
    }
   },
   "outputs": [],
   "source": [
    "label_array = label['paper'].reshape(-1, )\n"
   ]
  },
  {
   "cell_type": "code",
   "execution_count": 5,
   "metadata": {
    "collapsed": false,
    "pycharm": {
     "name": "#%%\n"
    }
   },
   "outputs": [],
   "source": [
    "node_year_array = graph['node_year']['paper'].reshape(-1, )\n"
   ]
  },
  {
   "cell_type": "code",
   "execution_count": 6,
   "metadata": {
    "collapsed": false,
    "pycharm": {
     "name": "#%%\n"
    }
   },
   "outputs": [],
   "source": [
    "PaperNode_id = np.arange(0, graph['num_nodes_dict']['paper'])\n",
    "paper_feats = graph['node_feat_dict']['paper']\n",
    "paper_class = label_array\n",
    "paper_year = node_year_array\n",
    "AuthorNode_id = np.arange(\n",
    "    PaperNode_id[-1] + 1,\n",
    "    PaperNode_id.shape[-1] + 1 + graph['num_nodes_dict']['author'])\n",
    "InstitutionNode_id = np.arange(\n",
    "    AuthorNode_id[-1] + 1,\n",
    "    AuthorNode_id[-1] + 1 + graph['num_nodes_dict']['institution'])\n",
    "FieldOfStudy_id = np.arange(\n",
    "    InstitutionNode_id[-1] + 1,\n",
    "    InstitutionNode_id[-1] + 1 + graph['num_nodes_dict']['field_of_study'])\n"
   ]
  },
  {
   "cell_type": "code",
   "execution_count": 7,
   "id": "4f69eda3",
   "metadata": {
    "pycharm": {
     "name": "#%%\n"
    }
   },
   "outputs": [],
   "source": [
    "author_institution_id = np.arange(\n",
    "    0, graph['edge_index_dict'][('author', 'affiliated_with',\n",
    "                                 'institution')].shape[1])\n",
    "author_paper_id = np.arange(\n",
    "    author_institution_id[-1] + 1, author_institution_id[-1] + 1 +\n",
    "    graph['edge_index_dict'][('author', 'writes', 'paper')].shape[1])\n",
    "paper_paper_id = np.arange(\n",
    "    author_paper_id[-1] + 1, author_paper_id[-1] + 1 +\n",
    "    graph['edge_index_dict'][('paper', 'cites', 'paper')].shape[1])\n",
    "paper_FieldOfStudy_id = np.arange(\n",
    "    paper_paper_id[-1] + 1, paper_paper_id[-1] + 1 +\n",
    "    graph['edge_index_dict'][('paper', 'has_topic',\n",
    "                              'field_of_study')].shape[1])\n",
    "\n",
    "author_institution_edge = np.stack([\n",
    "    graph['edge_index_dict'][('author', 'affiliated_with',\n",
    "                              'institution')][0, :] + AuthorNode_id[0],\n",
    "    graph['edge_index_dict'][('author', 'affiliated_with',\n",
    "                              'institution')][1, :] + InstitutionNode_id[0]\n",
    "]).T\n",
    "\n",
    "author_paper_edge = np.stack([\n",
    "    graph['edge_index_dict'][('author', 'writes', 'paper')][0, :] +\n",
    "    AuthorNode_id[0],\n",
    "    graph['edge_index_dict'][('author', 'writes', 'paper')][1, :] +\n",
    "    PaperNode_id[0]\n",
    "]).T\n",
    "\n",
    "paper_paper_edge = np.stack([\n",
    "    graph['edge_index_dict'][('paper', 'cites', 'paper')][0, :] +\n",
    "    PaperNode_id[0],\n",
    "    graph['edge_index_dict'][('paper', 'cites', 'paper')][1, :] +\n",
    "    PaperNode_id[0]\n",
    "]).T\n",
    "\n",
    "paper_FieldOfStudy_edge = np.stack([\n",
    "    graph['edge_index_dict'][('paper', 'has_topic', 'field_of_study')][0, :] +\n",
    "    PaperNode_id[0],\n",
    "    graph['edge_index_dict'][('paper', 'has_topic', 'field_of_study')][1, :] +\n",
    "    FieldOfStudy_id[0]\n",
    "]).T\n",
    "\n",
    "node_list = np.ones((1, FieldOfStudy_id[-1] + 1))\n",
    "edge_list = np.ones((1, paper_FieldOfStudy_id[-1] + 1))\n"
   ]
  },
  {
   "cell_type": "code",
   "execution_count": 8,
   "id": "2cc54465",
   "metadata": {
    "pycharm": {
     "name": "#%%\n"
    }
   },
   "outputs": [],
   "source": [
    "data = {\n",
    "    \"PaperNode_id\": PaperNode_id,\n",
    "    \"paper_feats\": paper_feats,\n",
    "    \"paper_class\": paper_class,\n",
    "    \"paper_year\": paper_year,\n",
    "    \"AuthorNode_id\": AuthorNode_id,\n",
    "    \"InstitutionNode_id\": InstitutionNode_id,\n",
    "    \"FieldOfStudyNode_id\": FieldOfStudy_id,\n",
    "    \"author_institution_id\": author_institution_id,\n",
    "    \"author_paper_id\": author_paper_id,\n",
    "    \"paper_paper_id\": paper_paper_id,\n",
    "    \"paper_FieldOfStudy_id\": paper_FieldOfStudy_id,\n",
    "    \"author_institution_edge\": author_institution_edge,\n",
    "    \"author_paper_edge\": author_paper_edge,\n",
    "    \"paper_paper_edge\": paper_paper_edge,\n",
    "    \"paper_FieldOfStudy_edge\": paper_FieldOfStudy_edge,\n",
    "    \"node_list\": node_list,\n",
    "    \"edge_list\": edge_list\n",
    "}"
   ]
  },
  {
   "cell_type": "code",
   "execution_count": 9,
   "id": "10df598d",
   "metadata": {
    "pycharm": {
     "is_executing": true,
     "name": "#%%\n"
    }
   },
   "outputs": [
    {
     "name": "stdout",
     "output_type": "stream",
     "text": [
      "Save all dense arrays to ogbn-mag.npz, including ['PaperNode_id', 'paper_feats', 'paper_class', 'paper_year', 'AuthorNode_id', 'InstitutionNode_id', 'FieldOfStudyNode_id', 'author_institution_id', 'author_paper_id', 'paper_paper_id', 'paper_FieldOfStudy_id', 'author_institution_edge', 'author_paper_edge', 'paper_paper_edge', 'paper_FieldOfStudy_edge', 'node_list', 'edge_list']\n"
     ]
    }
   ],
   "source": [
    "from gli.utils import save_data\n",
    "save_data(\"ogbn-mag\", **data)"
   ]
  },
  {
   "cell_type": "code",
   "execution_count": 10,
   "id": "f48e17b9",
   "metadata": {},
   "outputs": [],
   "source": [
    "# Convert idx to unique idx for 3 splits\n",
    "# Because the _ID starts from paper, we do not need to reindex them\n",
    "abs_train_idx = train_idx[\"paper\"]\n",
    "abs_val_idx = valid_idx[\"paper\"]\n",
    "abs_test_idx = test_idx[\"paper\"]"
   ]
  },
  {
   "cell_type": "code",
   "execution_count": 11,
   "id": "1f3bb22f",
   "metadata": {
    "pycharm": {
     "is_executing": true,
     "name": "#%%\n"
    }
   },
   "outputs": [
    {
     "name": "stdout",
     "output_type": "stream",
     "text": [
      "Save all dense arrays to ogbn-mag_task.npz, including ['train', 'val', 'test']\n"
     ]
    }
   ],
   "source": [
    "task_data = {\"train\": abs_train_idx, \"val\": abs_val_idx, \"test\": abs_test_idx}\n",
    "save_data(\"ogbn-mag_task\", **task_data)"
   ]
  }
 ],
 "metadata": {
  "kernelspec": {
   "display_name": "Python 3.8.13 ('gli_env')",
   "language": "python",
   "name": "python3"
  },
  "language_info": {
   "codemirror_mode": {
    "name": "ipython",
    "version": 3
   },
   "file_extension": ".py",
   "mimetype": "text/x-python",
   "name": "python",
   "nbconvert_exporter": "python",
   "pygments_lexer": "ipython3",
   "version": "3.8.13"
  },
  "vscode": {
   "interpreter": {
    "hash": "ae89e7fe314a0c3626f099dacf673708e7342e63ae97a5d57520c606700b6535"
   }
  }
 },
 "nbformat": 4,
 "nbformat_minor": 5
}
