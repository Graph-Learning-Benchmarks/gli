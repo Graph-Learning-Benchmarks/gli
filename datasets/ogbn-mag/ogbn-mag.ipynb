{
 "cells": [
  {
   "cell_type": "code",
   "execution_count": 4,
   "id": "047d59e5",
   "metadata": {},
   "outputs": [],
   "source": [
    "# source: https://ogb.stanford.edu/docs/nodeprop/#ogbn-mag\n",
    "\n",
    "from ogb.nodeproppred import NodePropPredDataset\n",
    "\n",
    "dataset = NodePropPredDataset(name=\"ogbn-mag\")\n",
    "\n",
    "split_idx = dataset.get_idx_split()\n",
    "\n",
    "train_idx, valid_idx, test_idx = split_idx[\"train\"], split_idx[\"valid\"], split_idx[\"test\"]\n",
    "graph, label = dataset[0]"
   ]
  },
  {
   "cell_type": "code",
   "execution_count": 5,
   "id": "7880a487",
   "metadata": {},
   "outputs": [
    {
     "data": {
      "text/plain": [
       "{'train': {'paper': array([     0,      1,      2, ..., 736386, 736387, 736388])},\n",
       " 'valid': {'paper': array([   332,    756,    784, ..., 736364, 736367, 736370])},\n",
       " 'test': {'paper': array([   359,    411,    608, ..., 736358, 736384, 736385])}}"
      ]
     },
     "execution_count": 5,
     "metadata": {},
     "output_type": "execute_result"
    }
   ],
   "source": [
    "split_idx"
   ]
  },
  {
   "cell_type": "code",
   "execution_count": 6,
   "id": "00c1bba3",
   "metadata": {
    "pycharm": {
     "name": "#%%\n"
    }
   },
   "outputs": [],
   "source": [
    "import numpy as np\n"
   ]
  },
  {
   "cell_type": "code",
   "execution_count": 7,
   "id": "cef0a463",
   "metadata": {
    "pycharm": {
     "name": "#%%\n"
    }
   },
   "outputs": [
    {
     "name": "stdout",
     "output_type": "stream",
     "text": [
      "dict_keys(['edge_index_dict', 'edge_feat_dict', 'node_feat_dict', 'num_nodes_dict', 'node_year', 'edge_reltype'])\n"
     ]
    }
   ],
   "source": [
    "graph, label = dataset[0]\n",
    "\n",
    "print(graph.keys())\n"
   ]
  },
  {
   "cell_type": "code",
   "execution_count": 8,
   "id": "471b04b1",
   "metadata": {
    "pycharm": {
     "name": "#%%\n"
    }
   },
   "outputs": [],
   "source": [
    "label_array = label['paper'].reshape(-1, )\n"
   ]
  },
  {
   "cell_type": "code",
   "execution_count": 9,
   "metadata": {
    "collapsed": false,
    "pycharm": {
     "name": "#%%\n"
    }
   },
   "outputs": [],
   "source": [
    "node_year_array = graph['node_year']['paper'].reshape(-1, )\n"
   ]
  },
  {
   "cell_type": "code",
   "execution_count": 10,
   "metadata": {
    "collapsed": false,
    "pycharm": {
     "name": "#%%\n"
    }
   },
   "outputs": [],
   "source": [
    "PaperNode_id = np.arange(0, graph['num_nodes_dict']['paper'])\n",
    "paper_feats = graph['node_feat_dict']['paper']\n",
    "paper_class = label_array\n",
    "paper_year = node_year_array\n",
    "AuthorNode_id = np.arange(\n",
    "    PaperNode_id[-1] + 1,\n",
    "    PaperNode_id.shape[-1] + 1 + graph['num_nodes_dict']['author'])\n",
    "InstitutionNode_id = np.arange(\n",
    "    AuthorNode_id[-1] + 1,\n",
    "    AuthorNode_id[-1] + 1 + graph['num_nodes_dict']['institution'])\n",
    "FieldOfStudy_id = np.arange(\n",
    "    InstitutionNode_id[-1] + 1,\n",
    "    InstitutionNode_id[-1] + 1 + graph['num_nodes_dict']['field_of_study'])\n"
   ]
  },
  {
   "cell_type": "code",
   "execution_count": 11,
   "id": "4f69eda3",
   "metadata": {
    "pycharm": {
     "name": "#%%\n"
    }
   },
   "outputs": [],
   "source": [
    "author_institution_id = np.arange(\n",
    "    0, graph['edge_index_dict'][('author', 'affiliated_with',\n",
    "                                 'institution')].shape[1])\n",
    "author_paper_id = np.arange(\n",
    "    author_institution_id[-1] + 1, author_institution_id[-1] + 1 +\n",
    "    graph['edge_index_dict'][('author', 'writes', 'paper')].shape[1])\n",
    "paper_paper_id = np.arange(\n",
    "    author_paper_id[-1] + 1, author_paper_id[-1] + 1 +\n",
    "    graph['edge_index_dict'][('paper', 'cites', 'paper')].shape[1])\n",
    "paper_FieldOfStudy_id = np.arange(\n",
    "    paper_paper_id[-1] + 1, paper_paper_id[-1] + 1 +\n",
    "    graph['edge_index_dict'][('paper', 'has_topic',\n",
    "                              'field_of_study')].shape[1])\n",
    "\n",
    "author_institution_edge = np.stack([\n",
    "    graph['edge_index_dict'][('author', 'affiliated_with',\n",
    "                              'institution')][0, :] + AuthorNode_id[0],\n",
    "    graph['edge_index_dict'][('author', 'affiliated_with',\n",
    "                              'institution')][1, :] + InstitutionNode_id[0]\n",
    "]).T\n",
    "\n",
    "author_paper_edge = np.stack([\n",
    "    graph['edge_index_dict'][('author', 'writes', 'paper')][0, :] +\n",
    "    AuthorNode_id[0],\n",
    "    graph['edge_index_dict'][('author', 'writes', 'paper')][1, :] +\n",
    "    PaperNode_id[0]\n",
    "]).T\n",
    "\n",
    "paper_paper_edge = np.stack([\n",
    "    graph['edge_index_dict'][('paper', 'cites', 'paper')][0, :] +\n",
    "    PaperNode_id[0],\n",
    "    graph['edge_index_dict'][('paper', 'cites', 'paper')][1, :] +\n",
    "    PaperNode_id[0]\n",
    "]).T\n",
    "\n",
    "paper_FieldOfStudy_edge = np.stack([\n",
    "    graph['edge_index_dict'][('paper', 'has_topic', 'field_of_study')][0, :] +\n",
    "    PaperNode_id[0],\n",
    "    graph['edge_index_dict'][('paper', 'has_topic', 'field_of_study')][1, :] +\n",
    "    FieldOfStudy_id[0]\n",
    "]).T\n",
    "\n",
    "node_list = np.ones((1, FieldOfStudy_id[-1] + 1))\n",
    "edge_list = np.ones((1, paper_FieldOfStudy_id[-1] + 1))\n"
   ]
  },
  {
   "cell_type": "code",
   "execution_count": 12,
   "id": "2cc54465",
   "metadata": {
    "pycharm": {
     "name": "#%%\n"
    }
   },
   "outputs": [],
   "source": [
    "data = {\n",
    "    \"PaperNode_id\": PaperNode_id,\n",
    "    \"paper_feats\": paper_feats,\n",
    "    \"paper_class\": paper_class,\n",
    "    \"paper_year\": paper_year,\n",
    "    \"AuthorNode_id\": AuthorNode_id,\n",
    "    \"InstitutionNode_id\": InstitutionNode_id,\n",
    "    \"FieldOfStudyNode_id\": FieldOfStudy_id,\n",
    "    \"author_institution_id\": author_institution_id,\n",
    "    \"author_paper_id\": author_paper_id,\n",
    "    \"paper_paper_id\": paper_paper_id,\n",
    "    \"paper_FieldOfStudy_id\": paper_FieldOfStudy_id,\n",
    "    \"author_institution_edge\": author_institution_edge,\n",
    "    \"author_paper_edge\": author_paper_edge,\n",
    "    \"paper_paper_edge\": paper_paper_edge,\n",
    "    \"paper_FieldOfStudy_edge\": paper_FieldOfStudy_edge,\n",
    "    \"node_list\": node_list,\n",
    "    \"edge_list\": edge_list\n",
    "}"
   ]
  },
  {
   "cell_type": "code",
   "execution_count": 13,
   "id": "10df598d",
   "metadata": {
    "pycharm": {
     "is_executing": true,
     "name": "#%%\n"
    }
   },
   "outputs": [],
   "source": [
    "np.savez_compressed(\"ogbn-mag.npz\", **data)\n"
   ]
  },
  {
   "cell_type": "code",
   "execution_count": 14,
   "id": "7b6f68c3",
   "metadata": {
    "pycharm": {
     "is_executing": true,
     "name": "#%%\n"
    }
   },
   "outputs": [
    {
     "data": {
      "text/plain": [
       "['PaperNode_id',\n",
       " 'paper_feats',\n",
       " 'paper_class',\n",
       " 'paper_year',\n",
       " 'AuthorNode_id',\n",
       " 'InstitutionNode_id',\n",
       " 'FieldOfStudyNode_id',\n",
       " 'author_institution_id',\n",
       " 'author_paper_id',\n",
       " 'paper_paper_id',\n",
       " 'paper_FieldOfStudy_id',\n",
       " 'author_institution_edge',\n",
       " 'author_paper_edge',\n",
       " 'paper_paper_edge',\n",
       " 'paper_FieldOfStudy_edge',\n",
       " 'node_list',\n",
       " 'edge_list']"
      ]
     },
     "execution_count": 14,
     "metadata": {},
     "output_type": "execute_result"
    }
   ],
   "source": [
    "mag = np.load(\"ogbn-mag.npz\", allow_pickle=True)\n",
    "mag.files"
   ]
  },
  {
   "cell_type": "code",
   "execution_count": 15,
   "id": "f48e17b9",
   "metadata": {},
   "outputs": [],
   "source": [
    "# Convert idx to unique idx for 3 splits\n",
    "# Because the _ID starts from paper, we do not need to reindex them\n",
    "abs_train_idx = train_idx[\"paper\"]\n",
    "abs_val_idx = valid_idx[\"paper\"]\n",
    "abs_test_idx = test_idx[\"paper\"]"
   ]
  },
  {
   "cell_type": "code",
   "execution_count": 16,
   "id": "1f3bb22f",
   "metadata": {
    "pycharm": {
     "is_executing": true,
     "name": "#%%\n"
    }
   },
   "outputs": [],
   "source": [
    "task_data = {\"train\": abs_train_idx, \"val\": abs_val_idx, \"test\": abs_test_idx}\n",
    "np.savez_compressed(\"ogbn-mag_task.npz\", **task_data)"
   ]
  }
 ],
 "metadata": {
  "kernelspec": {
   "display_name": "Python 3.8.13 ('glb')",
   "language": "python",
   "name": "python3"
  },
  "language_info": {
   "codemirror_mode": {
    "name": "ipython",
    "version": 3
   },
   "file_extension": ".py",
   "mimetype": "text/x-python",
   "name": "python",
   "nbconvert_exporter": "python",
   "pygments_lexer": "ipython3",
   "version": "3.8.13"
  },
  "vscode": {
   "interpreter": {
    "hash": "43c1fb6cb64b59bf0c05f5dd3e90bbd34c90ca87a814811ab6da1b203556aa91"
   }
  }
 },
 "nbformat": 4,
 "nbformat_minor": 5
}
