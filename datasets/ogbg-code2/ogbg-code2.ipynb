{
 "cells": [
  {
   "cell_type": "code",
   "execution_count": 2,
   "metadata": {},
   "outputs": [
    {
     "name": "stderr",
     "output_type": "stream",
     "text": [
      "Using backend: pytorch\n"
     ]
    }
   ],
   "source": [
    "import json\n",
    "import numpy as np\n",
    "import torch\n",
    "import scipy.sparse as sparse\n",
    "from ogb.graphproppred import GraphPropPredDataset\n",
    "from torch_geometric.loader import DataLoader\n",
    "\n",
    "# Download and process data at './dataset/ogbg_code2/'\n",
    "dataset = GraphPropPredDataset(name = 'ogbg-code2')\n",
    "\n",
    "\n",
    "split_idx = dataset.get_idx_split()\n",
    "train_idx, valid_idx, test_idx = split_idx[\"train\"], split_idx[\"valid\"], split_idx[\"test\"]\n"
   ]
  },
  {
   "cell_type": "code",
   "execution_count": null,
   "metadata": {},
   "outputs": [],
   "source": [
    "print(dataset[0][0].keys())"
   ]
  },
  {
   "cell_type": "code",
   "execution_count": 4,
   "metadata": {},
   "outputs": [],
   "source": [
    "from tqdm import tqdm\n",
    "node_list = []\n",
    "labels = []\n",
    "edges = []\n",
    "sizes=[]\n",
    "node_depth=[]\n",
    "edge_feats = []\n",
    "node_feats = []\n",
    "num_nodes = 0"
   ]
  },
  {
   "cell_type": "code",
   "execution_count": 5,
   "metadata": {},
   "outputs": [
    {
     "name": "stderr",
     "output_type": "stream",
     "text": [
      "100%|██████████| 452741/452741 [00:11<00:00, 38735.03it/s]"
     ]
    },
    {
     "name": "stdout",
     "output_type": "stream",
     "text": [
      "452741\n",
      "56688578\n"
     ]
    },
    {
     "name": "stderr",
     "output_type": "stream",
     "text": [
      "\n"
     ]
    }
   ],
   "source": [
    "for g, label in tqdm(dataset):\n",
    "    node_list.append(np.arange(g[\"num_nodes\"]) + num_nodes)  # All the nodes are considered in a single graph\n",
    "    edges.append(np.stack(g[\"edge_index\"]).T + num_nodes)\n",
    "    edge_feats.append(g[\"edge_feat\"])\n",
    "    node_feats.append(g[\"node_feat\"])\n",
    "    while len(label) < 19:\n",
    "        label.append(\"\")\n",
    "    labels.append(label)\n",
    "    sizes.append(len(label))\n",
    "    num_nodes += g[\"num_nodes\"]\n",
    "print(len(edges))\n",
    "print(num_nodes)\n",
    "\n"
   ]
  },
  {
   "cell_type": "code",
   "execution_count": 6,
   "metadata": {},
   "outputs": [
    {
     "name": "stdout",
     "output_type": "stream",
     "text": [
      "452741\n",
      "None\n"
     ]
    }
   ],
   "source": [
    "print(np.size(edge_feats))\n",
    "print(edge_feats[333])\n"
   ]
  },
  {
   "cell_type": "code",
   "execution_count": 7,
   "metadata": {},
   "outputs": [],
   "source": [
    "_edges = np.concatenate(edges, axis=0)\n",
    "_labels = np.stack(labels).squeeze()\n",
    "_node_feats = np.concatenate(node_feats)"
   ]
  },
  {
   "cell_type": "code",
   "execution_count": 8,
   "metadata": {},
   "outputs": [
    {
     "name": "stdout",
     "output_type": "stream",
     "text": [
      "452741\n",
      "19\n",
      "19.0\n"
     ]
    }
   ],
   "source": [
    "print(len(sizes))\n",
    "print(np.max(sizes))\n",
    "print(np.average(sizes))"
   ]
  },
  {
   "cell_type": "markdown",
   "metadata": {},
   "source": []
  },
  {
   "cell_type": "code",
   "execution_count": 9,
   "metadata": {},
   "outputs": [],
   "source": [
    "_node_list = sparse.lil_matrix((len(dataset), num_nodes))\n",
    "for i, indices in enumerate(node_list):\n",
    "    _node_list[i, indices] = 1"
   ]
  },
  {
   "cell_type": "code",
   "execution_count": null,
   "metadata": {},
   "outputs": [],
   "source": []
  },
  {
   "cell_type": "code",
   "execution_count": 11,
   "metadata": {},
   "outputs": [],
   "source": [
    "_edges = np.concatenate(edges, axis=0)\n",
    "_labels = np.stack(labels).squeeze()\n",
    "_node_feats = np.concatenate(node_feats)"
   ]
  },
  {
   "cell_type": "code",
   "execution_count": 12,
   "metadata": {},
   "outputs": [],
   "source": [
    "data = {\n",
    "    \"node_feats\": _node_feats,\n",
    "    \"edge\": _edges,\n",
    "    \"graph_class\": _labels,\n",
    "    \"node_list\": _node_list,\n",
    "}\n",
    "np.savez_compressed(\"ogbg-molfreesolv.npz\", **data)"
   ]
  },
  {
   "cell_type": "code",
   "execution_count": 1,
   "metadata": {},
   "outputs": [
    {
     "ename": "NameError",
     "evalue": "name 'train_idx' is not defined",
     "output_type": "error",
     "traceback": [
      "\u001b[0;31m---------------------------------------------------------------------------\u001b[0m",
      "\u001b[0;31mNameError\u001b[0m                                 Traceback (most recent call last)",
      "\u001b[1;32m/Users/tuyiwen/Desktop/GLB/code2/ogbg-code2.ipynb Cell 13'\u001b[0m in \u001b[0;36m<cell line: 2>\u001b[0;34m()\u001b[0m\n\u001b[1;32m      <a href='vscode-notebook-cell:/Users/tuyiwen/Desktop/GLB/code2/ogbg-code2.ipynb#ch0000012?line=0'>1</a>\u001b[0m task_data\u001b[39m=\u001b[39m{\n\u001b[0;32m----> <a href='vscode-notebook-cell:/Users/tuyiwen/Desktop/GLB/code2/ogbg-code2.ipynb#ch0000012?line=1'>2</a>\u001b[0m     \u001b[39m\"\u001b[39m\u001b[39mtrain\u001b[39m\u001b[39m\"\u001b[39m :train_idx,\n\u001b[1;32m      <a href='vscode-notebook-cell:/Users/tuyiwen/Desktop/GLB/code2/ogbg-code2.ipynb#ch0000012?line=2'>3</a>\u001b[0m     \u001b[39m\"\u001b[39m\u001b[39mval\u001b[39m\u001b[39m\"\u001b[39m :valid_idx,\n\u001b[1;32m      <a href='vscode-notebook-cell:/Users/tuyiwen/Desktop/GLB/code2/ogbg-code2.ipynb#ch0000012?line=3'>4</a>\u001b[0m     \u001b[39m\"\u001b[39m\u001b[39mtest\u001b[39m\u001b[39m\"\u001b[39m :test_idx\n\u001b[1;32m      <a href='vscode-notebook-cell:/Users/tuyiwen/Desktop/GLB/code2/ogbg-code2.ipynb#ch0000012?line=4'>5</a>\u001b[0m }\n\u001b[1;32m      <a href='vscode-notebook-cell:/Users/tuyiwen/Desktop/GLB/code2/ogbg-code2.ipynb#ch0000012?line=5'>6</a>\u001b[0m np\u001b[39m.\u001b[39msavez_compressed(\u001b[39m\"\u001b[39m\u001b[39mogbg-molpcba_task.npz\u001b[39m\u001b[39m\"\u001b[39m,\u001b[39m*\u001b[39m\u001b[39m*\u001b[39mtask_data)\n",
      "\u001b[0;31mNameError\u001b[0m: name 'train_idx' is not defined"
     ]
    }
   ],
   "source": [
    "task_data={\n",
    "    \"train\" :train_idx,\n",
    "    \"val\" :valid_idx,\n",
    "    \"test\" :test_idx\n",
    "}\n",
    "np.savez_compressed(\"ogbg-molpcba_task.npz\",**task_data)"
   ]
  },
  {
   "cell_type": "code",
   "execution_count": null,
   "metadata": {},
   "outputs": [],
   "source": []
  }
 ],
 "metadata": {
  "kernelspec": {
   "display_name": "Python 3.8.9 64-bit",
   "language": "python",
   "name": "python3"
  },
  "language_info": {
   "codemirror_mode": {
    "name": "ipython",
    "version": 3
   },
   "file_extension": ".py",
   "mimetype": "text/x-python",
   "name": "python",
   "nbconvert_exporter": "python",
   "pygments_lexer": "ipython3",
   "version": "3.8.9"
  },
  "orig_nbformat": 4,
  "vscode": {
   "interpreter": {
    "hash": "31f2aee4e71d21fbe5cf8b01ff0e069b9275f58929596ceb00d14d90e3e16cd6"
   }
  }
 },
 "nbformat": 4,
 "nbformat_minor": 2
}
