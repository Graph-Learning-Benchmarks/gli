{
  "cells": [
    {
      "cell_type": "code",
      "execution_count": 1,
      "id": "047d59e5",
      "metadata": {},
      "outputs": [
        {
          "name": "stderr",
          "output_type": "stream",
          "text": [
            "/home/jimmyzxj/miniconda3/envs/gli_env/lib/python3.8/site-packages/tqdm/auto.py:22: TqdmWarning: IProgress not found. Please update jupyter and ipywidgets. See https://ipywidgets.readthedocs.io/en/stable/user_install.html\n",
            "  from .autonotebook import tqdm as notebook_tqdm\n"
          ]
        },
        {
          "name": "stdout",
          "output_type": "stream",
          "text": [
            "Downloading http://snap.stanford.edu/ogb/data/graphproppred/csv_mol_download/hiv.zip\n"
          ]
        },
        {
          "name": "stderr",
          "output_type": "stream",
          "text": [
            "Downloaded 0.00 GB: 100%|██████████| 3/3 [00:00<00:00,  4.03it/s]\n"
          ]
        },
        {
          "name": "stdout",
          "output_type": "stream",
          "text": [
            "Extracting dataset/hiv.zip\n",
            "Loading necessary files...\n",
            "This might take a while.\n",
            "Processing graphs...\n"
          ]
        },
        {
          "name": "stderr",
          "output_type": "stream",
          "text": [
            "100%|██████████| 41127/41127 [00:00<00:00, 93359.30it/s]\n"
          ]
        },
        {
          "name": "stdout",
          "output_type": "stream",
          "text": [
            "Saving...\n"
          ]
        }
      ],
      "source": [
        "######################## think about graph task config types\n",
        "\n",
        "# source: https://ogb.stanford.edu/docs/graphprop/#ogbg-mol\n",
        "\n",
        "from ogb.graphproppred import GraphPropPredDataset\n",
        "\n",
        "dataset = GraphPropPredDataset(name = 'ogbg-molhiv')\n",
        "\n",
        "split_idx = dataset.get_idx_split()\n",
        "train_idx, valid_idx, test_idx = split_idx[\"train\"], split_idx[\"valid\"], split_idx[\"test\"]\n"
      ]
    },
    {
      "cell_type": "code",
      "execution_count": 2,
      "id": "1ebbae48",
      "metadata": {
        "collapsed": false,
        "pycharm": {
          "name": "#%%\n"
        }
      },
      "outputs": [],
      "source": [
        "import json\n",
        "import numpy as np\n",
        "import torch\n",
        "import scipy.sparse as sparse"
      ]
    },
    {
      "cell_type": "code",
      "execution_count": 3,
      "id": "8a532bad",
      "metadata": {},
      "outputs": [
        {
          "name": "stdout",
          "output_type": "stream",
          "text": [
            "dict_keys(['edge_index', 'edge_feat', 'node_feat', 'num_nodes'])\n",
            "[0]\n"
          ]
        }
      ],
      "source": [
        "print(dataset[0][0].keys())\n",
        "print(dataset[0][1])"
      ]
    },
    {
      "cell_type": "code",
      "execution_count": 4,
      "id": "f2e90091",
      "metadata": {},
      "outputs": [
        {
          "name": "stderr",
          "output_type": "stream",
          "text": [
            "100%|██████████| 41127/41127 [00:00<00:00, 45962.67it/s]\n"
          ]
        }
      ],
      "source": [
        "from tqdm import tqdm\n",
        "node_list = []\n",
        "labels = []\n",
        "edges = []\n",
        "edge_feats = []\n",
        "node_feats = []\n",
        "num_nodes = 0\n",
        "for g, label in tqdm(dataset):\n",
        "    node_list.append(np.arange(g[\"num_nodes\"]) + num_nodes)  # All the nodes are considered in a single graph\n",
        "    edges.append(np.stack(g[\"edge_index\"]).T + num_nodes)\n",
        "    labels.append(label)\n",
        "    edge_feats.append(g[\"edge_feat\"])\n",
        "    node_feats.append(g[\"node_feat\"])\n",
        "    num_nodes += g[\"num_nodes\"]"
      ]
    },
    {
      "cell_type": "code",
      "execution_count": 5,
      "id": "87783cdf",
      "metadata": {},
      "outputs": [],
      "source": [
        "_edges = np.concatenate(edges, axis=0)\n",
        "_labels = np.stack(labels).squeeze()\n",
        "_edge_feats = np.concatenate(edge_feats)\n",
        "_node_feats = np.concatenate(node_feats)"
      ]
    },
    {
      "cell_type": "code",
      "execution_count": 6,
      "id": "a339d676",
      "metadata": {},
      "outputs": [],
      "source": [
        "_node_list = sparse.lil_matrix((len(dataset), num_nodes))\n",
        "for i, indices in enumerate(node_list):\n",
        "    _node_list[i, indices] = 1"
      ]
    },
    {
      "cell_type": "code",
      "execution_count": 7,
      "id": "18313658",
      "metadata": {},
      "outputs": [
        {
          "name": "stdout",
          "output_type": "stream",
          "text": [
            "(2259376, 2) (41127,) (2259376, 3) (1049163, 9) (41127, 1049163)\n"
          ]
        }
      ],
      "source": [
        "print(_edges.shape, _labels.shape, _edge_feats.shape, _node_feats.shape, _node_list.shape)"
      ]
    },
    {
      "cell_type": "code",
      "execution_count": 10,
      "id": "e34de373",
      "metadata": {},
      "outputs": [],
      "source": [
        "data = {\n",
        "    \"node_feats\": _node_feats,\n",
        "    \"graph_class\": _labels,\n",
        "    \"edge\": _edges,\n",
        "    \"edge_feats\": _edge_feats,\n",
        "    \"node_list\": _node_list.tocoo(),\n",
        "}"
      ]
    },
    {
      "cell_type": "code",
      "execution_count": 11,
      "id": "b511961e",
      "metadata": {
        "collapsed": false,
        "pycharm": {
          "name": "#%%\n"
        }
      },
      "outputs": [
        {
          "name": "stdout",
          "output_type": "stream",
          "text": [
            "Save all dense arrays to ogbg-molhiv.npz, including ['node_feats', 'graph_class', 'edge', 'edge_feats']\n",
            "Save sparse matrix node_list to ogbg-molhiv_node_list.sparse.npz\n"
          ]
        }
      ],
      "source": [
        "from gli.utils import save_data\n",
        "save_data(\"ogbg-molhiv\", **data)"
      ]
    },
    {
      "cell_type": "code",
      "execution_count": 12,
      "id": "951c8de7",
      "metadata": {
        "collapsed": false,
        "pycharm": {
          "name": "#%%\n"
        }
      },
      "outputs": [
        {
          "name": "stdout",
          "output_type": "stream",
          "text": [
            "Save all dense arrays to ogbg-molhiv_task.npz, including ['train', 'val', 'test']\n"
          ]
        }
      ],
      "source": [
        "task_data = {\n",
        "    \"train\": train_idx,\n",
        "    \"val\": valid_idx,\n",
        "    \"test\": test_idx\n",
        "}\n",
        "save_data(\"ogbg-molhiv_task\", **task_data)"
      ]
    },
    {
      "cell_type": "code",
      "execution_count": null,
      "id": "f623624e",
      "metadata": {},
      "outputs": [],
      "source": []
    }
  ],
  "metadata": {
    "kernelspec": {
      "display_name": "Python 3.8.13 ('gli_env')",
      "language": "python",
      "name": "python3"
    },
    "language_info": {
      "codemirror_mode": {
        "name": "ipython",
        "version": 3
      },
      "file_extension": ".py",
      "mimetype": "text/x-python",
      "name": "python",
      "nbconvert_exporter": "python",
      "pygments_lexer": "ipython3",
      "version": "3.8.13"
    },
    "vscode": {
      "interpreter": {
        "hash": "ae89e7fe314a0c3626f099dacf673708e7342e63ae97a5d57520c606700b6535"
      }
    }
  },
  "nbformat": 4,
  "nbformat_minor": 5
}
