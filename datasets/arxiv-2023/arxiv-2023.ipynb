{
 "cells": [
  {
   "cell_type": "markdown",
   "metadata": {},
   "source": [
    "# arxiv-2023 conversion script"
   ]
  },
  {
   "cell_type": "markdown",
   "metadata": {},
   "source": [
    "## Data"
   ]
  },
  {
   "cell_type": "code",
   "execution_count": 57,
   "metadata": {},
   "outputs": [],
   "source": [
    "import os\n",
    "import torch\n",
    "import pandas as pd\n",
    "import numpy\n",
    "import json"
   ]
  },
  {
   "cell_type": "code",
   "execution_count": 19,
   "metadata": {},
   "outputs": [],
   "source": [
    "base_path=\"./LLM/dataset/arxiv_2023\"\n",
    "# Load processed data\n",
    "edge_index = torch.load(os.path.join(base_path, \"processed\", \"edge_index.pt\"))\n",
    "    \n",
    "# Load raw data\n",
    "# edge_df = pd.read_csv(os.path.join(base_path, \"raw\", \"edge.csv.gz\"), compression='gzip')\n",
    "titles_df = pd.read_csv(os.path.join(base_path, \"raw\", \"titles.csv.gz\"), compression='gzip')\n",
    "abstracts_df = pd.read_csv(os.path.join(base_path, \"raw\", \"abstracts.csv.gz\"), compression='gzip')\n",
    "ids_df = pd.read_csv(os.path.join(base_path, \"raw\", \"ids.csv.gz\"), compression='gzip')\n",
    "labels_df = pd.read_csv(os.path.join(base_path, \"raw\", \"labels.csv.gz\"), compression='gzip')\n",
    "    \n",
    "# Load split data\n",
    "train_id_df = pd.read_csv(os.path.join(base_path, \"split\", \"train.csv.gz\"), compression='gzip')\n",
    "val_id_df = pd.read_csv(os.path.join(base_path, \"split\", \"valid.csv.gz\"), compression='gzip')\n",
    "test_id_df = pd.read_csv(os.path.join(base_path, \"split\", \"test.csv.gz\"), compression='gzip')\n",
    "    \n",
    "num_nodes = len(ids_df)\n",
    "titles = titles_df['titles'].tolist()\n",
    "abstracts = abstracts_df['abstracts'].tolist()\n",
    "ids = ids_df['ids'].tolist()\n",
    "labels = labels_df['labels'].tolist()\n",
    "train_id = train_id_df['train_id'].tolist()\n",
    "val_id = val_id_df['val_id'].tolist()\n",
    "test_id = test_id_df['test_id'].tolist()\n",
    "\n",
    "features = torch.load(os.path.join(base_path, \"processed\", \"features.pt\"))\n",
    "\n",
    "y = torch.load(os.path.join(base_path, \"processed\", \"labels.pt\"))\n",
    "    \n",
    "train_mask = torch.tensor([x in train_id for x in range(num_nodes)])\n",
    "val_mask = torch.tensor([x in val_id for x in range(num_nodes)])\n",
    "test_mask = torch.tensor([x in test_id for x in range(num_nodes)])"
   ]
  },
  {
   "cell_type": "code",
   "execution_count": 45,
   "metadata": {},
   "outputs": [],
   "source": [
    "from gli.io import save_graph, Attribute\n",
    "node_attrs=[\n",
    "  Attribute(\n",
    "    \"Titles\",\n",
    "    numpy.array(titles),\n",
    "    \"Title of each node\",\n",
    "    \"str\",\n",
    "    \"Tensor\",\n",
    "  ),\n",
    "  Attribute(\n",
    "    \"Abstracts\",\n",
    "    numpy.array(abstracts),\n",
    "    \"Abstract of each article(node)\",\n",
    "    \"str\",\n",
    "    \"Tensor\",\n",
    "  ),\n",
    "  Attribute(\n",
    "    \"Ids\",\n",
    "    numpy.array([str(id) for id in ids]),\n",
    "    \"Id of each article(node)\",\n",
    "    \"str\",\n",
    "    \"Tensor\",\n",
    "  ),\n",
    "  \n",
    "]\n",
    "\n",
    "metadata = save_graph(\n",
    "  name=\"arxiv-2023\",\n",
    "  edge=numpy.array(edge_index).T,\n",
    "  num_nodes=num_nodes,\n",
    "  node_attrs=node_attrs,\n",
    "  description=\"ARXIV-2023 dataset.\",\n",
    "  cite=\"@misc{huang2023llms,\\ntitle={Can LLMs Effectively Leverage Graph Structural Information: When and Why},\\nauthor={Jin Huang and Xingjian Zhang and Qiaozhu Mei and Jiaqi Ma},\\nyear={2023},\\neprint={2309.16595},\\narchivePrefix={arXiv},\\nprimaryClass={cs.LG}\\n}\",\n",
    ")\n"
   ]
  },
  {
   "cell_type": "code",
   "execution_count": 61,
   "metadata": {},
   "outputs": [
    {
     "data": {
      "text/plain": [
       "33868"
      ]
     },
     "execution_count": 61,
     "metadata": {},
     "output_type": "execute_result"
    }
   ],
   "source": [
    "num_nodes"
   ]
  },
  {
   "cell_type": "markdown",
   "metadata": {},
   "source": []
  },
  {
   "cell_type": "code",
   "execution_count": 56,
   "metadata": {},
   "outputs": [],
   "source": [
    "from gli.io import save_task_node_classification\n",
    "\n",
    "task_data = save_task_node_classification(\n",
    "  name=\"arxiv-2023\",\n",
    "  description=\"Node classification on arxiv-2023 dataset.\",\n",
    "  feature=[\"Node/NodeFeature\"],\n",
    "  target=\"Node/NodeLabel\",\n",
    "  num_classes=40,\n",
    "  train_set=numpy.array(train_mask),\n",
    "  val_set=numpy.array(val_mask),\n",
    "  test_set=numpy.array(test_mask),\n",
    "  task_id=\"1\"\n",
    ")\n"
   ]
  },
  {
   "cell_type": "code",
   "execution_count": 62,
   "metadata": {},
   "outputs": [
    {
     "data": {
      "text/plain": [
       "torch.Size([2, 305672])"
      ]
     },
     "execution_count": 62,
     "metadata": {},
     "output_type": "execute_result"
    }
   ],
   "source": [
    "edge_index.shape"
   ]
  }
 ],
 "metadata": {
  "kernelspec": {
   "display_name": "env",
   "language": "python",
   "name": "python3"
  },
  "language_info": {
   "codemirror_mode": {
    "name": "ipython",
    "version": 3
   },
   "file_extension": ".py",
   "mimetype": "text/x-python",
   "name": "python",
   "nbconvert_exporter": "python",
   "pygments_lexer": "ipython3",
   "version": "3.11.5"
  }
 },
 "nbformat": 4,
 "nbformat_minor": 2
}
