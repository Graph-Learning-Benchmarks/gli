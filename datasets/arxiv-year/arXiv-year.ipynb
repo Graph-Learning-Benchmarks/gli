{
 "cells": [
  {
   "cell_type": "code",
   "execution_count": 1,
   "metadata": {},
   "outputs": [
    {
     "name": "stderr",
     "output_type": "stream",
     "text": [
      "/home/litianyue/anaconda3/envs/GNN/lib/python3.9/site-packages/tqdm/auto.py:22: TqdmWarning: IProgress not found. Please update jupyter and ipywidgets. See https://ipywidgets.readthedocs.io/en/stable/user_install.html\n",
      "  from .autonotebook import tqdm as notebook_tqdm\n"
     ]
    }
   ],
   "source": [
    "import json\n",
    "import numpy as np\n",
    "import torch\n",
    "import scipy.sparse as sparse\n",
    "from dataset import load_nc_dataset"
   ]
  },
  {
   "cell_type": "code",
   "execution_count": 2,
   "metadata": {},
   "outputs": [],
   "source": [
    "dataset = load_nc_dataset('arxiv-year')\n",
    "split_idx = dataset.get_idx_split()\n",
    "train_idx, valid_idx, test_idx = split_idx[\"train\"], split_idx[\"valid\"], split_idx[\"test\"]\n",
    "graph, label = dataset[0]\n"
   ]
  },
  {
   "cell_type": "code",
   "execution_count": 3,
   "metadata": {},
   "outputs": [
    {
     "name": "stdout",
     "output_type": "stream",
     "text": [
      "Length of dataset: 1\n",
      "NumNodes:  169343\n",
      "NumEdges:  1166243\n",
      "NumFeats:  128\n",
      "NumClasses:  5\n",
      "NumTrainingSamples:  84671\n",
      "NumValidationSamples:  42335\n",
      "NumTestSamples:  42337\n"
     ]
    }
   ],
   "source": [
    "print(\"Length of dataset:\",len(dataset))\n",
    "print(\"NumNodes: \",graph['num_nodes'])\n",
    "print(\"NumEdges: \",graph['edge_index'].shape[1])\n",
    "print(\"NumFeats: \",graph['node_feat'].shape[1])\n",
    "print(\"NumClasses: \", 5) # only for this dataset\n",
    "print(\"NumTrainingSamples: \",train_idx.shape[0])\n",
    "print(\"NumValidationSamples: \", valid_idx.shape[0])\n",
    "print(\"NumTestSamples: \", test_idx.shape[0])"
   ]
  },
  {
   "cell_type": "code",
   "execution_count": 4,
   "metadata": {},
   "outputs": [
    {
     "name": "stdout",
     "output_type": "stream",
     "text": [
      "torch.Size([1166243, 2])\n"
     ]
    }
   ],
   "source": [
    "print(graph['edge_index'].T.shape)"
   ]
  },
  {
   "cell_type": "code",
   "execution_count": 5,
   "metadata": {},
   "outputs": [
    {
     "name": "stdout",
     "output_type": "stream",
     "text": [
      "-1.388865 1.638744\n",
      "float32\n",
      "int64\n"
     ]
    }
   ],
   "source": [
    "# node_features\n",
    "node_feats = graph['node_feat'].numpy()\n",
    "# node_class\n",
    "node_class = label.numpy().reshape((-1))\n",
    "# edge_index\n",
    "edge = graph['edge_index'].T.numpy()\n",
    "# arxiv_year has 1 single connected graph\n",
    "node_list = np.ones((1, graph['num_nodes']))\n",
    "edge_list = np.ones((1, graph['edge_index'].shape[1]))\n",
    "data = {\n",
    "    \"node_feats\": node_feats,\n",
    "    \"node_class\": node_class,\n",
    "    \"edge\": edge,\n",
    "    \"node_list\": node_list,\n",
    "    \"edge_list\": edge_list\n",
    "}\n",
    "print(np.nanmin(node_feats),np.nanmax(node_feats))\n",
    "print(node_feats.dtype)\n",
    "print(node_class.dtype)"
   ]
  },
  {
   "cell_type": "code",
   "execution_count": 6,
   "metadata": {},
   "outputs": [
    {
     "data": {
      "text/plain": [
       "['node_feats', 'node_class', 'edge', 'node_list', 'edge_list']"
      ]
     },
     "execution_count": 6,
     "metadata": {},
     "output_type": "execute_result"
    }
   ],
   "source": [
    "np.savez_compressed(\"arxiv-year.npz\", **data)\n",
    "arxiv = np.load(\"arxiv-year.npz\", allow_pickle=True)\n",
    "arxiv.files"
   ]
  },
  {
   "cell_type": "code",
   "execution_count": 7,
   "metadata": {},
   "outputs": [
    {
     "name": "stdout",
     "output_type": "stream",
     "text": [
      "79M\tarxiv-year.npz\n"
     ]
    }
   ],
   "source": [
    "!du arxiv-year.npz -h"
   ]
  },
  {
   "cell_type": "markdown",
   "metadata": {},
   "source": [
    "## Task"
   ]
  },
  {
   "cell_type": "markdown",
   "metadata": {},
   "source": [
    "Random Split. No dataset_task.npz"
   ]
  }
 ],
 "metadata": {
  "kernelspec": {
   "display_name": "Python 3.9.0 ('GNN')",
   "language": "python",
   "name": "python3"
  },
  "language_info": {
   "codemirror_mode": {
    "name": "ipython",
    "version": 3
   },
   "file_extension": ".py",
   "mimetype": "text/x-python",
   "name": "python",
   "nbconvert_exporter": "python",
   "pygments_lexer": "ipython3",
   "version": "3.9.0"
  },
  "orig_nbformat": 4,
  "vscode": {
   "interpreter": {
    "hash": "0bd942c2e584cb94ca867084588a99f86757dbc66438ffa848a3e419d4c0b11e"
   }
  }
 },
 "nbformat": 4,
 "nbformat_minor": 2
}
