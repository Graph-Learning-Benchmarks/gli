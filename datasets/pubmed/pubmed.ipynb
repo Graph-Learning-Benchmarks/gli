{
 "cells": [
  {
   "cell_type": "markdown",
   "metadata": {
    "id": "-YF5X2_e_16o"
   },
   "source": [
    "# Pubmed Example"
   ]
  },
  {
   "cell_type": "markdown",
   "metadata": {
    "id": "jr4MY1lr_16r"
   },
   "source": [
    "## Data"
   ]
  },
  {
   "cell_type": "code",
   "execution_count": null,
   "metadata": {
    "id": "tfqmpzcJ_16u"
   },
   "outputs": [],
   "source": [
    "import json\n",
    "import numpy as np\n",
    "import torch\n",
    "import scipy.sparse as sparse\n",
    "from dgl.data import PubmedGraphDataset\n",
    "dataset = PubmedGraphDataset()\n",
    "graph = dataset[0]"
   ]
  },
  {
   "cell_type": "markdown",
   "metadata": {
    "id": "kWLV759P_16w"
   },
   "source": [
    "We can save the data file in only one file `pubmed.npz`."
   ]
  },
  {
   "cell_type": "code",
   "execution_count": null,
   "metadata": {
    "id": "L_RKUyt3_16w"
   },
   "outputs": [],
   "source": [
    "# pubmed_feat\n",
    "node_feats = sparse.csr_matrix(graph.ndata[\"feat\"].numpy())\n",
    "# pubmed_class\n",
    "node_class = graph.ndata[\"label\"].numpy()  # (19717,)\n",
    "# pubmed_edge\n",
    "edge = torch.stack(graph.edges()).numpy().T\n",
    "# pubmed only has 1 single graph, there are some isolated nodes in the graph. \n",
    "# These isolated nodes are added as zero-vecs into the right position\n",
    "node_list = np.ones((1, graph.num_nodes()))  # (1, 19717)\n",
    "edge_list = np.ones((1, graph.num_edges()))  # (1, 88651)\n",
    "\n",
    "data = {\n",
    "    \"node_feats\": node_feats,\n",
    "    \"node_class\": node_class,\n",
    "    \"edge\": edge,\n",
    "    \"node_list\": node_list,\n",
    "    \"edge_list\": edge_list\n",
    "}"
   ]
  },
  {
   "cell_type": "code",
   "execution_count": null,
   "metadata": {
    "id": "8koIwVDI_16x"
   },
   "outputs": [],
   "source": [
    "np.savez_compressed(\"pubmed.npz\", **data)"
   ]
  },
  {
   "cell_type": "code",
   "execution_count": null,
   "metadata": {
    "id": "MwrkBOFY_16y"
   },
   "outputs": [],
   "source": [
    "pubmed = np.load(\"pubmed.npz\", allow_pickle=True)\n",
    "pubmed.files"
   ]
  },
  {
   "cell_type": "code",
   "execution_count": null,
   "metadata": {
    "id": "wc70FpvL_16y"
   },
   "outputs": [],
   "source": [
    "!du pubmed.npz -h"
   ]
  },
  {
   "cell_type": "markdown",
   "metadata": {
    "id": "qauMEjnq_16z"
   },
   "source": [
    "## Task"
   ]
  },
  {
   "cell_type": "code",
   "execution_count": null,
   "metadata": {
    "id": "rmgrGq3R_16z"
   },
   "outputs": [],
   "source": [
    "train_set = graph.ndata[\"train_mask\"].nonzero().squeeze().numpy()\n",
    "val_set = graph.ndata[\"val_mask\"].nonzero().squeeze().numpy()\n",
    "test_set = graph.ndata[\"test_mask\"].nonzero().squeeze().numpy()"
   ]
  },
  {
   "cell_type": "code",
   "execution_count": null,
   "metadata": {
    "id": "y8LUePuR_160"
   },
   "outputs": [],
   "source": [
    "task_data = {\n",
    "    \"train\": train_set,\n",
    "    \"val\": val_set,\n",
    "    \"test\": test_set\n",
    "}\n",
    "np.savez_compressed(\"pubmed_task.npz\", **task_data)"
   ]
  }
 ],
 "metadata": {
  "colab": {
   "collapsed_sections": [],
   "name": "pubmed.ipynb",
   "provenance": []
  },
  "interpreter": {
   "hash": "c060a5fe1ced4d379d309ec1358bf896d440ce64254413b3c9daccac0d24786c"
  },
  "kernelspec": {
   "display_name": "Python 3 (ipykernel)",
   "language": "python",
   "name": "python3"
  },
  "language_info": {
   "codemirror_mode": {
    "name": "ipython",
    "version": 3
   },
   "file_extension": ".py",
   "mimetype": "text/x-python",
   "name": "python",
   "nbconvert_exporter": "python",
   "pygments_lexer": "ipython3",
   "version": "3.9.7"
  }
 },
 "nbformat": 4,
 "nbformat_minor": 0
}
