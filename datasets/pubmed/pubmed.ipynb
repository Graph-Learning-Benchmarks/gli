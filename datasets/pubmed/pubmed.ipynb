{
 "cells": [
  {
   "cell_type": "markdown",
   "metadata": {
    "id": "-YF5X2_e_16o"
   },
   "source": [
    "# Pubmed Example"
   ]
  },
  {
   "cell_type": "markdown",
   "metadata": {
    "id": "jr4MY1lr_16r"
   },
   "source": [
    "## Data"
   ]
  },
  {
   "cell_type": "code",
   "execution_count": 1,
   "metadata": {
    "id": "tfqmpzcJ_16u"
   },
   "outputs": [
    {
     "name": "stdout",
     "output_type": "stream",
     "text": [
      "  NumNodes: 19717\n",
      "  NumEdges: 88651\n",
      "  NumFeats: 500\n",
      "  NumClasses: 3\n",
      "  NumTrainingSamples: 60\n",
      "  NumValidationSamples: 500\n",
      "  NumTestSamples: 1000\n",
      "Done loading data from cached files.\n"
     ]
    }
   ],
   "source": [
    "import json\n",
    "import numpy as np\n",
    "import torch\n",
    "import scipy.sparse as sparse\n",
    "from dgl.data import PubmedGraphDataset\n",
    "dataset = PubmedGraphDataset()\n",
    "graph = dataset[0]"
   ]
  },
  {
   "cell_type": "markdown",
   "metadata": {
    "id": "kWLV759P_16w"
   },
   "source": [
    "We can save the data file in only one file `pubmed.npz`."
   ]
  },
  {
   "cell_type": "code",
   "execution_count": 2,
   "metadata": {
    "id": "L_RKUyt3_16w"
   },
   "outputs": [],
   "source": [
    "# pubmed_feat\n",
    "node_feats = sparse.csr_matrix(graph.ndata[\"feat\"].numpy())\n",
    "# pubmed_class\n",
    "node_class = graph.ndata[\"label\"].numpy()  # (19717,)\n",
    "# pubmed_edge\n",
    "edge = torch.stack(graph.edges()).numpy().T\n",
    "# pubmed only has 1 single graph, there are some isolated nodes in the graph. \n",
    "# These isolated nodes are added as zero-vecs into the right position\n",
    "node_list = np.ones((1, graph.num_nodes()))  # (1, 19717)\n",
    "edge_list = np.ones((1, graph.num_edges()))  # (1, 88651)\n",
    "\n",
    "data = {\n",
    "    \"node_feats\": node_feats,\n",
    "    \"node_class\": node_class,\n",
    "    \"edge\": edge,\n",
    "    \"node_list\": node_list,\n",
    "    \"edge_list\": edge_list\n",
    "}"
   ]
  },
  {
   "cell_type": "code",
   "execution_count": 3,
   "metadata": {
    "id": "8koIwVDI_16x"
   },
   "outputs": [
    {
     "name": "stdout",
     "output_type": "stream",
     "text": [
      "Save all dense arrays to pubmed.npz, including ['node_class', 'edge', 'node_list', 'edge_list']\n",
      "Save sparse matrix node_feats to pubmed_node_feats.sparse.npz\n"
     ]
    }
   ],
   "source": [
    "from gli.utils import save_data\n",
    "save_data(\"pubmed\", **data)"
   ]
  },
  {
   "cell_type": "code",
   "execution_count": 4,
   "metadata": {
    "id": "MwrkBOFY_16y"
   },
   "outputs": [
    {
     "data": {
      "text/plain": [
       "['node_class', 'edge', 'node_list', 'edge_list']"
      ]
     },
     "execution_count": 4,
     "metadata": {},
     "output_type": "execute_result"
    }
   ],
   "source": [
    "pubmed = np.load(\"pubmed.npz\", allow_pickle=True)\n",
    "pubmed.files"
   ]
  },
  {
   "cell_type": "code",
   "execution_count": 5,
   "metadata": {
    "id": "wc70FpvL_16y"
   },
   "outputs": [
    {
     "name": "stdout",
     "output_type": "stream",
     "text": [
      "624\tpubmed.npz\n",
      "du: -h: No such file or directory\n"
     ]
    }
   ],
   "source": [
    "!du pubmed.npz -h"
   ]
  },
  {
   "cell_type": "markdown",
   "metadata": {
    "id": "qauMEjnq_16z"
   },
   "source": [
    "## Task"
   ]
  },
  {
   "cell_type": "code",
   "execution_count": 6,
   "metadata": {
    "id": "rmgrGq3R_16z"
   },
   "outputs": [],
   "source": [
    "train_set = graph.ndata[\"train_mask\"].nonzero().squeeze().numpy()\n",
    "val_set = graph.ndata[\"val_mask\"].nonzero().squeeze().numpy()\n",
    "test_set = graph.ndata[\"test_mask\"].nonzero().squeeze().numpy()"
   ]
  },
  {
   "cell_type": "code",
   "execution_count": 7,
   "metadata": {
    "id": "y8LUePuR_160"
   },
   "outputs": [],
   "source": [
    "task_data = {\n",
    "    \"train\": train_set,\n",
    "    \"val\": val_set,\n",
    "    \"test\": test_set\n",
    "}\n",
    "np.savez_compressed(\"pubmed_task.npz\", **task_data)"
   ]
  },
  {
   "cell_type": "code",
   "execution_count": null,
   "metadata": {},
   "outputs": [],
   "source": []
  }
 ],
 "metadata": {
  "colab": {
   "collapsed_sections": [],
   "name": "pubmed.ipynb",
   "provenance": []
  },
  "kernelspec": {
   "display_name": "Python 3.10.6 ('gli')",
   "language": "python",
   "name": "python3"
  },
  "language_info": {
   "codemirror_mode": {
    "name": "ipython",
    "version": 3
   },
   "file_extension": ".py",
   "mimetype": "text/x-python",
   "name": "python",
   "nbconvert_exporter": "python",
   "pygments_lexer": "ipython3",
   "version": "3.10.6"
  },
  "vscode": {
   "interpreter": {
    "hash": "496735e2510eb01598c2e41c87e7158e483456e27064fdd2aa156655e2ef77e9"
   }
  }
 },
 "nbformat": 4,
 "nbformat_minor": 0
}
