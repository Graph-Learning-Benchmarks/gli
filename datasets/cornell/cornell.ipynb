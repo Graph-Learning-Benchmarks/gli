{
 "cells": [
  {
   "cell_type": "code",
   "execution_count": 1,
   "metadata": {},
   "outputs": [
    {
     "name": "stderr",
     "output_type": "stream",
     "text": [
      "/home/litianyue/anaconda3/envs/GNN/lib/python3.9/site-packages/tqdm/auto.py:22: TqdmWarning: IProgress not found. Please update jupyter and ipywidgets. See https://ipywidgets.readthedocs.io/en/stable/user_install.html\n",
      "  from .autonotebook import tqdm as notebook_tqdm\n"
     ]
    }
   ],
   "source": [
    "import json\n",
    "import numpy as np\n",
    "import torch\n",
    "import scipy.sparse as sparse\n",
    "from torch_geometric.datasets import WebKB"
   ]
  },
  {
   "cell_type": "code",
   "execution_count": 2,
   "metadata": {},
   "outputs": [
    {
     "name": "stdout",
     "output_type": "stream",
     "text": [
      "Data(x=[183, 1703], edge_index=[2, 298], y=[183], train_mask=[183, 10], val_mask=[183, 10], test_mask=[183, 10])\n",
      "Length of dataset: 1\n",
      "NumNodes:  183\n",
      "NumEdges:  298\n",
      "NumFeats:  1703\n",
      "NumClasses:  5\n",
      "NumTrainingSamples:  870\n",
      "NumValidationSamples:  590\n",
      "NumTestSamples:  370\n"
     ]
    }
   ],
   "source": [
    "dataset = WebKB(root='/tmp/webkb', name='cornell')\n",
    "# dataset = WebKB(root='/tmp/webkb', name='texas')\n",
    "# dataset = WebKB(root='/tmp/webkb', name='wisconsin')\n",
    "graph = dataset[0]\n",
    "print(graph)\n",
    "print(\"Length of dataset:\",len(dataset)) # 1\n",
    "print(\"NumNodes: \",graph.x.shape[0])\n",
    "print(\"NumEdges: \",graph.edge_index.shape[1])\n",
    "print(\"NumFeats: \",dataset.num_node_features)\n",
    "print(\"NumClasses: \",dataset.num_classes)\n",
    "print(\"NumTrainingSamples: \",graph.train_mask.nonzero().squeeze().numpy().shape[0])\n",
    "print(\"NumValidationSamples: \", graph.val_mask.nonzero().squeeze().numpy().shape[0])\n",
    "print(\"NumTestSamples: \", graph.test_mask.nonzero().squeeze().numpy().shape[0])\n"
   ]
  },
  {
   "cell_type": "code",
   "execution_count": 3,
   "metadata": {},
   "outputs": [],
   "source": [
    "# cornell_feat\n",
    "node_feats = sparse.csr_matrix(graph.x.numpy()) # (183, 1703)\n",
    "# cornell_class\n",
    "node_class = graph.y.numpy() # (183,)\n",
    "# cornell_edge\n",
    "edge = graph.edge_index.T.numpy() # (298, 2)\n",
    "# cornell only has 1 single connected graph\n",
    "node_list = np.ones((1, graph.x.shape[0]))  # (1, 183)\n",
    "edge_list = np.ones((1, graph.edge_index.shape[1]))  # (1, 298)\n",
    "data = {\n",
    "    \"node_feats\": node_feats,\n",
    "    \"node_class\": node_class,\n",
    "    \"edge\": edge,\n",
    "    \"node_list\": node_list,\n",
    "    \"edge_list\": edge_list\n",
    "}"
   ]
  },
  {
   "cell_type": "markdown",
   "metadata": {},
   "source": [
    "We can save the data file in only one file `cornell.npz`."
   ]
  },
  {
   "cell_type": "code",
   "execution_count": 4,
   "metadata": {},
   "outputs": [
    {
     "data": {
      "text/plain": [
       "['node_feats', 'node_class', 'edge', 'node_list', 'edge_list']"
      ]
     },
     "execution_count": 4,
     "metadata": {},
     "output_type": "execute_result"
    }
   ],
   "source": [
    "np.savez_compressed(\"cornell.npz\", **data)\n",
    "cornell = np.load(\"cornell.npz\", allow_pickle=True)\n",
    "cornell.files"
   ]
  },
  {
   "cell_type": "code",
   "execution_count": 5,
   "metadata": {},
   "outputs": [
    {
     "name": "stdout",
     "output_type": "stream",
     "text": [
      "24K\tcornell.npz\n"
     ]
    }
   ],
   "source": [
    "!du cornell.npz -h"
   ]
  },
  {
   "cell_type": "code",
   "execution_count": 6,
   "metadata": {},
   "outputs": [
    {
     "name": "stdout",
     "output_type": "stream",
     "text": [
      "Graph is undirected?:  False\n"
     ]
    }
   ],
   "source": [
    "print(\"Graph is undirected?: \",graph.is_undirected())"
   ]
  },
  {
   "cell_type": "markdown",
   "metadata": {},
   "source": [
    "## Task"
   ]
  },
  {
   "cell_type": "code",
   "execution_count": 9,
   "metadata": {},
   "outputs": [
    {
     "name": "stdout",
     "output_type": "stream",
     "text": [
      "torch.Size([183, 10])\n"
     ]
    }
   ],
   "source": [
    "print(graph.train_mask.shape)"
   ]
  },
  {
   "cell_type": "code",
   "execution_count": 10,
   "metadata": {},
   "outputs": [],
   "source": [
    "train_set = []\n",
    "val_set = []\n",
    "test_set = []\n",
    "for i in range(graph.train_mask.shape[1]):\n",
    "    train_set.append(graph.train_mask[:,i].nonzero().squeeze().numpy())\n",
    "    val_set.append(graph.val_mask[:,i].nonzero().squeeze().numpy())\n",
    "    test_set.append(graph.test_mask[:,i].nonzero().squeeze().numpy())"
   ]
  },
  {
   "cell_type": "code",
   "execution_count": 8,
   "metadata": {},
   "outputs": [],
   "source": [
    "task_data = {}\n",
    "for i in range(graph.train_mask.shape[1]):\n",
    "    task_data['train_'+str(i)] = train_set[i]\n",
    "    task_data['val_'+str(i)] = val_set[i]\n",
    "    task_data['test_'+str(i)] = test_set[i]\n",
    "np.savez_compressed(\"cornell_task.npz\", **task_data)"
   ]
  }
 ],
 "metadata": {
  "kernelspec": {
   "display_name": "Python 3.9.0 ('GNN')",
   "language": "python",
   "name": "python3"
  },
  "language_info": {
   "codemirror_mode": {
    "name": "ipython",
    "version": 3
   },
   "file_extension": ".py",
   "mimetype": "text/x-python",
   "name": "python",
   "nbconvert_exporter": "python",
   "pygments_lexer": "ipython3",
   "version": "3.9.0"
  },
  "orig_nbformat": 4,
  "vscode": {
   "interpreter": {
    "hash": "0bd942c2e584cb94ca867084588a99f86757dbc66438ffa848a3e419d4c0b11e"
   }
  }
 },
 "nbformat": 4,
 "nbformat_minor": 2
}
