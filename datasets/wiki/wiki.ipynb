{
 "cells": [
  {
   "cell_type": "code",
   "execution_count": 1,
   "metadata": {},
   "outputs": [],
   "source": [
    "import numpy as np\n",
    "from gli.utils import download_file_from_google_drive"
   ]
  },
  {
   "cell_type": "code",
   "execution_count": 2,
   "metadata": {},
   "outputs": [
    {
     "data": {
      "application/json": {
       "ascii": false,
       "bar_format": null,
       "colour": null,
       "elapsed": 0.01160287857055664,
       "initial": 0,
       "n": 0,
       "ncols": null,
       "nrows": null,
       "postfix": null,
       "prefix": "",
       "rate": null,
       "total": null,
       "unit": "it",
       "unit_divisor": 1000,
       "unit_scale": false
      },
      "application/vnd.jupyter.widget-view+json": {
       "model_id": "b1d5e6a3edd5480db9539e848bedab67",
       "version_major": 2,
       "version_minor": 0
      },
      "text/plain": [
       "0it [00:00, ?it/s]"
      ]
     },
     "metadata": {},
     "output_type": "display_data"
    },
    {
     "name": "stdout",
     "output_type": "stream",
     "text": [
      "Successfully downloaded wiki_original.npz to ./ from https://drive.google.com/uc?id=10LKY0XJGLJr1q0yYrFVE7tl_T3DCbp_c&export=download.\n"
     ]
    }
   ],
   "source": [
    "download_file_from_google_drive(\"https://drive.google.com/uc?id=10LKY0XJGLJr1q0yYrFVE7tl_T3DCbp_c&export=download\", \"./\", filename=\"wiki_original.npz\", verbose=True)"
   ]
  },
  {
   "cell_type": "code",
   "execution_count": 3,
   "metadata": {},
   "outputs": [],
   "source": [
    "data = np.load(\"./wiki_original.npz\")\n",
    "d = {}\n",
    "for key in data:\n",
    "    d[key] = data[key]"
   ]
  },
  {
   "cell_type": "code",
   "execution_count": 4,
   "metadata": {},
   "outputs": [
    {
     "name": "stdout",
     "output_type": "stream",
     "text": [
      "Save all dense arrays to wiki.npz, including ['node_feats', 'node_class', 'edge', 'node_list', 'edge_list']\n"
     ]
    }
   ],
   "source": [
    "from gli.utils import save_data\n",
    "save_data(\"wiki\", **d)"
   ]
  }
 ],
 "metadata": {
  "kernelspec": {
   "display_name": "Python 3.10.6 ('gli')",
   "language": "python",
   "name": "python3"
  },
  "language_info": {
   "codemirror_mode": {
    "name": "ipython",
    "version": 3
   },
   "file_extension": ".py",
   "mimetype": "text/x-python",
   "name": "python",
   "nbconvert_exporter": "python",
   "pygments_lexer": "ipython3",
   "version": "3.10.6"
  },
  "vscode": {
   "interpreter": {
    "hash": "496735e2510eb01598c2e41c87e7158e483456e27064fdd2aa156655e2ef77e9"
   }
  }
 },
 "nbformat": 4,
 "nbformat_minor": 2
}
