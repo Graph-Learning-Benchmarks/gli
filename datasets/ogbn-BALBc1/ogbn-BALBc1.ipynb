{
 "cells": [
  {
   "cell_type": "markdown",
   "metadata": {},
   "source": [
    "# VesselGraph / ogbn-BALBc1"
   ]
  },
  {
   "cell_type": "markdown",
   "metadata": {},
   "source": [
    "## Data (OGB dataloader)"
   ]
  },
  {
   "cell_type": "code",
   "execution_count": 2,
   "metadata": {},
   "outputs": [
    {
     "name": "stderr",
     "output_type": "stream",
     "text": [
      "WARNING:root:The OGB package is out of date. Your version is 1.3.1, while the latest version is 1.3.3.\n"
     ]
    }
   ],
   "source": [
    "# load data with ogb\n",
    "from source.ogb.nodeproppred import *\n",
    "import numpy as np\n",
    "\n",
    "data = NodePropPredDataset(name='ogbn-BALBc_no1_pb_minRadiusAvg')"
   ]
  },
  {
   "cell_type": "code",
   "execution_count": 3,
   "metadata": {},
   "outputs": [
    {
     "name": "stdout",
     "output_type": "stream",
     "text": [
      "{'edge_index': array([[      0,       0,       2, ..., 5345896, 5345896, 5345896],\n",
      "       [ 296569,  296570,       5, ..., 5345780, 5345891, 5345895]]), 'edge_feat': None, 'node_feat': array([[182.464  , 167.946  ,   1.08644],\n",
      "       [  9.98625,   6.7082 ,   1.48866],\n",
      "       [  2.48805,   2.44949,   1.01574],\n",
      "       ...,\n",
      "       [  5.93296,   5.22614,   1.13525],\n",
      "       [ 10.8936 ,   9.40043,   1.15884],\n",
      "       [  3.18663,   3.14469,   1.01333]], dtype=float32), 'num_nodes': 5345897}\n",
      "[[0.]\n",
      " [0.]\n",
      " [0.]\n",
      " ...\n",
      " [0.]\n",
      " [0.]\n",
      " [0.]]\n"
     ]
    }
   ],
   "source": [
    "# print dataset\n",
    "whole_dataset = data[0]\n",
    "\n",
    "print(whole_dataset[0])\n",
    "print(whole_dataset[1])"
   ]
  },
  {
   "cell_type": "code",
   "execution_count": 3,
   "metadata": {},
   "outputs": [],
   "source": [
    "# extract data from dataset\n",
    "node_list = np.ones((1, whole_dataset['num_nodes']))\n",
    "node_feats = whole_dataset['node_feat']\n",
    "edge_list = np.ones((1, len(whole_dataset['edge_feat'])))\n",
    "edge = whole_dataset['edge_index']"
   ]
  },
  {
   "cell_type": "code",
   "execution_count": 4,
   "metadata": {},
   "outputs": [],
   "source": [
    "# format final data\n",
    "final_data = {\n",
    "    \"node_list\": node_list,\n",
    "    \"node_feats\": node_feats,\n",
    "    \"edge\": edge,\n",
    "    \"edge_list\": edge_list\n",
    "}"
   ]
  },
  {
   "cell_type": "code",
   "execution_count": null,
   "metadata": {},
   "outputs": [],
   "source": [
    "# save data\n",
    "np.savez_compressed('ogbn-BALBc1.npz', **final_data)"
   ]
  },
  {
   "cell_type": "markdown",
   "metadata": {},
   "source": [
    "## Task"
   ]
  },
  {
   "cell_type": "code",
   "execution_count": 7,
   "metadata": {},
   "outputs": [],
   "source": [
    "# split dataset, extract data\n",
    "split_data = data.get_idx_split()\n",
    "train = split_data['train']\n",
    "validation = split_data['valid']\n",
    "test = split_data['test']"
   ]
  },
  {
   "cell_type": "code",
   "execution_count": 8,
   "metadata": {},
   "outputs": [
    {
     "name": "stdout",
     "output_type": "stream",
     "text": [
      "{'train': tensor([  10644, 1950498, 3617219,  ..., 5175531, 1892318, 4635274]), 'valid': tensor([3176663,  526107, 4348115,  ..., 4249506,  140666, 5262843]), 'test': tensor([3208453, 1181709, 2974036,  ..., 2133634, 1461501, 3905179])}\n"
     ]
    }
   ],
   "source": [
    "print(split_data)"
   ]
  },
  {
   "cell_type": "code",
   "execution_count": 9,
   "metadata": {},
   "outputs": [],
   "source": [
    "# format task data\n",
    "task_data = {\n",
    "    \"train\": train,\n",
    "    \"validation\": validation,\n",
    "    \"test\": test\n",
    "}"
   ]
  },
  {
   "cell_type": "code",
   "execution_count": null,
   "metadata": {},
   "outputs": [],
   "source": [
    "# save data\n",
    "np.savez_compressed('ogbn-BALBc1_node_classification.npz', **task_data)"
   ]
  }
 ],
 "metadata": {
  "kernelspec": {
   "display_name": "Python 3.9.7 64-bit",
   "language": "python",
   "name": "python3"
  },
  "language_info": {
   "codemirror_mode": {
    "name": "ipython",
    "version": 3
   },
   "file_extension": ".py",
   "mimetype": "text/x-python",
   "name": "python",
   "nbconvert_exporter": "python",
   "pygments_lexer": "ipython3",
   "version": "3.9.7"
  },
  "orig_nbformat": 4,
  "vscode": {
   "interpreter": {
    "hash": "aee8b7b246df8f9039afb4144a1f6fd8d2ca17a180786b69acc140d282b71a49"
   }
  }
 },
 "nbformat": 4,
 "nbformat_minor": 2
}
