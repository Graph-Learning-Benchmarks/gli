{
 "cells": [
  {
   "cell_type": "markdown",
   "metadata": {
    "id": "-YF5X2_e_16o"
   },
   "source": [
    "# Citeseer Example"
   ]
  },
  {
   "cell_type": "markdown",
   "metadata": {
    "id": "jr4MY1lr_16r"
   },
   "source": [
    "## Data"
   ]
  },
  {
   "cell_type": "code",
   "execution_count": 1,
   "metadata": {
    "executionInfo": {
     "elapsed": 4,
     "status": "ok",
     "timestamp": 1643613485957,
     "user": {
      "displayName": "Hezheng Fan",
      "photoUrl": "https://lh3.googleusercontent.com/a/default-user=s64",
      "userId": "02692002400554089702"
     },
     "user_tz": 300
    },
    "id": "Ke-xCu-X_16s"
   },
   "outputs": [],
   "source": [
    "metadata ={\n",
    "    \"description\": \"CITESEER dataset.\",\n",
    "    \"data\": {\n",
    "        \"Node\": {\n",
    "            \"NodeFeature\": {\n",
    "                \"description\": \"Node features of Citeseer dataset.\",\n",
    "                \"type\": \"float\",\n",
    "                \"format\": \"SparseTensor\",\n",
    "                \"file\": \"citeseer.npz\",\n",
    "                \"key\": \"node_feats\"\n",
    "            },\n",
    "            \"NodeLabel\": {\n",
    "                \"description\": \"Node labels of Citeseer dataset, int ranged from 1 to 6.\",\n",
    "                \"type\": \"int\",\n",
    "                \"format\": \"Tensor\",\n",
    "                \"file\": \"citeseer.npz\",\n",
    "                \"key\": \"node_class\",\n",
    "                \"num_classes\": 6\n",
    "            }\n",
    "        },\n",
    "        \"Edge\": {\n",
    "            \"_Edge\": {\n",
    "                \"file\": \"citeseer.npz\",\n",
    "                \"key\": \"edge\"\n",
    "            }\n",
    "        },\n",
    "        \"Graph\": {\n",
    "            \"_NodeList\": {\n",
    "                \"file\": \"citeseer.npz\",\n",
    "                \"key\": \"node_list\"\n",
    "            },\n",
    "            \"_EdgeList\": {\n",
    "                \"file\": \"citeseer.npz\",\n",
    "                \"key\": \"edge_list\"\n",
    "            }\n",
    "        }\n",
    "    },\n",
    "    \"citation\": \"@inproceedings{yang2016revisiting,\\ntitle={Revisiting semi-supervised learning with graph embeddings},\\nauthor={Yang, Zhilin and Cohen, William and Salakhudinov, Ruslan},\\nbooktitle={International conference on machine learning},\\npages={40--48},\\nyear={2016},\\norganization={PMLR}\\n}\"\n",
    " }\n",
    " "
   ]
  },
  {
   "cell_type": "code",
   "execution_count": 2,
   "metadata": {
    "colab": {
     "base_uri": "https://localhost:8080/"
    },
    "executionInfo": {
     "elapsed": 1918,
     "status": "ok",
     "timestamp": 1643615454509,
     "user": {
      "displayName": "Hezheng Fan",
      "photoUrl": "https://lh3.googleusercontent.com/a/default-user=s64",
      "userId": "02692002400554089702"
     },
     "user_tz": 300
    },
    "id": "tfqmpzcJ_16u",
    "outputId": "6985a36d-ecc6-4e78-9b8a-cbdad720469f"
   },
   "outputs": [
    {
     "name": "stderr",
     "output_type": "stream",
     "text": [
      "Using backend: pytorch\n"
     ]
    },
    {
     "name": "stdout",
     "output_type": "stream",
     "text": [
      "Downloading /home/jimmyzxj/.dgl/citeseer.zip from https://data.dgl.ai/dataset/citeseer.zip...\n",
      "Extracting file to /home/jimmyzxj/.dgl/citeseer\n",
      "Finished data loading and preprocessing.\n",
      "  NumNodes: 3327\n",
      "  NumEdges: 9228\n",
      "  NumFeats: 3703\n",
      "  NumClasses: 6\n",
      "  NumTrainingSamples: 120\n",
      "  NumValidationSamples: 500\n",
      "  NumTestSamples: 1000\n",
      "Done saving data into cached files.\n"
     ]
    },
    {
     "name": "stderr",
     "output_type": "stream",
     "text": [
      "/home/jimmyzxj/miniconda3/envs/py39/lib/python3.9/site-packages/dgl/data/citation_graph.py:275: RuntimeWarning: divide by zero encountered in power\n",
      "  r_inv = np.power(rowsum, -1).flatten()\n"
     ]
    }
   ],
   "source": [
    "import json\n",
    "import numpy as np\n",
    "import torch\n",
    "import scipy.sparse as sparse\n",
    "from dgl.data import CiteseerGraphDataset\n",
    "dataset = CiteseerGraphDataset()\n",
    "graph = dataset[0]"
   ]
  },
  {
   "cell_type": "markdown",
   "metadata": {
    "id": "kWLV759P_16w"
   },
   "source": [
    "We can save the data file in only one file `citeseer.npz`."
   ]
  },
  {
   "cell_type": "code",
   "execution_count": 3,
   "metadata": {
    "executionInfo": {
     "elapsed": 223,
     "status": "ok",
     "timestamp": 1643615483449,
     "user": {
      "displayName": "Hezheng Fan",
      "photoUrl": "https://lh3.googleusercontent.com/a/default-user=s64",
      "userId": "02692002400554089702"
     },
     "user_tz": 300
    },
    "id": "L_RKUyt3_16w"
   },
   "outputs": [],
   "source": [
    "# citeseer_feat\n",
    "node_feats = sparse.csr_matrix(graph.ndata[\"feat\"].numpy())\n",
    "# citeseer_class\n",
    "node_class = graph.ndata[\"label\"].numpy()  # (3327,)\n",
    "# citeseer_edge\n",
    "edge = torch.stack(graph.edges()).numpy().T\n",
    "# citeseer only has 1 single graph, there are some isolated nodes in the graph. \n",
    "# These isolated nodes are added as zero-vecs into the right position\n",
    "node_list = np.ones((1, graph.num_nodes()))  # (1, 3327)\n",
    "edge_list = np.ones((1, graph.num_edges()))  # (1, 9228)\n",
    "\n",
    "data = {\n",
    "    \"node_feats\": node_feats,\n",
    "    \"node_class\": node_class,\n",
    "    \"edge\": edge,\n",
    "    \"node_list\": node_list,\n",
    "    \"edge_list\": edge_list\n",
    "}"
   ]
  },
  {
   "cell_type": "code",
   "execution_count": 4,
   "metadata": {
    "executionInfo": {
     "elapsed": 126,
     "status": "ok",
     "timestamp": 1643616427955,
     "user": {
      "displayName": "Hezheng Fan",
      "photoUrl": "https://lh3.googleusercontent.com/a/default-user=s64",
      "userId": "02692002400554089702"
     },
     "user_tz": 300
    },
    "id": "8koIwVDI_16x"
   },
   "outputs": [],
   "source": [
    "np.savez_compressed(\"citeseer.npz\", **data)"
   ]
  },
  {
   "cell_type": "code",
   "execution_count": 5,
   "metadata": {
    "colab": {
     "base_uri": "https://localhost:8080/"
    },
    "executionInfo": {
     "elapsed": 108,
     "status": "ok",
     "timestamp": 1643616429130,
     "user": {
      "displayName": "Hezheng Fan",
      "photoUrl": "https://lh3.googleusercontent.com/a/default-user=s64",
      "userId": "02692002400554089702"
     },
     "user_tz": 300
    },
    "id": "MwrkBOFY_16y",
    "outputId": "29f20ce9-32a9-47ac-e41e-605185baf7ea"
   },
   "outputs": [
    {
     "data": {
      "text/plain": [
       "['node_feats', 'node_class', 'edge', 'node_list', 'edge_list']"
      ]
     },
     "execution_count": 5,
     "metadata": {},
     "output_type": "execute_result"
    }
   ],
   "source": [
    "citeseer = np.load(\"citeseer.npz\", allow_pickle=True)\n",
    "citeseer.files"
   ]
  },
  {
   "cell_type": "code",
   "execution_count": 6,
   "metadata": {
    "colab": {
     "base_uri": "https://localhost:8080/"
    },
    "executionInfo": {
     "elapsed": 249,
     "status": "ok",
     "timestamp": 1643616430855,
     "user": {
      "displayName": "Hezheng Fan",
      "photoUrl": "https://lh3.googleusercontent.com/a/default-user=s64",
      "userId": "02692002400554089702"
     },
     "user_tz": 300
    },
    "id": "wc70FpvL_16y",
    "outputId": "481c0cae-8ba4-4cf2-876e-459bce45795c"
   },
   "outputs": [
    {
     "name": "stdout",
     "output_type": "stream",
     "text": [
      "208K\tciteseer.npz\n"
     ]
    }
   ],
   "source": [
    "!du citeseer.npz -h"
   ]
  },
  {
   "cell_type": "code",
   "execution_count": 7,
   "metadata": {
    "executionInfo": {
     "elapsed": 124,
     "status": "ok",
     "timestamp": 1643616477785,
     "user": {
      "displayName": "Hezheng Fan",
      "photoUrl": "https://lh3.googleusercontent.com/a/default-user=s64",
      "userId": "02692002400554089702"
     },
     "user_tz": 300
    },
    "id": "VG2h51uu_16y"
   },
   "outputs": [],
   "source": [
    "json.dump(metadata, open(\"metadata.json\", \"w\"))"
   ]
  },
  {
   "cell_type": "markdown",
   "metadata": {
    "id": "qauMEjnq_16z"
   },
   "source": [
    "## Task"
   ]
  },
  {
   "cell_type": "code",
   "execution_count": 8,
   "metadata": {
    "executionInfo": {
     "elapsed": 93,
     "status": "ok",
     "timestamp": 1643616516855,
     "user": {
      "displayName": "Hezheng Fan",
      "photoUrl": "https://lh3.googleusercontent.com/a/default-user=s64",
      "userId": "02692002400554089702"
     },
     "user_tz": 300
    },
    "id": "4YjxSgj9_16z"
   },
   "outputs": [],
   "source": [
    "task = {\n",
    "    \"description\": \"Node classification on CITESEER dataset. Planetoid split.\",\n",
    "    \"type\": \"NodeClassification\",\n",
    "    \"feature\": [{\n",
    "        \"object\": \"Node\",\n",
    "        \"attribute\": \"NodeFeature\"\n",
    "    }],\n",
    "    \"target\": {\n",
    "        \"object\": \"Node\",\n",
    "        \"attribute\": \"NodeLabel\",\n",
    "        \"num_classes\": 6\n",
    "    },\n",
    "    \"train_set\": {\n",
    "        \"file\": \"citeseer_task.npz\",\n",
    "        \"key\": \"train\"\n",
    "    },\n",
    "    \"val_set\": {\n",
    "        \"file\": \"citeseer_task.npz\",\n",
    "        \"key\": \"val\"\n",
    "    },\n",
    "    \"test_set\": {\n",
    "        \"file\": \"citeseer_task.npz\",\n",
    "        \"key\": \"test\"\n",
    "    }\n",
    "}\n"
   ]
  },
  {
   "cell_type": "code",
   "execution_count": 9,
   "metadata": {
    "executionInfo": {
     "elapsed": 97,
     "status": "ok",
     "timestamp": 1643616520332,
     "user": {
      "displayName": "Hezheng Fan",
      "photoUrl": "https://lh3.googleusercontent.com/a/default-user=s64",
      "userId": "02692002400554089702"
     },
     "user_tz": 300
    },
    "id": "rmgrGq3R_16z"
   },
   "outputs": [],
   "source": [
    "train_set = graph.ndata[\"train_mask\"].nonzero().squeeze().numpy()\n",
    "val_set = graph.ndata[\"val_mask\"].nonzero().squeeze().numpy()\n",
    "test_set = graph.ndata[\"test_mask\"].nonzero().squeeze().numpy()"
   ]
  },
  {
   "cell_type": "code",
   "execution_count": 10,
   "metadata": {
    "executionInfo": {
     "elapsed": 108,
     "status": "ok",
     "timestamp": 1643616525846,
     "user": {
      "displayName": "Hezheng Fan",
      "photoUrl": "https://lh3.googleusercontent.com/a/default-user=s64",
      "userId": "02692002400554089702"
     },
     "user_tz": 300
    },
    "id": "y8LUePuR_160"
   },
   "outputs": [],
   "source": [
    "task_data = {\n",
    "    \"train\": train_set,\n",
    "    \"val\": val_set,\n",
    "    \"test\": test_set\n",
    "}\n",
    "np.savez_compressed(\"citeseer_task.npz\", **task_data)\n",
    "\n",
    "\n"
   ]
  },
  {
   "cell_type": "code",
   "execution_count": null,
   "metadata": {
    "id": "yWM_DBgkLD1M"
   },
   "outputs": [],
   "source": []
  }
 ],
 "metadata": {
  "colab": {
   "collapsed_sections": [],
   "name": "citeseer.ipynb",
   "provenance": []
  },
  "interpreter": {
   "hash": "c060a5fe1ced4d379d309ec1358bf896d440ce64254413b3c9daccac0d24786c"
  },
  "kernelspec": {
   "display_name": "Python 3 (ipykernel)",
   "language": "python",
   "name": "python3"
  },
  "language_info": {
   "codemirror_mode": {
    "name": "ipython",
    "version": 3
   },
   "file_extension": ".py",
   "mimetype": "text/x-python",
   "name": "python",
   "nbconvert_exporter": "python",
   "pygments_lexer": "ipython3",
   "version": "3.9.7"
  }
 },
 "nbformat": 4,
 "nbformat_minor": 0
}
