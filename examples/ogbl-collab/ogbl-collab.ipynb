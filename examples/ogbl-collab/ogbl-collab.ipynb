{
 "cells": [
  {
   "cell_type": "code",
   "execution_count": null,
   "id": "047d59e5",
   "metadata": {},
   "outputs": [],
   "source": [
    "\n",
    "# source: https://ogb.stanford.edu/docs/linkprop/#ogbl-collab\n",
    "\n",
    "from ogb.linkproppred import LinkPropPredDataset\n",
    "\n",
    "dataset = LinkPropPredDataset(name = 'ogbl-collab')\n",
    "\n",
    "split_edge = dataset.get_edge_split()\n",
    "train_edge, valid_edge, test_edge = split_edge[\"train\"], split_edge[\"valid\"], split_edge[\"test\"]\n",
    "graph = dataset[0]\n",
    "\n"
   ]
  },
  {
   "cell_type": "code",
   "execution_count": null,
   "id": "15c565ab",
   "metadata": {
    "pycharm": {
     "name": "#%%\n"
    }
   },
   "outputs": [],
   "source": [
    "import numpy as np\n",
    "\n",
    "\n"
   ]
  },
  {
   "cell_type": "code",
   "execution_count": null,
   "id": "4c3a04c9",
   "metadata": {
    "pycharm": {
     "name": "#%%\n"
    }
   },
   "outputs": [],
   "source": [
    "node_feats = graph['node_feat'] # (235868, 128)\n",
    "edge_year = graph['edge_year']\n",
    "edge_weight = graph['edge_weight'].reshape(-1,) # (2358104, )\n",
    "edge = graph['edge_index'].T # (2358104, 2)\n",
    "neg_edge = np.concatenate([valid_edge['edge_neg'], test_edge['edge_neg']])\n",
    "node_list = np.ones((1, graph['num_nodes']))\n",
    "edge_list = np.ones((1, edge.shape[0]))\n",
    "PositiveEdge_id = np.arange(0, edge.shape[0])\n",
    "NegativeEdge_id = np.arange(edge.shape[0], edge.shape[0] + neg_edge.shape[0])\n",
    "\n",
    "data = {\n",
    "    \"node_feats\": node_feats,\n",
    "    \"edge_year\": edge_year,\n",
    "    \"edge_weight\":edge_weight,\n",
    "    \"edge\": edge,\n",
    "    \"neg_edge\": neg_edge,\n",
    "    \"node_list\": node_list,\n",
    "    \"edge_list\": edge_list,\n",
    "    \"PositiveEdge_id\": PositiveEdge_id,\n",
    "    \"NegativeEdge_id\": NegativeEdge_id\n",
    "}"
   ]
  },
  {
   "cell_type": "code",
   "execution_count": null,
   "id": "44979c00",
   "metadata": {
    "pycharm": {
     "name": "#%%\n"
    }
   },
   "outputs": [],
   "source": [
    "np.savez_compressed(\"ogbl-collab.npz\", **data)\n",
    "\n"
   ]
  },
  {
   "cell_type": "code",
   "execution_count": null,
   "id": "3f0b0d9c",
   "metadata": {
    "pycharm": {
     "name": "#%%\n"
    }
   },
   "outputs": [],
   "source": [
    "collab = np.load(\"ogbl-collab.npz\", allow_pickle=True)\n",
    "collab.files"
   ]
  },
  {
   "cell_type": "code",
   "execution_count": null,
   "id": "2ffbbf14",
   "metadata": {
    "pycharm": {
     "name": "#%%\n"
    }
   },
   "outputs": [],
   "source": [
    "task_data = {\n",
    "    # use edge_id to index val_neg and test_neg\n",
    "    \"val\": np.arange(edge.shape[0], edge.shape[0] + valid_edge['edge_neg'].shape[0]),\n",
    "    \"test\": np.arange(edge.shape[0]+valid_edge['edge_neg'].shape[0], edge.shape[0]+valid_edge['edge_neg'].shape[0] + test_edge['edge_neg'].shape[0]),\n",
    "    \"train_time_window\": (1963, 2017),\n",
    "    \"valid_time_window\": (2018, 2018),\n",
    "    \"test_time_window\": (2019, 2019)\n",
    "}\n",
    "np.savez_compressed(\"ogbl-collab_task_prestore_neg.npz\", **task_data)\n",
    "\n",
    "\n"
   ]
  },
  {
   "cell_type": "code",
   "execution_count": null,
   "id": "366dccf3",
   "metadata": {
    "pycharm": {
     "name": "#%%\n"
    }
   },
   "outputs": [],
   "source": [
    "task_data_no_pre_stored_neg_edge = {\n",
    "    \"train_time_window\": (1963, 2017), # window of (edge_year in train)\n",
    "    \"valid_time_window\": (2018, 2018),\n",
    "    \"test_time_window\": (2019, 2019)\n",
    "}\n",
    "np.savez_compressed(\"ogbl-collab_task_runtime_sampling.npz\", **task_data_no_pre_stored_neg_edge)"
   ]
  },
  {
   "cell_type": "code",
   "execution_count": null,
   "id": "90e5abd0",
   "metadata": {
    "pycharm": {
     "name": "#%%\n"
    }
   },
   "outputs": [],
   "source": [
    "# 1. pre-store neg - index\n",
    "# 2. no pre-store - time"
   ]
  },
  {
   "cell_type": "code",
   "execution_count": null,
   "id": "aacaeea4",
   "metadata": {
    "pycharm": {
     "name": "#%%\n"
    }
   },
   "outputs": [],
   "source": []
  }
 ],
 "metadata": {
  "kernelspec": {
   "display_name": "PyCharm (GLB-Repo)",
   "language": "python",
   "name": "pycharm-1c69af80"
  },
  "language_info": {
   "codemirror_mode": {
    "name": "ipython",
    "version": 3
   },
   "file_extension": ".py",
   "mimetype": "text/x-python",
   "name": "python",
   "nbconvert_exporter": "python",
   "pygments_lexer": "ipython3",
   "version": "3.8.11"
  }
 },
 "nbformat": 4,
 "nbformat_minor": 5
}
