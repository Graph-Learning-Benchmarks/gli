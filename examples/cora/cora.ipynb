{
 "cells": [
  {
   "cell_type": "markdown",
   "metadata": {
    "id": "FEZbpSL5Nv4L"
   },
   "source": [
    "# Cora Example"
   ]
  },
  {
   "cell_type": "markdown",
   "metadata": {
    "id": "vsAjf67JNv4O"
   },
   "source": [
    "## Data"
   ]
  },
  {
   "cell_type": "code",
   "execution_count": 4,
   "metadata": {
    "id": "_3cBvaa8Nv4O",
    "executionInfo": {
     "status": "ok",
     "timestamp": 1646435736908,
     "user_tz": 300,
     "elapsed": 215,
     "user": {
      "displayName": "Hezheng Fan",
      "photoUrl": "https://lh3.googleusercontent.com/a/default-user=s64",
      "userId": "02692002400554089702"
     }
    }
   },
   "outputs": [],
   "source": [
    "metadata ={\n",
    "    \"description\": \"CORA dataset.\",\n",
    "    \"data\": {\n",
    "        \"Node\": {\n",
    "            \"NodeFeature\": {\n",
    "                \"description\": \"Node features of Cora dataset, 1/0-valued vectors.\",\n",
    "                \"type\": \"int\",\n",
    "                \"format\": \"SparseTensor\",\n",
    "                \"file\": \"cora.npz\",\n",
    "                \"key\": \"node_feats\"\n",
    "            },\n",
    "            \"NodeLabel\": {\n",
    "                \"description\": \"Node labels of Cora dataset, int ranged from 1 to 7.\",\n",
    "                \"type\": \"int\",\n",
    "                \"format\": \"Tensor\",\n",
    "                \"file\": \"cora.npz\",\n",
    "                \"key\": \"node_class\"\n",
    "            }\n",
    "        },\n",
    "        \"Edge\": {\n",
    "            \"_Edge\": {\n",
    "                \"file\": \"cora.npz\",\n",
    "                \"key\": \"edge\"\n",
    "            }\n",
    "        },\n",
    "        \"Graph\": {\n",
    "            \"_NodeList\": {\n",
    "                \"file\": \"cora.npz\",\n",
    "                \"key\": \"node_list\"\n",
    "            },\n",
    "            \"_EdgeList\": {\n",
    "                \"file\": \"cora.npz\",\n",
    "                \"key\": \"edge_list\"\n",
    "            }\n",
    "        }\n",
    "    },\n",
    "    \"citation\": \"@inproceedings{yang2016revisiting,\\ntitle={Revisiting semi-supervised learning with graph embeddings},\\nauthor={Yang, Zhilin and Cohen, William and Salakhudinov, Ruslan},\\nbooktitle={International conference on machine learning},\\npages={40--48},\\nyear={2016},\\norganization={PMLR}\\n}\"\n",
    " }\n",
    " "
   ]
  },
  {
   "cell_type": "code",
   "execution_count": 5,
   "metadata": {
    "colab": {
     "base_uri": "https://localhost:8080/"
    },
    "id": "FxgSd9bwNv4Q",
    "executionInfo": {
     "status": "ok",
     "timestamp": 1646435739772,
     "user_tz": 300,
     "elapsed": 2576,
     "user": {
      "displayName": "Hezheng Fan",
      "photoUrl": "https://lh3.googleusercontent.com/a/default-user=s64",
      "userId": "02692002400554089702"
     }
    },
    "outputId": "7ae11ff3-9d49-4f22-aad4-4ea73fa8cbf4"
   },
   "outputs": [
    {
     "output_type": "stream",
     "name": "stderr",
     "text": [
      "DGL backend not selected or invalid.  Assuming PyTorch for now.\n"
     ]
    },
    {
     "output_type": "stream",
     "name": "stdout",
     "text": [
      "Setting the default backend to \"pytorch\". You can change it in the ~/.dgl/config.json file or export the DGLBACKEND environment variable.  Valid options are: pytorch, mxnet, tensorflow (all lowercase)\n",
      "Downloading /root/.dgl/cora_v2.zip from https://data.dgl.ai/dataset/cora_v2.zip...\n",
      "Extracting file to /root/.dgl/cora_v2\n",
      "Finished data loading and preprocessing.\n",
      "  NumNodes: 2708\n",
      "  NumEdges: 10556\n",
      "  NumFeats: 1433\n",
      "  NumClasses: 7\n",
      "  NumTrainingSamples: 140\n",
      "  NumValidationSamples: 500\n",
      "  NumTestSamples: 1000\n",
      "Done saving data into cached files.\n"
     ]
    }
   ],
   "source": [
    "import json\n",
    "import numpy as np\n",
    "import torch\n",
    "import scipy.sparse as sparse\n",
    "from dgl.data import CoraGraphDataset\n",
    "dataset = CoraGraphDataset()\n",
    "graph = dataset[0]"
   ]
  },
  {
   "cell_type": "markdown",
   "metadata": {
    "id": "-uoLfHdcNv4R"
   },
   "source": [
    "We can save the data file in only one file `cora.npz`."
   ]
  },
  {
   "cell_type": "code",
   "execution_count": 6,
   "metadata": {
    "id": "kiAYX2jENv4S",
    "executionInfo": {
     "status": "ok",
     "timestamp": 1646435739772,
     "user_tz": 300,
     "elapsed": 8,
     "user": {
      "displayName": "Hezheng Fan",
      "photoUrl": "https://lh3.googleusercontent.com/a/default-user=s64",
      "userId": "02692002400554089702"
     }
    }
   },
   "outputs": [],
   "source": [
    "# cora_feat\n",
    "node_feats = sparse.csr_matrix(graph.ndata[\"feat\"].numpy())\n",
    "# cora_class\n",
    "node_class = graph.ndata[\"label\"].numpy()  # (2708,)\n",
    "# cora_edge\n",
    "edge = torch.stack(graph.edges()).numpy().T\n",
    "# cora only has 1 single connected graph\n",
    "node_list = np.ones((1, graph.num_nodes()))  # (1, 2708)\n",
    "edge_list = np.ones((1, graph.num_edges()))  # (1, 10556)\n",
    "\n",
    "data = {\n",
    "    \"node_feats\": node_feats,\n",
    "    \"node_class\": node_class,\n",
    "    \"edge\": edge,\n",
    "    \"node_list\": node_list,\n",
    "    \"edge_list\": edge_list\n",
    "}"
   ]
  },
  {
   "cell_type": "code",
   "execution_count": 7,
   "metadata": {
    "id": "ixqtTzPKNv4S",
    "executionInfo": {
     "status": "ok",
     "timestamp": 1646435739773,
     "user_tz": 300,
     "elapsed": 8,
     "user": {
      "displayName": "Hezheng Fan",
      "photoUrl": "https://lh3.googleusercontent.com/a/default-user=s64",
      "userId": "02692002400554089702"
     }
    }
   },
   "outputs": [],
   "source": [
    "np.savez_compressed(\"cora.npz\", **data)"
   ]
  },
  {
   "cell_type": "code",
   "execution_count": 8,
   "metadata": {
    "colab": {
     "base_uri": "https://localhost:8080/"
    },
    "id": "2Cx8lUVLNv4T",
    "executionInfo": {
     "status": "ok",
     "timestamp": 1646435739773,
     "user_tz": 300,
     "elapsed": 7,
     "user": {
      "displayName": "Hezheng Fan",
      "photoUrl": "https://lh3.googleusercontent.com/a/default-user=s64",
      "userId": "02692002400554089702"
     }
    },
    "outputId": "e5489930-1e38-4e09-bab5-61ef7c90510e"
   },
   "outputs": [
    {
     "output_type": "execute_result",
     "data": {
      "text/plain": [
       "['node_feats', 'node_class', 'edge', 'node_list', 'edge_list']"
      ]
     },
     "metadata": {},
     "execution_count": 8
    }
   ],
   "source": [
    "cora = np.load(\"cora.npz\", allow_pickle=True)\n",
    "cora.files"
   ]
  },
  {
   "cell_type": "code",
   "execution_count": 9,
   "metadata": {
    "colab": {
     "base_uri": "https://localhost:8080/"
    },
    "id": "pUqQUm6eNv4U",
    "executionInfo": {
     "status": "ok",
     "timestamp": 1646435740006,
     "user_tz": 300,
     "elapsed": 238,
     "user": {
      "displayName": "Hezheng Fan",
      "photoUrl": "https://lh3.googleusercontent.com/a/default-user=s64",
      "userId": "02692002400554089702"
     }
    },
    "outputId": "5611d1bd-23ea-4aec-ddb3-6f9871e1c195"
   },
   "outputs": [
    {
     "output_type": "stream",
     "name": "stdout",
     "text": [
      "116K\tcora.npz\n"
     ]
    }
   ],
   "source": [
    "!du cora.npz -h"
   ]
  },
  {
   "cell_type": "code",
   "execution_count": 10,
   "metadata": {
    "id": "q0GU1DTFNv4U",
    "executionInfo": {
     "status": "ok",
     "timestamp": 1646435740006,
     "user_tz": 300,
     "elapsed": 5,
     "user": {
      "displayName": "Hezheng Fan",
      "photoUrl": "https://lh3.googleusercontent.com/a/default-user=s64",
      "userId": "02692002400554089702"
     }
    }
   },
   "outputs": [],
   "source": [
    "json.dump(metadata, open(\"metadata.json\", \"w\"), indent=4)"
   ]
  },
  {
   "cell_type": "markdown",
   "metadata": {
    "id": "yNJWMsixNv4V"
   },
   "source": [
    "## Task"
   ]
  },
  {
   "cell_type": "code",
   "execution_count": 11,
   "metadata": {
    "id": "1G9ArHMQNv4V",
    "executionInfo": {
     "status": "ok",
     "timestamp": 1646435740007,
     "user_tz": 300,
     "elapsed": 5,
     "user": {
      "displayName": "Hezheng Fan",
      "photoUrl": "https://lh3.googleusercontent.com/a/default-user=s64",
      "userId": "02692002400554089702"
     }
    }
   },
   "outputs": [],
   "source": [
    "task = {\n",
    "    \"description\": \"Node classification on CORA dataset. Planetoid split.\",\n",
    "    \"type\": \"NodeClassification\",\n",
    "    \"feature\": [{\n",
    "        \"object\": \"Node\",\n",
    "        \"attribute\": \"NodeFeature\"\n",
    "    }],\n",
    "    \"target\": {\n",
    "        \"object\": \"Node\",\n",
    "        \"attribute\": \"NodeLabel\",\n",
    "        \"num_classes\": 7\n",
    "    },\n",
    "    \"train_set\": {\n",
    "        \"file\": \"cora_task.npz\",\n",
    "        \"key\": \"train\"\n",
    "    },\n",
    "    \"val_set\": {\n",
    "        \"file\": \"cora_task.npz\",\n",
    "        \"key\": \"val\"\n",
    "    },\n",
    "    \"test_set\": {\n",
    "        \"file\": \"cora_task.npz\",\n",
    "        \"key\": \"test\"\n",
    "    }\n",
    "}\n"
   ]
  },
  {
   "cell_type": "code",
   "execution_count": 12,
   "metadata": {
    "id": "z_Sb_adUNv4V",
    "executionInfo": {
     "status": "ok",
     "timestamp": 1646435740007,
     "user_tz": 300,
     "elapsed": 5,
     "user": {
      "displayName": "Hezheng Fan",
      "photoUrl": "https://lh3.googleusercontent.com/a/default-user=s64",
      "userId": "02692002400554089702"
     }
    }
   },
   "outputs": [],
   "source": [
    "train_set = graph.ndata[\"train_mask\"].nonzero().squeeze().numpy()\n",
    "val_set = graph.ndata[\"val_mask\"].nonzero().squeeze().numpy()\n",
    "test_set = graph.ndata[\"test_mask\"].nonzero().squeeze().numpy()"
   ]
  },
  {
   "cell_type": "code",
   "execution_count": 13,
   "metadata": {
    "id": "7P4udFCQNv4W",
    "executionInfo": {
     "status": "ok",
     "timestamp": 1646435740169,
     "user_tz": 300,
     "elapsed": 166,
     "user": {
      "displayName": "Hezheng Fan",
      "photoUrl": "https://lh3.googleusercontent.com/a/default-user=s64",
      "userId": "02692002400554089702"
     }
    }
   },
   "outputs": [],
   "source": [
    "task_data = {\n",
    "    \"train\": train_set,\n",
    "    \"val\": val_set,\n",
    "    \"test\": test_set\n",
    "}\n",
    "np.savez_compressed(\"cora_task.npz\", **task_data)"
   ]
  },
  {
   "cell_type": "code",
   "execution_count": 14,
   "metadata": {
    "id": "MxW_oyYGNv4W",
    "executionInfo": {
     "status": "ok",
     "timestamp": 1646435740170,
     "user_tz": 300,
     "elapsed": 4,
     "user": {
      "displayName": "Hezheng Fan",
      "photoUrl": "https://lh3.googleusercontent.com/a/default-user=s64",
      "userId": "02692002400554089702"
     }
    }
   },
   "outputs": [],
   "source": [
    "with open(\"./task.json\", \"w\") as fp:\n",
    "    json.dump(task, fp, indent=4)"
   ]
  },
  {
   "cell_type": "code",
   "execution_count": 14,
   "metadata": {
    "id": "YhwGnPI-Nv4W",
    "executionInfo": {
     "status": "ok",
     "timestamp": 1646435740171,
     "user_tz": 300,
     "elapsed": 5,
     "user": {
      "displayName": "Hezheng Fan",
      "photoUrl": "https://lh3.googleusercontent.com/a/default-user=s64",
      "userId": "02692002400554089702"
     }
    }
   },
   "outputs": [],
   "source": [
    ""
   ]
  }
 ],
 "metadata": {
  "interpreter": {
   "hash": "c060a5fe1ced4d379d309ec1358bf896d440ce64254413b3c9daccac0d24786c"
  },
  "kernelspec": {
   "display_name": "Python 3.9.7 64-bit ('py39': conda)",
   "language": "python",
   "name": "python3"
  },
  "language_info": {
   "codemirror_mode": {
    "name": "ipython",
    "version": 3
   },
   "file_extension": ".py",
   "mimetype": "text/x-python",
   "name": "python",
   "nbconvert_exporter": "python",
   "pygments_lexer": "ipython3",
   "version": "3.9.7"
  },
  "orig_nbformat": 4,
  "colab": {
   "name": "cora.ipynb",
   "provenance": []
  }
 },
 "nbformat": 4,
 "nbformat_minor": 0
}