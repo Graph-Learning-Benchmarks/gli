{
 "cells": [
  {
   "cell_type": "markdown",
   "metadata": {},
   "source": [
    "# Cora Example"
   ]
  },
  {
   "cell_type": "markdown",
   "metadata": {},
   "source": [
    "## Data"
   ]
  },
  {
   "cell_type": "code",
   "execution_count": 1,
   "metadata": {},
   "outputs": [],
   "source": [
    "metadata ={\n",
    "    \"description\": \"CORA dataset.\",\n",
    "    \"data\": {\n",
    "        \"Node\": {\n",
    "            \"NodeFeature\": {\n",
    "                \"description\": \"Node features of Cora dataset, 1/0-valued vectors.\",\n",
    "                \"type\": \"int\",\n",
    "                \"format\": \"SparseTensor\",\n",
    "                \"file\": \"cora.npz\",\n",
    "                \"key\": \"node_feats\"\n",
    "            },\n",
    "            \"NodeLabel\": {\n",
    "                \"description\": \"Node labels of Cora dataset, int ranged from 1 to 7.\",\n",
    "                \"type\": \"int\",\n",
    "                \"format\": \"Tensor\",\n",
    "                \"file\": \"cora.npz\",\n",
    "                \"key\": \"node_class\",\n",
    "                \"num_classes\": 7\n",
    "            }\n",
    "        },\n",
    "        \"Edge\": {\n",
    "            \"_Edge\": {\n",
    "                \"file\": \"cora.npz\",\n",
    "                \"key\": \"edge\"\n",
    "            }\n",
    "        },\n",
    "        \"Graph\": {\n",
    "            \"_NodeList\": {\n",
    "                \"file\": \"cora.npz\",\n",
    "                \"key\": \"node_list\"\n",
    "            },\n",
    "            \"_EdgeList\": {\n",
    "                \"file\": \"cora.npz\",\n",
    "                \"key\": \"edge_list\"\n",
    "            }\n",
    "        }\n",
    "    },\n",
    "    \"citation\": \"@inproceedings{yang2016revisiting,\\ntitle={Revisiting semi-supervised learning with graph embeddings},\\nauthor={Yang, Zhilin and Cohen, William and Salakhudinov, Ruslan},\\nbooktitle={International conference on machine learning},\\npages={40--48},\\nyear={2016},\\norganization={PMLR}\\n}\"\n",
    " }\n",
    " "
   ]
  },
  {
   "cell_type": "code",
   "execution_count": 2,
   "metadata": {},
   "outputs": [
    {
     "name": "stderr",
     "output_type": "stream",
     "text": [
      "Using backend: pytorch\n",
      "[22:01:18] /opt/dgl/src/runtime/tensordispatch.cc:43: TensorDispatcher: dlopen failed: /home/jimmyzxj/miniconda3/envs/py39/lib/python3.9/site-packages/dgl/tensoradapter/pytorch/libtensoradapter_pytorch_1.10.2.so: cannot open shared object file: No such file or directory\n"
     ]
    },
    {
     "name": "stdout",
     "output_type": "stream",
     "text": [
      "  NumNodes: 2708\n",
      "  NumEdges: 10556\n",
      "  NumFeats: 1433\n",
      "  NumClasses: 7\n",
      "  NumTrainingSamples: 140\n",
      "  NumValidationSamples: 500\n",
      "  NumTestSamples: 1000\n",
      "Done loading data from cached files.\n"
     ]
    }
   ],
   "source": [
    "import json\n",
    "import numpy as np\n",
    "import torch\n",
    "import scipy.sparse as sparse\n",
    "from dgl.data import CoraGraphDataset\n",
    "dataset = CoraGraphDataset()\n",
    "graph = dataset[0]"
   ]
  },
  {
   "cell_type": "markdown",
   "metadata": {},
   "source": [
    "We can save the data file in only one file `cora.npz`."
   ]
  },
  {
   "cell_type": "code",
   "execution_count": 3,
   "metadata": {},
   "outputs": [],
   "source": [
    "# cora_feat\n",
    "node_feats = sparse.csr_matrix(graph.ndata[\"feat\"].numpy())\n",
    "# cora_class\n",
    "node_class = graph.ndata[\"label\"].numpy()  # (2708,)\n",
    "# cora_edge\n",
    "edge = torch.stack(graph.edges()).numpy().T\n",
    "# cora only has 1 single connected graph\n",
    "node_list = np.ones((1, graph.num_nodes()))  # (1, 2708)\n",
    "edge_list = np.ones((1, graph.num_edges()))  # (1, 10556)\n",
    "\n",
    "data = {\n",
    "    \"node_feats\": node_feats,\n",
    "    \"node_class\": node_class,\n",
    "    \"edge\": edge,\n",
    "    \"node_list\": node_list,\n",
    "    \"edge_list\": edge_list\n",
    "}"
   ]
  },
  {
   "cell_type": "code",
   "execution_count": 4,
   "metadata": {},
   "outputs": [],
   "source": [
    "np.savez_compressed(\"cora.npz\", **data)"
   ]
  },
  {
   "cell_type": "code",
   "execution_count": 5,
   "metadata": {},
   "outputs": [
    {
     "data": {
      "text/plain": [
       "['node_feats', 'node_class', 'edge', 'node_list', 'edge_list']"
      ]
     },
     "execution_count": 5,
     "metadata": {},
     "output_type": "execute_result"
    }
   ],
   "source": [
    "cora = np.load(\"cora.npz\", allow_pickle=True)\n",
    "cora.files"
   ]
  },
  {
   "cell_type": "code",
   "execution_count": 6,
   "metadata": {},
   "outputs": [
    {
     "name": "stdout",
     "output_type": "stream",
     "text": [
      "116K\tcora.npz\n"
     ]
    }
   ],
   "source": [
    "!du cora.npz -h"
   ]
  },
  {
   "cell_type": "code",
   "execution_count": 7,
   "metadata": {},
   "outputs": [],
   "source": [
    "json.dump(metadata, open(\"metadata.json\", \"w\"))"
   ]
  },
  {
   "cell_type": "markdown",
   "metadata": {},
   "source": [
    "## Task"
   ]
  },
  {
   "cell_type": "code",
   "execution_count": 8,
   "metadata": {},
   "outputs": [],
   "source": [
    "task = {\n",
    "    \"description\": \"Node classification on CORA dataset. Planetoid split.\",\n",
    "    \"type\": \"NodeClassification\",\n",
    "    \"feature\": [\"Node/NodeFeature\"],\n",
    "    \"target\": \"Node/NodeLabel\",\n",
    "    \"num_classes\": 7,\n",
    "    \"train_set\": {\n",
    "        \"file\": \"cora_task.npz\",\n",
    "        \"key\": \"train\"\n",
    "    },\n",
    "    \"val_set\": {\n",
    "        \"file\": \"cora_task.npz\",\n",
    "        \"key\": \"val\"\n",
    "    },\n",
    "    \"test_set\": {\n",
    "        \"file\": \"cora_task.npz\",\n",
    "        \"key\": \"test\"\n",
    "    }\n",
    "}"
   ]
  },
  {
   "cell_type": "code",
   "execution_count": 9,
   "metadata": {},
   "outputs": [],
   "source": [
    "train_set = graph.ndata[\"train_mask\"].nonzero().squeeze().numpy()\n",
    "val_set = graph.ndata[\"val_mask\"].nonzero().squeeze().numpy()\n",
    "test_set = graph.ndata[\"test_mask\"].nonzero().squeeze().numpy()"
   ]
  },
  {
   "cell_type": "code",
   "execution_count": 10,
   "metadata": {},
   "outputs": [],
   "source": [
    "task_data = {\n",
    "    \"train\": train_set,\n",
    "    \"val\": val_set,\n",
    "    \"test\": test_set\n",
    "}\n",
    "np.savez_compressed(\"cora_task.npz\", **task_data)"
   ]
  },
  {
   "cell_type": "code",
   "execution_count": 11,
   "metadata": {},
   "outputs": [],
   "source": [
    "with open(\"./task.json\", \"w\") as fp:\n",
    "    json.dump(task, fp, indent=4)"
   ]
  },
  {
   "cell_type": "code",
   "execution_count": null,
   "metadata": {},
   "outputs": [],
   "source": []
  }
 ],
 "metadata": {
  "interpreter": {
   "hash": "c060a5fe1ced4d379d309ec1358bf896d440ce64254413b3c9daccac0d24786c"
  },
  "kernelspec": {
   "display_name": "Python 3.9.7 64-bit ('py39': conda)",
   "language": "python",
   "name": "python3"
  },
  "language_info": {
   "codemirror_mode": {
    "name": "ipython",
    "version": 3
   },
   "file_extension": ".py",
   "mimetype": "text/x-python",
   "name": "python",
   "nbconvert_exporter": "python",
   "pygments_lexer": "ipython3",
   "version": "3.9.7"
  },
  "orig_nbformat": 4
 },
 "nbformat": 4,
 "nbformat_minor": 2
}
