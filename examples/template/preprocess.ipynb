{
 "cells": [
  {
   "cell_type": "markdown",
   "metadata": {},
   "source": [
    "Please use this file to write codes that transform the data files and configuration files from the raw data. Typically this script should include following parts:\n",
    "1. Download raw data\n",
    "2. Process raw data\n",
    "3. Convert the raw data into gli format\n",
    "4. save the gli format data into\n",
    "   1. configuration files (e.g., metadata.json, ...)\n",
    "   2. data files (e.g., cora.npz, ...)"
   ]
  },
  {
   "cell_type": "markdown",
   "metadata": {},
   "source": []
  }
 ],
 "metadata": {
  "language_info": {
   "name": "python"
  },
  "orig_nbformat": 4
 },
 "nbformat": 4,
 "nbformat_minor": 2
}
