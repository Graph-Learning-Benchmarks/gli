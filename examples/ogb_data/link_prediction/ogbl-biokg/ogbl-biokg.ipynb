{
 "cells": [
  {
   "cell_type": "code",
   "execution_count": 140,
   "id": "047d59e5",
   "metadata": {},
   "outputs": [],
   "source": [
    "\n",
    "# source: https://ogb.stanford.edu/docs/linkprop/#ogbl-collab\n",
    "\n",
    "from ogb.linkproppred import LinkPropPredDataset\n",
    "\n",
    "dataset = LinkPropPredDataset(name = 'ogbl-biokg')\n",
    "\n",
    "split_edge = dataset.get_edge_split()\n",
    "train_edge, valid_edge, test_edge = split_edge[\"train\"], split_edge[\"valid\"], split_edge[\"test\"]\n",
    "graph = dataset[0]\n",
    "graph_backup = graph.copy()"
   ]
  },
  {
   "cell_type": "code",
   "execution_count": 141,
   "outputs": [],
   "source": [
    "metadata = {\n",
    "    \"description\": \"An example of heterogeneous dataset.\",\n",
    "    \"citation\": \"\",\n",
    "    \"data\": {\n",
    "        \"Node\": {\n",
    "        },\n",
    "        \"Edge\": {\n",
    "\n",
    "        },\n",
    "        \"Graph\": {\n",
    "            \"_NodeList\": {\n",
    "                \"file\": \"example.npz\",\n",
    "                \"key\": \"node_list\"\n",
    "            },\n",
    "            \"_EdgeList\": {\n",
    "                \"file\": \"example.npz\",\n",
    "                \"key\": \"edge_list\"\n",
    "            }\n",
    "        }\n",
    "    }\n",
    "}\n",
    "\n"
   ],
   "metadata": {
    "collapsed": false,
    "pycharm": {
     "name": "#%%\n"
    }
   }
  },
  {
   "cell_type": "code",
   "execution_count": 142,
   "outputs": [],
   "source": [
    "import json\n",
    "import numpy as np\n",
    "import torch\n",
    "import scipy.sparse as sparse"
   ],
   "metadata": {
    "collapsed": false,
    "pycharm": {
     "name": "#%%\n"
    }
   }
  },
  {
   "cell_type": "code",
   "execution_count": 143,
   "outputs": [
    {
     "name": "stdout",
     "output_type": "stream",
     "text": [
      "dict_keys(['edge_index_dict', 'edge_feat_dict', 'node_feat_dict', 'num_nodes_dict', 'edge_reltype'])\n"
     ]
    }
   ],
   "source": [
    "valid_edge['relation']\n",
    "print(graph.keys())"
   ],
   "metadata": {
    "collapsed": false,
    "pycharm": {
     "name": "#%%\n"
    }
   }
  },
  {
   "cell_type": "code",
   "execution_count": 144,
   "outputs": [
    {
     "name": "stdout",
     "output_type": "stream",
     "text": [
      "dict_keys(['edge_index_dict', 'edge_feat_dict', 'node_feat_dict', 'num_nodes_dict', 'edge_reltype'])\n"
     ]
    },
    {
     "data": {
      "text/plain": "51"
     },
     "execution_count": 144,
     "metadata": {},
     "output_type": "execute_result"
    }
   ],
   "source": [
    "print(graph.keys())\n",
    "processed_keys = set()\n",
    "node_count = dict()\n",
    "edge_idx_dict = dict()\n",
    "for pair in graph['edge_index_dict'].keys():\n",
    "    processed_keys.add(pair[0])\n",
    "    #for i in range\n",
    "len(graph['edge_reltype'])"
   ],
   "metadata": {
    "collapsed": false,
    "pycharm": {
     "name": "#%%\n"
    }
   }
  },
  {
   "cell_type": "code",
   "execution_count": 57,
   "outputs": [],
   "source": [],
   "metadata": {
    "collapsed": false,
    "pycharm": {
     "name": "#%%\n"
    }
   }
  },
  {
   "cell_type": "code",
   "execution_count": 145,
   "outputs": [],
   "source": [
    "node_set = set()\n",
    "\n",
    "for pair in graph['edge_index_dict'].keys():\n",
    "    node_set.add(pair[0])\n",
    "    node_set.add(pair[2])"
   ],
   "metadata": {
    "collapsed": false,
    "pycharm": {
     "name": "#%%\n"
    }
   }
  },
  {
   "cell_type": "code",
   "execution_count": 146,
   "outputs": [
    {
     "name": "stdout",
     "output_type": "stream",
     "text": [
      "{'disease': 10687, 'drug': 10533, 'function': 45085, 'protein': 17499, 'sideeffect': 9969}\n",
      "0\n",
      "10687\n",
      "21220\n",
      "66305\n",
      "83804\n"
     ]
    }
   ],
   "source": [
    "print(graph['num_nodes_dict'])\n",
    "node_dict = {}\n",
    "node_cumsum = 0\n",
    "for key in graph['num_nodes_dict'].keys():\n",
    "    node_dict[key] = np.arange(node_cumsum, node_cumsum+graph['num_nodes_dict'][key])\n",
    "    print(node_cumsum)\n",
    "    node_cumsum = node_dict[key][-1]+1"
   ],
   "metadata": {
    "collapsed": false,
    "pycharm": {
     "name": "#%%\n"
    }
   }
  },
  {
   "cell_type": "code",
   "execution_count": 147,
   "outputs": [
    {
     "data": {
      "text/plain": "2"
     },
     "execution_count": 147,
     "metadata": {},
     "output_type": "execute_result"
    }
   ],
   "source": [
    "sum(graph['edge_index_dict'][('disease','disease-protein','protein')][1,:] == 0)"
   ],
   "metadata": {
    "collapsed": false,
    "pycharm": {
     "name": "#%%\n"
    }
   }
  },
  {
   "cell_type": "code",
   "execution_count": 148,
   "outputs": [],
   "source": [
    "link_dict = {}\n",
    "for pair in graph['edge_index_dict']:\n",
    "    link_dict[pair] = graph['edge_index_dict'][pair]\n",
    "    link_dict[pair][0, :] += node_dict[pair[0]][0]\n",
    "    link_dict[pair][1, :] += node_dict[pair[2]][0]"
   ],
   "metadata": {
    "collapsed": false,
    "pycharm": {
     "name": "#%%\n"
    }
   }
  },
  {
   "cell_type": "code",
   "execution_count": 149,
   "outputs": [
    {
     "data": {
      "text/plain": "51"
     },
     "execution_count": 149,
     "metadata": {},
     "output_type": "execute_result"
    }
   ],
   "source": [
    "len(link_dict)"
   ],
   "metadata": {
    "collapsed": false,
    "pycharm": {
     "name": "#%%\n"
    }
   }
  },
  {
   "cell_type": "code",
   "execution_count": 150,
   "outputs": [],
   "source": [
    "for key in node_dict.keys():\n",
    "    metadata['data']['Node'][key] = {'_ID':{'file': 'ogbl-biokg.npz', 'key': key+'_id'}}\n",
    "for key in link_dict.keys():\n",
    "    metadata['data']['Edge'][key[1]] = {'_ID':{'file': 'ogbl-biokg.npz', 'key': key[1]+'_id'}, '_Edge': {'file': 'ogbl-biokg.npz', 'key':key[1]}}"
   ],
   "metadata": {
    "collapsed": false,
    "pycharm": {
     "name": "#%%\n"
    }
   }
  },
  {
   "cell_type": "code",
   "execution_count": 72,
   "outputs": [],
   "source": [],
   "metadata": {
    "collapsed": false,
    "pycharm": {
     "name": "#%%\n"
    }
   }
  },
  {
   "cell_type": "code",
   "execution_count": 151,
   "outputs": [],
   "source": [
    "data = {}\n",
    "for key in node_dict.keys():\n",
    "    data[key+'_id'] = node_dict[key]\n",
    "edge_cumsum = 0\n",
    "for key in link_dict.keys():\n",
    "    data[key[1]+'_id'] = np.arange(edge_cumsum, edge_cumsum + link_dict[key].shape[1])\n",
    "    edge_cumsum = data[key[1]+'_id'][-1]+1\n",
    "    data[key[1]] = link_dict[key].T\n",
    "data['node_list'] = np.ones((1,node_cumsum))\n",
    "\n",
    "data['edge_list'] = np.ones((1, edge_cumsum))\n",
    "\n",
    "\n",
    "\n"
   ],
   "metadata": {
    "collapsed": false,
    "pycharm": {
     "name": "#%%\n"
    }
   }
  },
  {
   "cell_type": "code",
   "execution_count": 72,
   "outputs": [],
   "source": [
    "biokg = np.load(\"ogbl-biokg.npz\", allow_pickle=True)"
   ],
   "metadata": {
    "collapsed": false,
    "pycharm": {
     "name": "#%%\n"
    }
   }
  },
  {
   "cell_type": "code",
   "execution_count": 71,
   "outputs": [],
   "source": [
    "json.dump(metadata, open(\"metadata.json\", \"w\"), indent=4)"
   ],
   "metadata": {
    "collapsed": false,
    "pycharm": {
     "name": "#%%\n"
    }
   }
  },
  {
   "cell_type": "code",
   "execution_count": 169,
   "outputs": [
    {
     "ename": "KeyboardInterrupt",
     "evalue": "",
     "output_type": "error",
     "traceback": [
      "\u001B[0;31m---------------------------------------------------------------------------\u001B[0m",
      "\u001B[0;31mKeyboardInterrupt\u001B[0m                         Traceback (most recent call last)",
      "\u001B[0;32m/var/folders/08/150xjg193bx1y_qrnfhvtc2h0000gn/T/ipykernel_2601/4146640845.py\u001B[0m in \u001B[0;36m<module>\u001B[0;34m\u001B[0m\n\u001B[1;32m      9\u001B[0m     \u001B[0mtail_id\u001B[0m \u001B[0;34m=\u001B[0m \u001B[0mdata\u001B[0m\u001B[0;34m[\u001B[0m\u001B[0mtail_type\u001B[0m\u001B[0;34m+\u001B[0m\u001B[0;34m'_id'\u001B[0m\u001B[0;34m]\u001B[0m\u001B[0;34m[\u001B[0m\u001B[0mtrain_edge\u001B[0m\u001B[0;34m[\u001B[0m\u001B[0;34m'tail'\u001B[0m\u001B[0;34m]\u001B[0m\u001B[0;34m[\u001B[0m\u001B[0midx\u001B[0m\u001B[0;34m]\u001B[0m\u001B[0;34m]\u001B[0m\u001B[0;34m\u001B[0m\u001B[0;34m\u001B[0m\u001B[0m\n\u001B[1;32m     10\u001B[0m     \u001B[0medge_mat\u001B[0m \u001B[0;34m=\u001B[0m \u001B[0mdata\u001B[0m\u001B[0;34m[\u001B[0m\u001B[0medge_type\u001B[0m\u001B[0;34m[\u001B[0m\u001B[0;36m1\u001B[0m\u001B[0;34m]\u001B[0m\u001B[0;34m]\u001B[0m\u001B[0;34m\u001B[0m\u001B[0;34m\u001B[0m\u001B[0m\n\u001B[0;32m---> 11\u001B[0;31m     \u001B[0medge_index\u001B[0m \u001B[0;34m=\u001B[0m \u001B[0mnp\u001B[0m\u001B[0;34m.\u001B[0m\u001B[0mwhere\u001B[0m\u001B[0;34m(\u001B[0m\u001B[0;34m(\u001B[0m\u001B[0medge_mat\u001B[0m\u001B[0;34m[\u001B[0m\u001B[0;34m:\u001B[0m\u001B[0;34m,\u001B[0m\u001B[0;36m0\u001B[0m\u001B[0;34m]\u001B[0m \u001B[0;34m==\u001B[0m \u001B[0mhead_id\u001B[0m\u001B[0;34m)\u001B[0m \u001B[0;34m&\u001B[0m \u001B[0;34m(\u001B[0m\u001B[0medge_mat\u001B[0m\u001B[0;34m[\u001B[0m\u001B[0;34m:\u001B[0m\u001B[0;34m,\u001B[0m\u001B[0;36m1\u001B[0m\u001B[0;34m]\u001B[0m \u001B[0;34m==\u001B[0m \u001B[0mtail_id\u001B[0m\u001B[0;34m)\u001B[0m\u001B[0;34m)\u001B[0m\u001B[0;34m\u001B[0m\u001B[0;34m\u001B[0m\u001B[0m\n\u001B[0m\u001B[1;32m     12\u001B[0m     \u001B[0mtrain_set\u001B[0m\u001B[0;34m.\u001B[0m\u001B[0mappend\u001B[0m\u001B[0;34m(\u001B[0m\u001B[0medge_index\u001B[0m\u001B[0;34m[\u001B[0m\u001B[0;36m0\u001B[0m\u001B[0;34m]\u001B[0m\u001B[0;34m[\u001B[0m\u001B[0;36m0\u001B[0m\u001B[0;34m]\u001B[0m\u001B[0;34m)\u001B[0m\u001B[0;34m\u001B[0m\u001B[0;34m\u001B[0m\u001B[0m\n",
      "\u001B[0;31mKeyboardInterrupt\u001B[0m: "
     ]
    }
   ],
   "source": [
    "train_edge.keys()\n",
    "train_set = []\n",
    "edge_type_list = list(graph_backup['edge_reltype'])\n",
    "for idx in range(len(train_edge['relation'])):\n",
    "    edge_type = edge_type_list[train_edge['relation'][idx]]\n",
    "    head_type = train_edge['head_type'][idx]\n",
    "    head_id = data[head_type+'_id'][train_edge['head'][idx]]\n",
    "    tail_type = train_edge['tail_type'][idx]\n",
    "    tail_id = data[tail_type+'_id'][train_edge['tail'][idx]]\n",
    "    edge_mat = data[edge_type[1]]\n",
    "    edge_index = np.where((edge_mat[:,0] == head_id) & (edge_mat[:,1] == tail_id))\n",
    "    train_set.append(edge_index[0][0])"
   ],
   "metadata": {
    "collapsed": false,
    "pycharm": {
     "name": "#%%\n"
    }
   }
  },
  {
   "cell_type": "code",
   "execution_count": 184,
   "outputs": [
    {
     "name": "stdout",
     "output_type": "stream",
     "text": [
      "('disease', 'disease-protein', 'protein')\n",
      "3935\n",
      "3935\n",
      "1987\n",
      "68292\n",
      "[    0     1     2 ... 73544 73545 73546]\n",
      "('disease', 'disease-protein', 'protein')\n",
      "287\n",
      "287\n",
      "530\n",
      "66835\n",
      "[      0       1       2 ...   73545   73546 4762678]\n",
      "('disease', 'disease-protein', 'protein')\n",
      "1094\n",
      "1094\n",
      "17013\n",
      "83318\n",
      "[      0       1       2 ...   73546 4762678 4762679]\n",
      "('disease', 'disease-protein', 'protein')\n",
      "495\n",
      "495\n",
      "1521\n",
      "67826\n",
      "[      0       1       2 ... 4762678 4762679 4762680]\n",
      "('disease', 'disease-protein', 'protein')\n",
      "4794\n",
      "4794\n",
      "13055\n",
      "79360\n",
      "[      0       1       2 ... 4762679 4762680 4762681]\n",
      "('disease', 'disease-protein', 'protein')\n",
      "5477\n",
      "5477\n",
      "2973\n",
      "69278\n",
      "[      0       1       2 ... 4762680 4762681 4762682]\n",
      "('disease', 'disease-protein', 'protein')\n",
      "1602\n",
      "1602\n",
      "7288\n",
      "73593\n",
      "[      0       1       2 ... 4762681 4762682 4762683]\n",
      "('disease', 'disease-protein', 'protein')\n",
      "3523\n",
      "3523\n",
      "12138\n",
      "78443\n",
      "[      0       1       2 ... 4762682 4762683 4762684]\n",
      "('disease', 'disease-protein', 'protein')\n",
      "1036\n",
      "1036\n",
      "3786\n",
      "70091\n",
      "[      0       1       2 ... 4762683 4762684 4762685]\n",
      "('disease', 'disease-protein', 'protein')\n",
      "1678\n",
      "1678\n",
      "6261\n",
      "72566\n",
      "[      0       1       2 ... 4762684 4762685 4762686]\n"
     ]
    }
   ],
   "source": [
    "valid_edge.keys()\n",
    "val_set = []\n",
    "edge_type_list = list(graph_backup['edge_reltype'])\n",
    "total_edge = len(data['edge_list'][0])\n",
    "for idx in range(len(valid_edge['relation'])):\n",
    "    edge_type = edge_type_list[valid_edge['relation'][idx]]\n",
    "    head_type = valid_edge['head_type'][idx]\n",
    "    head_id = data[head_type+'_id'][valid_edge['head'][idx]]\n",
    "    tail_type = valid_edge['tail_type'][idx]\n",
    "    tail_id = data[tail_type+'_id'][valid_edge['tail'][idx]]\n",
    "    edge_mat = data[edge_type[1]]\n",
    "    data[edge_type[1]] = np.append(edge_mat, [[head_id, tail_id]], axis=0)\n",
    "    data[edge_type[1]+'_id'] = np.append(data[edge_type[1]+'_id'], [total_edge], axis=0)\n",
    "    val_set.append(total_edge)\n",
    "    total_edge += 1"
   ],
   "metadata": {
    "collapsed": false,
    "pycharm": {
     "name": "#%%\n"
    }
   }
  },
  {
   "cell_type": "code",
   "execution_count": 189,
   "outputs": [],
   "source": [
    "test_edge.keys()\n",
    "test_set = []\n",
    "edge_type_list = list(graph_backup['edge_reltype'])\n",
    "total_edge = len(data['edge_list'][0])\n",
    "for idx in range(len(test_edge['relation'][0:10])):\n",
    "    edge_type = edge_type_list[test_edge['relation'][idx]]\n",
    "    head_type = test_edge['head_type'][idx]\n",
    "    head_id = data[head_type+'_id'][test_edge['head'][idx]]\n",
    "    tail_type = test_edge['tail_type'][idx]\n",
    "    tail_id = data[tail_type+'_id'][test_edge['tail'][idx]]\n",
    "    edge_mat = data[edge_type[1]]\n",
    "    data[edge_type[1]] = np.append(edge_mat, [[head_id, tail_id]], axis=0)\n",
    "    data[edge_type[1]+'_id'] = np.append(data[edge_type[1]+'_id'], [total_edge], axis=0)\n",
    "    test_set.append(total_edge)\n",
    "    total_edge += 1"
   ],
   "metadata": {
    "collapsed": false,
    "pycharm": {
     "name": "#%%\n"
    }
   }
  },
  {
   "cell_type": "code",
   "execution_count": 190,
   "outputs": [
    {
     "data": {
      "text/plain": "[4762678,\n 4762679,\n 4762680,\n 4762681,\n 4762682,\n 4762683,\n 4762684,\n 4762685,\n 4762686,\n 4762687]"
     },
     "execution_count": 190,
     "metadata": {},
     "output_type": "execute_result"
    }
   ],
   "source": [
    "data['edge_list'] = np.ones((1, total_edge))\n",
    "np.savez_compressed(\"ogbl-biokg.npz\", **data)"
   ],
   "metadata": {
    "collapsed": false,
    "pycharm": {
     "name": "#%%\n"
    }
   }
  },
  {
   "cell_type": "code",
   "execution_count": 8,
   "outputs": [],
   "source": [
    "task = {\n",
    "    \"description\": \"The task is to predict new triplets given the training triplets. The evaluation protocol is exactly the same as ogbl-wikikg2, except that here we only consider ranking against entities of the same type. For instance, when corrupting head entities of the protein type, we only consider negative protein entities.\",\n",
    "    \"type\": \"LinkPrediction\",\n",
    "\n",
    "    \"target\": \"Edge/EdgeType\",\n",
    "    \"train_set\": {\n",
    "        \"file\": \"ogbl-biokg_task.npz\",\n",
    "        \"key\": \"train\"\n",
    "    },\n",
    "    \"val_set\": {\n",
    "        \"file\": \"ogbl-biokg_task.npz\",\n",
    "        \"key\": \"val\"\n",
    "    },\n",
    "    \"test_set\": {\n",
    "        \"file\": \"ogbl-biokg_task.npz\",\n",
    "        \"key\": \"test\"\n",
    "    }\n",
    "}"
   ],
   "metadata": {
    "collapsed": false,
    "pycharm": {
     "name": "#%%\n"
    }
   }
  },
  {
   "cell_type": "code",
   "execution_count": 9,
   "outputs": [],
   "source": [
    "task_data = {\n",
    "    \"train\": train_set,\n",
    "    \"val\": val_set,\n",
    "    \"test\": test_set\n",
    "}\n",
    "np.savez_compressed(\"ogbl-biokg_task.npz\", **task_data)\n",
    "\n",
    "with open(\"./task.json\", \"w\") as fp:\n",
    "    json.dump(task, fp, indent=4)"
   ],
   "metadata": {
    "collapsed": false,
    "pycharm": {
     "name": "#%%\n"
    }
   }
  },
  {
   "cell_type": "code",
   "execution_count": 41,
   "outputs": [
    {
     "data": {
      "text/plain": "{'disease', 'drug', 'function', 'protein'}"
     },
     "execution_count": 41,
     "metadata": {},
     "output_type": "execute_result"
    }
   ],
   "source": [],
   "metadata": {
    "collapsed": false,
    "pycharm": {
     "name": "#%%\n"
    }
   }
  },
  {
   "cell_type": "code",
   "execution_count": null,
   "outputs": [],
   "source": [],
   "metadata": {
    "collapsed": false,
    "pycharm": {
     "name": "#%%\n"
    }
   }
  }
 ],
 "metadata": {
  "kernelspec": {
   "name": "pycharm-1c69af80",
   "language": "python",
   "display_name": "PyCharm (GLB-Repo)"
  },
  "language_info": {
   "codemirror_mode": {
    "name": "ipython",
    "version": 3
   },
   "file_extension": ".py",
   "mimetype": "text/x-python",
   "name": "python",
   "nbconvert_exporter": "python",
   "pygments_lexer": "ipython3",
   "version": "3.8.8"
  }
 },
 "nbformat": 4,
 "nbformat_minor": 5
}