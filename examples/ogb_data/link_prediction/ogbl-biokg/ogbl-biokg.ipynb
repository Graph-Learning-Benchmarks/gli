{
 "cells": [
  {
   "cell_type": "code",
   "execution_count": 1,
   "id": "047d59e5",
   "metadata": {},
   "outputs": [
    {
     "name": "stderr",
     "output_type": "stream",
     "text": [
      "WARNING:root:The OGB package is out of date. Your version is 1.3.2, while the latest version is 1.3.3.\n",
      "Using backend: pytorch\n"
     ]
    }
   ],
   "source": [
    "\n",
    "# source: https://ogb.stanford.edu/docs/linkprop/#ogbl-collab\n",
    "\n",
    "from ogb.linkproppred import LinkPropPredDataset\n",
    "\n",
    "dataset = LinkPropPredDataset(name = 'ogbl-biokg')\n",
    "\n",
    "split_edge = dataset.get_edge_split()\n",
    "train_edge, valid_edge, test_edge = split_edge[\"train\"], split_edge[\"valid\"], split_edge[\"test\"]\n",
    "graph = dataset[0]\n",
    "graph_backup = graph.copy()"
   ]
  },
  {
   "cell_type": "code",
   "execution_count": 2,
   "outputs": [],
   "source": [
    "metadata = {\n",
    "    \"description\": \"An example of heterogeneous dataset.\",\n",
    "    \"citation\": \"\",\n",
    "    \"data\": {\n",
    "        \"Node\": {\n",
    "        },\n",
    "        \"Edge\": {\n",
    "\n",
    "        },\n",
    "        \"Graph\": {\n",
    "            \"_NodeList\": {\n",
    "                \"file\": \"example.npz\",\n",
    "                \"key\": \"node_list\"\n",
    "            },\n",
    "            \"_EdgeList\": {\n",
    "                \"file\": \"example.npz\",\n",
    "                \"key\": \"edge_list\"\n",
    "            }\n",
    "        }\n",
    "    }\n",
    "}\n",
    "\n"
   ],
   "metadata": {
    "collapsed": false,
    "pycharm": {
     "name": "#%%\n"
    }
   }
  },
  {
   "cell_type": "code",
   "execution_count": 3,
   "outputs": [],
   "source": [
    "import json\n",
    "import numpy as np\n",
    "import torch\n",
    "import scipy.sparse as sparse"
   ],
   "metadata": {
    "collapsed": false,
    "pycharm": {
     "name": "#%%\n"
    }
   }
  },
  {
   "cell_type": "code",
   "execution_count": 3,
   "outputs": [],
   "source": [],
   "metadata": {
    "collapsed": false,
    "pycharm": {
     "name": "#%%\n"
    }
   }
  },
  {
   "cell_type": "code",
   "execution_count": 4,
   "outputs": [
    {
     "name": "stdout",
     "output_type": "stream",
     "text": [
      "dict_keys(['edge_index_dict', 'edge_feat_dict', 'node_feat_dict', 'num_nodes_dict', 'edge_reltype'])\n"
     ]
    },
    {
     "data": {
      "text/plain": "51"
     },
     "execution_count": 4,
     "metadata": {},
     "output_type": "execute_result"
    }
   ],
   "source": [
    "print(graph.keys())\n",
    "processed_keys = set()\n",
    "node_count = dict()\n",
    "edge_idx_dict = dict()\n",
    "for pair in graph['edge_index_dict'].keys():\n",
    "    processed_keys.add(pair[0])\n",
    "    #for i in range\n",
    "len(graph['edge_reltype'])\n"
   ],
   "metadata": {
    "collapsed": false,
    "pycharm": {
     "name": "#%%\n"
    }
   }
  },
  {
   "cell_type": "code",
   "execution_count": 5,
   "outputs": [],
   "source": [
    "node_set = set()\n",
    "\n",
    "for pair in graph['edge_index_dict'].keys():\n",
    "    node_set.add(pair[0])\n",
    "    node_set.add(pair[2])"
   ],
   "metadata": {
    "collapsed": false,
    "pycharm": {
     "name": "#%%\n"
    }
   }
  },
  {
   "cell_type": "code",
   "execution_count": 6,
   "outputs": [],
   "source": [
    "node_dict = {}\n",
    "node_cumsum = 0\n",
    "for key in graph['num_nodes_dict'].keys():\n",
    "    node_dict[key] = np.arange(node_cumsum, node_cumsum+graph['num_nodes_dict'][key])\n",
    "    node_cumsum = node_dict[key][-1]+1\n"
   ],
   "metadata": {
    "collapsed": false,
    "pycharm": {
     "name": "#%%\n"
    }
   }
  },
  {
   "cell_type": "code",
   "execution_count": 7,
   "outputs": [],
   "source": [
    "link_dict = {}\n",
    "for pair in graph['edge_index_dict']:\n",
    "    link_dict[pair] = graph['edge_index_dict'][pair]\n",
    "    link_dict[pair][0, :] += node_dict[pair[0]][0]\n",
    "    link_dict[pair][1, :] += node_dict[pair[2]][0]"
   ],
   "metadata": {
    "collapsed": false,
    "pycharm": {
     "name": "#%%\n"
    }
   }
  },
  {
   "cell_type": "code",
   "execution_count": 8,
   "outputs": [],
   "source": [
    "for key in node_dict.keys():\n",
    "    metadata['data']['Node'][key] = {'_ID':{'file': 'ogbl-biokg.npz', 'key': key+'_id'}}\n",
    "for key in link_dict.keys():\n",
    "    metadata['data']['Edge'][key[1]] = {'_ID':{'file': 'ogbl-biokg.npz', 'key': key[1]+'_id'}, '_Edge': {'file': 'ogbl-biokg.npz', 'key':key[1]}}"
   ],
   "metadata": {
    "collapsed": false,
    "pycharm": {
     "name": "#%%\n"
    }
   }
  },
  {
   "cell_type": "code",
   "execution_count": 9,
   "outputs": [],
   "source": [
    "data = {}\n",
    "for key in node_dict.keys():\n",
    "    data[key+'_id'] = node_dict[key]\n",
    "edge_cumsum = 0\n",
    "for key in link_dict.keys():\n",
    "    data[key[1]+'_id'] = np.arange(edge_cumsum, edge_cumsum + link_dict[key].shape[1])\n",
    "    edge_cumsum = data[key[1]+'_id'][-1]+1\n",
    "    data[key[1]] = link_dict[key].T\n",
    "data['node_list'] = np.ones((1,node_cumsum))\n",
    "\n",
    "data['edge_list'] = np.ones((1, edge_cumsum))\n",
    "\n",
    "\n",
    "\n"
   ],
   "metadata": {
    "collapsed": false,
    "pycharm": {
     "name": "#%%\n"
    }
   }
  },
  {
   "cell_type": "code",
   "execution_count": 10,
   "outputs": [],
   "source": [
    "biokg = np.load(\"ogbl-biokg.npz\", allow_pickle=True)"
   ],
   "metadata": {
    "collapsed": false,
    "pycharm": {
     "name": "#%%\n"
    }
   }
  },
  {
   "cell_type": "code",
   "execution_count": 11,
   "outputs": [],
   "source": [
    "json.dump(metadata, open(\"metadata.json\", \"w\"), indent=4)"
   ],
   "metadata": {
    "collapsed": false,
    "pycharm": {
     "name": "#%%\n"
    }
   }
  },
  {
   "cell_type": "code",
   "execution_count": 12,
   "outputs": [],
   "source": [
    "train_edge.keys()\n",
    "train_set = []\n",
    "edge_type_list = list(graph_backup['edge_reltype'])\n",
    "for idx in range(len(train_edge['relation'])):\n",
    "    edge_type = edge_type_list[train_edge['relation'][idx]]\n",
    "    head_type = train_edge['head_type'][idx]\n",
    "    head_id = data[head_type+'_id'][train_edge['head'][idx]]\n",
    "    tail_type = train_edge['tail_type'][idx]\n",
    "    tail_id = data[tail_type+'_id'][train_edge['tail'][idx]]\n",
    "    edge_mat = data[edge_type[1]]\n",
    "    edge_index = np.where((edge_mat[:,0] == head_id) & (edge_mat[:,1] == tail_id))\n",
    "    train_set.append(edge_index[0][0])"
   ],
   "metadata": {
    "collapsed": false,
    "pycharm": {
     "name": "#%%\n"
    }
   }
  },
  {
   "cell_type": "code",
   "execution_count": 13,
   "outputs": [],
   "source": [
    "valid_edge.keys()\n",
    "val_set = []\n",
    "edge_type_list = list(graph_backup['edge_reltype'])\n",
    "total_edge = len(data['edge_list'][0])\n",
    "for idx in range(len(valid_edge['relation'])):\n",
    "    edge_type = edge_type_list[valid_edge['relation'][idx]]\n",
    "    head_type = valid_edge['head_type'][idx]\n",
    "    head_id = data[head_type+'_id'][valid_edge['head'][idx]]\n",
    "    tail_type = valid_edge['tail_type'][idx]\n",
    "    tail_id = data[tail_type+'_id'][valid_edge['tail'][idx]]\n",
    "    edge_mat = data[edge_type[1]]\n",
    "    data[edge_type[1]] = np.append(edge_mat, [[head_id, tail_id]], axis=0)\n",
    "    data[edge_type[1]+'_id'] = np.append(data[edge_type[1]+'_id'], [total_edge], axis=0)\n",
    "    val_set.append(total_edge)\n",
    "    total_edge += 1"
   ],
   "metadata": {
    "collapsed": false,
    "pycharm": {
     "name": "#%%\n"
    }
   }
  },
  {
   "cell_type": "code",
   "execution_count": 14,
   "outputs": [],
   "source": [
    "test_edge.keys()\n",
    "test_set = []\n",
    "edge_type_list = list(graph_backup['edge_reltype'])\n",
    "total_edge = len(data['edge_list'][0])\n",
    "for idx in range(len(test_edge['relation'][0:10])):\n",
    "    edge_type = edge_type_list[test_edge['relation'][idx]]\n",
    "    head_type = test_edge['head_type'][idx]\n",
    "    head_id = data[head_type+'_id'][test_edge['head'][idx]]\n",
    "    tail_type = test_edge['tail_type'][idx]\n",
    "    tail_id = data[tail_type+'_id'][test_edge['tail'][idx]]\n",
    "    edge_mat = data[edge_type[1]]\n",
    "    data[edge_type[1]] = np.append(edge_mat, [[head_id, tail_id]], axis=0)\n",
    "    data[edge_type[1]+'_id'] = np.append(data[edge_type[1]+'_id'], [total_edge], axis=0)\n",
    "    test_set.append(total_edge)\n",
    "    total_edge += 1"
   ],
   "metadata": {
    "collapsed": false,
    "pycharm": {
     "name": "#%%\n"
    }
   }
  },
  {
   "cell_type": "code",
   "execution_count": 15,
   "outputs": [],
   "source": [
    "data['edge_list'] = np.ones((1, total_edge))\n",
    "np.savez_compressed(\"ogbl-biokg.npz\", **data)"
   ],
   "metadata": {
    "collapsed": false,
    "pycharm": {
     "name": "#%%\n"
    }
   }
  },
  {
   "cell_type": "code",
   "execution_count": 16,
   "outputs": [],
   "source": [
    "task = {\n",
    "    \"description\": \"The task is to predict new triplets given the training triplets. The evaluation protocol is exactly the same as ogbl-wikikg2, except that here we only consider ranking against entities of the same type. For instance, when corrupting head entities of the protein type, we only consider negative protein entities.\",\n",
    "    \"type\": \"LinkPrediction\",\n",
    "\n",
    "    \"target\": \"Edge/EdgeType\",\n",
    "    \"train_set\": {\n",
    "        \"file\": \"ogbl-biokg_task.npz\",\n",
    "        \"key\": \"train\"\n",
    "    },\n",
    "    \"val_set\": {\n",
    "        \"file\": \"ogbl-biokg_task.npz\",\n",
    "        \"key\": \"val\"\n",
    "    },\n",
    "    \"test_set\": {\n",
    "        \"file\": \"ogbl-biokg_task.npz\",\n",
    "        \"key\": \"test\"\n",
    "    }\n",
    "}"
   ],
   "metadata": {
    "collapsed": false,
    "pycharm": {
     "name": "#%%\n"
    }
   }
  },
  {
   "cell_type": "code",
   "execution_count": 17,
   "outputs": [],
   "source": [
    "task_data = {\n",
    "    \"train\": train_set,\n",
    "    \"val\": val_set,\n",
    "    \"test\": test_set\n",
    "}\n",
    "np.savez_compressed(\"ogbl-biokg_task.npz\", **task_data)\n",
    "\n",
    "with open(\"./task.json\", \"w\") as fp:\n",
    "    json.dump(task, fp, indent=4)"
   ],
   "metadata": {
    "collapsed": false,
    "pycharm": {
     "name": "#%%\n"
    }
   }
  },
  {
   "cell_type": "code",
   "execution_count": 41,
   "outputs": [
    {
     "data": {
      "text/plain": "{'disease', 'drug', 'function', 'protein'}"
     },
     "execution_count": 41,
     "metadata": {},
     "output_type": "execute_result"
    }
   ],
   "source": [],
   "metadata": {
    "collapsed": false,
    "pycharm": {
     "name": "#%%\n"
    }
   }
  },
  {
   "cell_type": "code",
   "execution_count": null,
   "outputs": [],
   "source": [],
   "metadata": {
    "collapsed": false,
    "pycharm": {
     "name": "#%%\n"
    }
   }
  }
 ],
 "metadata": {
  "kernelspec": {
   "name": "pycharm-1c69af80",
   "language": "python",
   "display_name": "PyCharm (GLB-Repo)"
  },
  "language_info": {
   "codemirror_mode": {
    "name": "ipython",
    "version": 3
   },
   "file_extension": ".py",
   "mimetype": "text/x-python",
   "name": "python",
   "nbconvert_exporter": "python",
   "pygments_lexer": "ipython3",
   "version": "3.8.8"
  }
 },
 "nbformat": 4,
 "nbformat_minor": 5
}