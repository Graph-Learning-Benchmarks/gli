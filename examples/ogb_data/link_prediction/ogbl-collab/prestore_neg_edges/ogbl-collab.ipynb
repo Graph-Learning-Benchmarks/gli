{
 "cells": [
  {
   "cell_type": "code",
   "execution_count": 1,
   "id": "047d59e5",
   "metadata": {},
   "outputs": [
    {
     "name": "stderr",
     "output_type": "stream",
     "text": [
      "WARNING:root:The OGB package is out of date. Your version is 1.3.2, while the latest version is 1.3.3.\n",
      "Using backend: pytorch\n"
     ]
    }
   ],
   "source": [
    "\n",
    "# source: https://ogb.stanford.edu/docs/linkprop/#ogbl-collab\n",
    "\n",
    "from ogb.linkproppred import LinkPropPredDataset\n",
    "\n",
    "dataset = LinkPropPredDataset(name = 'ogbl-collab')\n",
    "\n",
    "split_edge = dataset.get_edge_split()\n",
    "train_edge, valid_edge, test_edge = split_edge[\"train\"], split_edge[\"valid\"], split_edge[\"test\"]\n",
    "graph = dataset[0]\n",
    "\n"
   ]
  },
  {
   "cell_type": "code",
   "execution_count": 2,
   "outputs": [],
   "source": [
    "import json\n",
    "import numpy as np\n",
    "import torch\n",
    "import scipy.sparse as sparse\n"
   ],
   "metadata": {
    "collapsed": false,
    "pycharm": {
     "name": "#%%\n"
    }
   }
  },
  {
   "cell_type": "code",
   "execution_count": 1,
   "id": "747c0f5e",
   "metadata": {},
   "outputs": [],
   "source": [
    "metadata ={\n",
    "    \"description\": \"OGBL-COLLAB dataset.\",\n",
    "    \"data\": {\n",
    "        \"Node\": {\n",
    "            \"NodeFeature\": {\n",
    "                \"description\": \"Node features of ogbl-collab dataset.\",\n",
    "                \"type\": \"float\",\n",
    "                \"format\": \"Tensor\",\n",
    "                \"file\": \"ogbl-collab.npz\",\n",
    "                \"key\": \"node_feats\"\n",
    "            }\n",
    "        },\n",
    "        \"Edge\": {\n",
    "            \"PositiveEdge\":{\n",
    "                \"_ID\": {\n",
    "                    \"file\": \"ogbl-collab.npz\",\n",
    "                    \"key\": \"PositiveEdge_id\"\n",
    "                },\n",
    "                \"_Edge\": {\n",
    "                    \"file\": \"ogbl-collab.npz\",\n",
    "                    \"key\": \"edge\"\n",
    "                },\n",
    "                \"EdgeWeight\":{\n",
    "                    \"description\": \"Number of co-authored papers published in that year\",\n",
    "                    \"type\": \"int\",\n",
    "                    \"format\": \"Tensor\",\n",
    "                    \"file\": \"ogbl-collab.npz\",\n",
    "                    \"key\": \"edge_weight\"\n",
    "                },\n",
    "                \"EdgeYear\":{\n",
    "                    \"description\": \"Year of the collaboration represented by the Edge\",\n",
    "                    \"type\": \"int\",\n",
    "                    \"format\": \"Tensor\",\n",
    "                    \"file\": \"ogbl-collab.npz\",\n",
    "                    \"key\": \"edge_year\"\n",
    "                },\n",
    "            },\n",
    "            \"NegativeEdge\":{\n",
    "                \"_ID\": {\n",
    "                    \"file\": \"ogbl-collab.npz\",\n",
    "                    \"key\": \"NegativeEdge_id\"\n",
    "                },\n",
    "                \"_Edge\": {\n",
    "                    \"file\": \"ogbl-collab.npz\",\n",
    "                    \"key\": \"neg_edge\"\n",
    "                }\n",
    "            }\n",
    "            \n",
    "        },\n",
    "        \"Graph\": {\n",
    "            \"_NodeList\": {\n",
    "                \"file\": \"ogbl-collab.npz\",\n",
    "                \"key\": \"node_list\"\n",
    "            },\n",
    "            \"_EdgeList\": {\n",
    "                \"file\": \"ogbl-collab.npz\",\n",
    "                \"key\": \"edge_list\"\n",
    "            }\n",
    "        }\n",
    "    },\n",
    "    \"citation\": \"@inproceedings{wang2020microsoft,\\ntitle={Microsoft academic graph: When experts are not enough},\\nauthor={Wang, Kuansan and Shen, Zhihong and Huang, Chiyuan and Wu, Chieh-Han and Dong, Yuxiao and Kanakia, Anshul},\\nbooktitle={Quantitative Science Studies},\\npages={396--413},\\nyear={2020}\\n}\"\n",
    " }"
   ]
  },
  {
   "cell_type": "code",
   "execution_count": 2,
   "outputs": [
    {
     "data": {
      "text/plain": "\"how to find index\\ntrain_edge_idx = []\\nvalid_edge_idx = []\\ntest_edge_idx = []\\nedge = graph['edge_index'].T\\nedge_year = graph['edge_year']\\n\\ntemp_edge_list = train_edge['edge']\\n\\nfor i in range(len(temp_edge_list)):\\n    if i % 1000 == 0:\\n        print(i, '/', len(temp_edge_list))\\n    tool = edge == temp_edge_list[i]\\n    idx_list = np.where(tool[:,0] * tool[:,1] == True)[0]\\n    for idx in idx_list:\\n        if train_edge['year'][i] == edge_year[idx]:\\n            train_edge_idx.append(idx)\\n\""
     },
     "execution_count": 2,
     "metadata": {},
     "output_type": "execute_result"
    }
   ],
   "source": [
    "'''how to find index\n",
    "train_edge_idx = []\n",
    "valid_edge_idx = []\n",
    "test_edge_idx = []\n",
    "edge = graph['edge_index'].T\n",
    "edge_year = graph['edge_year']\n",
    "\n",
    "temp_edge_list = train_edge['edge']\n",
    "\n",
    "for i in range(len(temp_edge_list)):\n",
    "    if i % 1000 == 0:\n",
    "        print(i, '/', len(temp_edge_list))\n",
    "    tool = edge == temp_edge_list[i]\n",
    "    idx_list = np.where(tool[:,0] * tool[:,1] == True)[0]\n",
    "    for idx in idx_list:\n",
    "        if train_edge['year'][i] == edge_year[idx]:\n",
    "            train_edge_idx.append(idx)\n",
    "'''"
   ],
   "metadata": {
    "collapsed": false,
    "pycharm": {
     "name": "#%%\n"
    }
   }
  },
  {
   "cell_type": "code",
   "execution_count": 2,
   "outputs": [],
   "source": [],
   "metadata": {
    "collapsed": false,
    "pycharm": {
     "name": "#%%\n"
    }
   }
  },
  {
   "cell_type": "code",
   "execution_count": 3,
   "outputs": [
    {
     "ename": "NameError",
     "evalue": "name 'graph' is not defined",
     "output_type": "error",
     "traceback": [
      "\u001B[0;31m---------------------------------------------------------------------------\u001B[0m",
      "\u001B[0;31mNameError\u001B[0m                                 Traceback (most recent call last)",
      "\u001B[0;32m/var/folders/08/150xjg193bx1y_qrnfhvtc2h0000gn/T/ipykernel_1137/2309246958.py\u001B[0m in \u001B[0;36m<module>\u001B[0;34m\u001B[0m\n\u001B[0;32m----> 1\u001B[0;31m \u001B[0mnode_feats\u001B[0m \u001B[0;34m=\u001B[0m \u001B[0mgraph\u001B[0m\u001B[0;34m[\u001B[0m\u001B[0;34m'node_feat'\u001B[0m\u001B[0;34m]\u001B[0m \u001B[0;31m# (235868, 128)\u001B[0m\u001B[0;34m\u001B[0m\u001B[0;34m\u001B[0m\u001B[0m\n\u001B[0m\u001B[1;32m      2\u001B[0m \u001B[0medge_year\u001B[0m \u001B[0;34m=\u001B[0m \u001B[0mgraph\u001B[0m\u001B[0;34m[\u001B[0m\u001B[0;34m'edge_year'\u001B[0m\u001B[0;34m]\u001B[0m\u001B[0;34m\u001B[0m\u001B[0;34m\u001B[0m\u001B[0m\n\u001B[1;32m      3\u001B[0m \u001B[0medge_weight\u001B[0m \u001B[0;34m=\u001B[0m \u001B[0mgraph\u001B[0m\u001B[0;34m[\u001B[0m\u001B[0;34m'edge_weight'\u001B[0m\u001B[0;34m]\u001B[0m\u001B[0;34m.\u001B[0m\u001B[0mreshape\u001B[0m\u001B[0;34m(\u001B[0m\u001B[0;34m-\u001B[0m\u001B[0;36m1\u001B[0m\u001B[0;34m,\u001B[0m\u001B[0;34m)\u001B[0m \u001B[0;31m# (2358104, )\u001B[0m\u001B[0;34m\u001B[0m\u001B[0;34m\u001B[0m\u001B[0m\n\u001B[1;32m      4\u001B[0m \u001B[0medge\u001B[0m \u001B[0;34m=\u001B[0m \u001B[0mgraph\u001B[0m\u001B[0;34m[\u001B[0m\u001B[0;34m'edge_index'\u001B[0m\u001B[0;34m]\u001B[0m\u001B[0;34m.\u001B[0m\u001B[0mT\u001B[0m \u001B[0;31m# (2358104, 2)\u001B[0m\u001B[0;34m\u001B[0m\u001B[0;34m\u001B[0m\u001B[0m\n\u001B[1;32m      5\u001B[0m \u001B[0mneg_edge\u001B[0m \u001B[0;34m=\u001B[0m \u001B[0mnp\u001B[0m\u001B[0;34m.\u001B[0m\u001B[0mconcatenate\u001B[0m\u001B[0;34m(\u001B[0m\u001B[0;34m[\u001B[0m\u001B[0mvalid_edge\u001B[0m\u001B[0;34m[\u001B[0m\u001B[0;34m'edge_neg'\u001B[0m\u001B[0;34m]\u001B[0m\u001B[0;34m,\u001B[0m \u001B[0mtest_edge\u001B[0m\u001B[0;34m[\u001B[0m\u001B[0;34m'edge_neg'\u001B[0m\u001B[0;34m]\u001B[0m\u001B[0;34m]\u001B[0m\u001B[0;34m)\u001B[0m\u001B[0;34m\u001B[0m\u001B[0;34m\u001B[0m\u001B[0m\n",
      "\u001B[0;31mNameError\u001B[0m: name 'graph' is not defined"
     ]
    }
   ],
   "source": [
    "node_feats = graph['node_feat'] # (235868, 128)\n",
    "edge_year = graph['edge_year']\n",
    "edge_weight = graph['edge_weight'].reshape(-1,) # (2358104, )\n",
    "edge = graph['edge_index'].T # (2358104, 2)\n",
    "neg_edge = np.concatenate([valid_edge['edge_neg'], test_edge['edge_neg']])\n",
    "node_list = np.ones((1, graph['num_nodes']))\n",
    "edge_list = np.ones((1, edge.shape[0]))\n",
    "PositiveEdge_id = np.arange(0, edge.shape[0])\n",
    "NegativeEdge_id = np.arange(edge.shape[0], edge.shape[0] + neg_edge.shape[0])\n",
    "\n",
    "data = {\n",
    "    \"node_feats\": node_feats,\n",
    "    \"edge_year\": edge_year,\n",
    "    \"edge_weight\":edge_weight,\n",
    "    \"edge\": edge,\n",
    "    \"neg_edge\": neg_edge,\n",
    "    \"node_list\": node_list,\n",
    "    \"edge_list\": edge_list\n",
    "}"
   ],
   "metadata": {
    "collapsed": false,
    "pycharm": {
     "name": "#%%\n"
    }
   }
  },
  {
   "cell_type": "code",
   "execution_count": 9,
   "outputs": [
    {
     "data": {
      "text/plain": "(array([      0,       1,       2, ..., 2358101, 2358102, 2358103]),\n array([2358104, 2358105, 2358106, ..., 2558101, 2558102, 2558103]))"
     },
     "execution_count": 9,
     "metadata": {},
     "output_type": "execute_result"
    }
   ],
   "source": [
    "np.savez_compressed(\"ogbl-collab.npz\", **data)"
   ],
   "metadata": {
    "collapsed": false,
    "pycharm": {
     "name": "#%%\n"
    }
   }
  },
  {
   "cell_type": "code",
   "execution_count": 99,
   "outputs": [
    {
     "data": {
      "text/plain": "['node_feats',\n 'edge_year',\n 'edge_weight',\n 'edge',\n 'neg_edge',\n 'node_list',\n 'edge_list']"
     },
     "execution_count": 99,
     "metadata": {},
     "output_type": "execute_result"
    }
   ],
   "source": [
    "cora = np.load(\"ogbl-collab.npz\", allow_pickle=True)\n",
    "cora.files"
   ],
   "metadata": {
    "collapsed": false,
    "pycharm": {
     "name": "#%%\n"
    }
   }
  },
  {
   "cell_type": "code",
   "execution_count": 4,
   "outputs": [
    {
     "ename": "NameError",
     "evalue": "name 'json' is not defined",
     "output_type": "error",
     "traceback": [
      "\u001B[0;31m---------------------------------------------------------------------------\u001B[0m",
      "\u001B[0;31mNameError\u001B[0m                                 Traceback (most recent call last)",
      "\u001B[0;32m/var/folders/08/150xjg193bx1y_qrnfhvtc2h0000gn/T/ipykernel_1137/4019633945.py\u001B[0m in \u001B[0;36m<module>\u001B[0;34m\u001B[0m\n\u001B[0;32m----> 1\u001B[0;31m \u001B[0mjson\u001B[0m\u001B[0;34m.\u001B[0m\u001B[0mdump\u001B[0m\u001B[0;34m(\u001B[0m\u001B[0mmetadata\u001B[0m\u001B[0;34m,\u001B[0m \u001B[0mopen\u001B[0m\u001B[0;34m(\u001B[0m\u001B[0;34m\"metadata.json\"\u001B[0m\u001B[0;34m,\u001B[0m \u001B[0;34m\"w\"\u001B[0m\u001B[0;34m)\u001B[0m\u001B[0;34m,\u001B[0m \u001B[0mindent\u001B[0m\u001B[0;34m=\u001B[0m\u001B[0;36m4\u001B[0m\u001B[0;34m)\u001B[0m\u001B[0;34m\u001B[0m\u001B[0;34m\u001B[0m\u001B[0m\n\u001B[0m\u001B[1;32m      2\u001B[0m \u001B[0;34m\u001B[0m\u001B[0m\n\u001B[1;32m      3\u001B[0m \u001B[0;34m\u001B[0m\u001B[0m\n",
      "\u001B[0;31mNameError\u001B[0m: name 'json' is not defined"
     ]
    }
   ],
   "source": [
    "json.dump(metadata, open(\"metadata.json\", \"w\"), indent=4)\n"
   ],
   "metadata": {
    "collapsed": false,
    "pycharm": {
     "name": "#%%\n"
    }
   }
  },
  {
   "cell_type": "code",
   "execution_count": 101,
   "outputs": [],
   "source": [
    "task = {\n",
    "    \"description\": \"The task is to predict the future author collaboration relationships given the past collaborations. The goal is to rank true collaborations higher than false collaborations. Specifically, we rank each true collaboration among a set of 100,000 randomly-sampled negative collaborations, and count the ratio of positive edges that are ranked at K-place or above (Hits@K). We found K = 50 to be a good threshold in our preliminary experiments.\",\n",
    "    \"type\": \"TimeDependentLinkPrediction\",\n",
    "    \"feature\": [{\n",
    "        \"object\": \"Node\",\n",
    "        \"attribute\": \"NodeFeature\"\n",
    "    },\n",
    "        {\n",
    "            \"object\": \"Edge\",\n",
    "            \"attribute\": \"EdgeWeight\"\n",
    "        }],\n",
    "    \"time\": {\n",
    "        \"object\": \"Edge\",\n",
    "        \"attribute\": \"EdgeYear\"\n",
    "    },\n",
    "    \"valid_neg\": {\n",
    "        \"file\": \"ogbl-collab_task.npz\",\n",
    "        \"key\": \"val\"\n",
    "    },\n",
    "    \"test_neg\": {\n",
    "        \"file\": \"ogbl-collab_task.npz\",\n",
    "        \"key\": \"test\"\n",
    "    },\n",
    "    \"train_time_window\": {\n",
    "        \"file\": \"ogbl-collab_task.npz\",\n",
    "        \"key\": \"train_time_window\"\n",
    "    },\n",
    "    \"valid_time_window\": {\n",
    "        \"file\": \"ogbl-collab_task.npz\",\n",
    "        \"key\": \"valid_time_window\"\n",
    "    },\n",
    "    \"test_time_window\": {\n",
    "        \"file\": \"ogbl-collab_task.npz\",\n",
    "        \"key\": \"test_time_window\"\n",
    "    },\n",
    "}"
   ],
   "metadata": {
    "collapsed": false,
    "pycharm": {
     "name": "#%%\n"
    }
   }
  },
  {
   "cell_type": "code",
   "execution_count": 102,
   "outputs": [],
   "source": [
    "task_data = {\n",
    "    # use edge_id to index val_neg and test_neg\n",
    "    \"val\": np.arange(edge.shape[0], edge.shape[0] + valid_edge['edge_neg'].shape[0]),\n",
    "    \"test\": np.arange(edge.shape[0]+valid_edge['edge_neg'].shape[0], edge.shape[0]+valid_edge['edge_neg'].shape[0] + test_edge['edge_neg'].shape[0]),\n",
    "    \"train_time_window\": (1963, 2017),\n",
    "    \"valid_time_window\": (2018, 2018),\n",
    "    \"test_time_window\": (2019, 2019)\n",
    "}\n",
    "np.savez_compressed(\"ogbl-collab_task.npz\", **task_data)\n",
    "\n",
    "with open(\"./task.json\", \"w\") as fp:\n",
    "    json.dump(task, fp, indent=4)\n"
   ],
   "metadata": {
    "collapsed": false,
    "pycharm": {
     "name": "#%%\n"
    }
   }
  },
  {
   "cell_type": "code",
   "execution_count": 90,
   "outputs": [
    {
     "data": {
      "text/plain": "(100000, 2)"
     },
     "execution_count": 90,
     "metadata": {},
     "output_type": "execute_result"
    }
   ],
   "source": [
    "# 1. pre-store neg - index\n",
    "# 2. no pre-store - time"
   ],
   "metadata": {
    "collapsed": false,
    "pycharm": {
     "name": "#%%\n"
    }
   }
  },
  {
   "cell_type": "code",
   "execution_count": null,
   "outputs": [],
   "source": [],
   "metadata": {
    "collapsed": false,
    "pycharm": {
     "name": "#%%\n"
    }
   }
  }
 ],
 "metadata": {
  "kernelspec": {
   "name": "pycharm-1c69af80",
   "language": "python",
   "display_name": "PyCharm (GLB-Repo)"
  },
  "language_info": {
   "codemirror_mode": {
    "name": "ipython",
    "version": 3
   },
   "file_extension": ".py",
   "mimetype": "text/x-python",
   "name": "python",
   "nbconvert_exporter": "python",
   "pygments_lexer": "ipython3",
   "version": "3.8.8"
  }
 },
 "nbformat": 4,
 "nbformat_minor": 5
}