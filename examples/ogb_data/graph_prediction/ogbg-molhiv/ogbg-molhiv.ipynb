{
 "cells": [
  {
   "cell_type": "code",
   "execution_count": 1,
   "id": "047d59e5",
   "metadata": {},
   "outputs": [
    {
     "name": "stderr",
     "output_type": "stream",
     "text": [
      "Using backend: pytorch[22:46:52] /opt/dgl/src/runtime/tensordispatch.cc:43: TensorDispatcher: dlopen failed: /home/jimmyzxj/miniconda3/envs/py39/lib/python3.9/site-packages/dgl/tensoradapter/pytorch/libtensoradapter_pytorch_1.10.2.so: cannot open shared object file: No such file or directory\n",
      "\n"
     ]
    }
   ],
   "source": [
    "######################## think about graph task config types\n",
    "\n",
    "# source: https://ogb.stanford.edu/docs/graphprop/#ogbg-mol\n",
    "\n",
    "from ogb.graphproppred import GraphPropPredDataset\n",
    "\n",
    "dataset = GraphPropPredDataset(name = 'ogbg-molhiv')\n",
    "\n",
    "split_idx = dataset.get_idx_split()\n",
    "train_idx, valid_idx, test_idx = split_idx[\"train\"], split_idx[\"valid\"], split_idx[\"test\"]\n"
   ]
  },
  {
   "cell_type": "code",
   "execution_count": 2,
   "metadata": {
    "collapsed": false,
    "pycharm": {
     "name": "#%%\n"
    }
   },
   "outputs": [],
   "source": [
    "import json\n",
    "import numpy as np\n",
    "import torch\n",
    "import scipy.sparse as sparse"
   ]
  },
  {
   "cell_type": "code",
   "execution_count": 3,
   "id": "8a532bad",
   "metadata": {},
   "outputs": [
    {
     "name": "stdout",
     "output_type": "stream",
     "text": [
      "dict_keys(['edge_index', 'edge_feat', 'node_feat', 'num_nodes'])\n",
      "[0]\n"
     ]
    }
   ],
   "source": [
    "print(dataset[0][0].keys())\n",
    "print(dataset[0][1])"
   ]
  },
  {
   "cell_type": "code",
   "execution_count": 4,
   "id": "f2e90091",
   "metadata": {},
   "outputs": [
    {
     "name": "stderr",
     "output_type": "stream",
     "text": [
      "100%|██████████| 41127/41127 [00:00<00:00, 67841.44it/s]\n"
     ]
    }
   ],
   "source": [
    "from tqdm import tqdm\n",
    "node_list = []\n",
    "labels = []\n",
    "edges = []\n",
    "edge_feats = []\n",
    "node_feats = []\n",
    "num_nodes = 0\n",
    "for g, label in tqdm(dataset):\n",
    "    node_list.append(np.arange(g[\"num_nodes\"]) + num_nodes)  # All the nodes are considered in a single graph\n",
    "    edges.append(np.stack(g[\"edge_index\"]).T + num_nodes)\n",
    "    labels.append(label)\n",
    "    edge_feats.append(g[\"edge_feat\"])\n",
    "    node_feats.append(g[\"node_feat\"])\n",
    "    num_nodes += g[\"num_nodes\"]"
   ]
  },
  {
   "cell_type": "code",
   "execution_count": 5,
   "id": "87783cdf",
   "metadata": {},
   "outputs": [],
   "source": [
    "_edges = np.concatenate(edges, axis=0)\n",
    "_labels = np.stack(labels).squeeze()\n",
    "_edge_feats = np.concatenate(edge_feats)\n",
    "_node_feats = np.concatenate(node_feats)"
   ]
  },
  {
   "cell_type": "code",
   "execution_count": 6,
   "id": "a339d676",
   "metadata": {},
   "outputs": [],
   "source": [
    "_node_list = sparse.lil_matrix((len(dataset), num_nodes))\n",
    "for i, indices in enumerate(node_list):\n",
    "    _node_list[i, indices] = 1"
   ]
  },
  {
   "cell_type": "code",
   "execution_count": 7,
   "id": "18313658",
   "metadata": {},
   "outputs": [
    {
     "name": "stdout",
     "output_type": "stream",
     "text": [
      "(2259376, 2) (41127,) (2259376, 3) (1049163, 9) (41127, 1049163)\n"
     ]
    }
   ],
   "source": [
    "print(_edges.shape, _labels.shape, _edge_feats.shape, _node_feats.shape, _node_list.shape)"
   ]
  },
  {
   "cell_type": "code",
   "execution_count": 8,
   "metadata": {
    "collapsed": false,
    "pycharm": {
     "name": "#%%\n"
    }
   },
   "outputs": [],
   "source": [
    "metadata ={\n",
    "    \"description\": \"OGBg-molhiv dataset.\",\n",
    "    \"data\": {\n",
    "        \"Node\": {\n",
    "            \"NodeFeature\": {\n",
    "                \"description\": \"Node features of ogbg-molhiv dataset.\",\n",
    "                \"type\": \"int\",\n",
    "                \"format\": \"SparseTensor\",\n",
    "                \"file\": \"ogbg-molhiv.npz\",\n",
    "                \"key\": \"node_feats\"\n",
    "            }\n",
    "        },\n",
    "        \"Edge\": {\n",
    "            \"_Edge\": {\n",
    "                \"file\": \"ogbg-molhiv.npz\",\n",
    "                \"key\": \"edge\"\n",
    "            },\n",
    "            \"EdgeFeature\": {\n",
    "                \"description\": \"Node features of ogbg-molhiv dataset.\",\n",
    "                \"type\": \"int\",\n",
    "                \"format\": \"SparseTensor\",\n",
    "                \"file\": \"ogbg-molhiv.npz\",\n",
    "                \"key\": \"edge_feats\"\n",
    "            }\n",
    "        },\n",
    "        \"Graph\": {\n",
    "            \"_NodeList\": {\n",
    "                \"file\": \"ogbg-molhiv.npz\",\n",
    "                \"type\": \"int\",\n",
    "                \"format\": \"SparseTensor\",\n",
    "                \"key\": \"node_list\",\n",
    "            },\n",
    "            # \"_EdgeList\": {\n",
    "            #     \"file\": \"ogbg-molhiv.npz\",\n",
    "            #     \"type\": \"int\",\n",
    "            #     \"format\": \"SparseTensor\",\n",
    "            #     \"key\": \"edge_matrix\"\n",
    "            # },  _EdgeList is not required for this dataset\n",
    "            \"GraphLabel\": {\n",
    "                \"file\": \"ogbg-molhiv.npz\",\n",
    "                \"type\": \"int\",\n",
    "                \"format\": \"Tensor\",\n",
    "                \"key\": \"graph_class\"\n",
    "            }\n",
    "        }\n",
    "    },\n",
    "    \"citation\": \"@inproceedings{Wu2018Stanford,\\ntitle={Moleculenet: a benchmark for molecular machine learning},\\nauthor={Zhenqin Wu, Bharath Ramsundar, Evan N Feinberg, Joseph Gomes, Caleb Geniesse, Aneesh SPappu, Karl Leswing, and Vijay Pande},\\nbooktitle={Chemical Science},\\npages={513=520},\\nyear={2018}\\n}\"\n",
    " }"
   ]
  },
  {
   "cell_type": "code",
   "execution_count": 9,
   "id": "e34de373",
   "metadata": {},
   "outputs": [],
   "source": [
    "data = {\n",
    "    \"node_feats\": _node_feats,\n",
    "    \"graph_class\": _labels,\n",
    "    \"edge\": _edges,\n",
    "    \"edge_feats\": _edge_feats,\n",
    "    \"node_list\": _node_list,\n",
    "}"
   ]
  },
  {
   "cell_type": "code",
   "execution_count": 10,
   "metadata": {
    "collapsed": false,
    "pycharm": {
     "name": "#%%\n"
    }
   },
   "outputs": [],
   "source": [
    "np.savez_compressed(\"ogbg-molhiv.npz\", **data)\n"
   ]
  },
  {
   "cell_type": "code",
   "execution_count": 11,
   "metadata": {
    "collapsed": false,
    "pycharm": {
     "name": "#%%\n"
    }
   },
   "outputs": [
    {
     "data": {
      "text/plain": [
       "['node_feats', 'graph_class', 'edge', 'edge_feats', 'node_list']"
      ]
     },
     "execution_count": 11,
     "metadata": {},
     "output_type": "execute_result"
    }
   ],
   "source": [
    "cora = np.load(\"ogbg-molhiv.npz\", allow_pickle=True)\n",
    "cora.files"
   ]
  },
  {
   "cell_type": "code",
   "execution_count": 12,
   "metadata": {
    "collapsed": false,
    "pycharm": {
     "name": "#%%\n"
    }
   },
   "outputs": [],
   "source": [
    "json.dump(metadata, open(\"metadata.json\", \"w\"), indent=4)"
   ]
  },
  {
   "cell_type": "code",
   "execution_count": 13,
   "metadata": {
    "collapsed": false,
    "pycharm": {
     "name": "#%%\n"
    }
   },
   "outputs": [],
   "source": [
    "task = {\n",
    "    \"description\": \"The task is to predict the target molecular properties as accurately as possible, where the molecular properties are cast as binary labels, e.g, whether a molecule inhibits HIV virus replication or not. Note that some datasets (e.g., ogbg-molpcba) can have multiple tasks, and can contain nan that indicates the corresponding label is not assigned to the molecule.\",\n",
    "    \"type\": \"GraphClassification\",\n",
    "    \"feature\": [\n",
    "        \"Node/NodeFeature\",\n",
    "        \"Edge/EdgeFeature\"\n",
    "    ],\n",
    "    \"target\": \"Graph/GraphLabel\",\n",
    "    \"num_classes\": 2,\n",
    "    \"train_set\": {\n",
    "        \"file\": \"ogbg-molhiv_task.npz\",\n",
    "        \"key\": \"train\"\n",
    "    },\n",
    "    \"val_set\": {\n",
    "        \"file\": \"ogbg-molhiv_task.npz\",\n",
    "        \"key\": \"val\"\n",
    "    },\n",
    "    \"test_set\": {\n",
    "        \"file\": \"ogbg-molhiv_task.npz\",\n",
    "        \"key\": \"test\"\n",
    "    }\n",
    "}"
   ]
  },
  {
   "cell_type": "code",
   "execution_count": 14,
   "metadata": {
    "collapsed": false,
    "pycharm": {
     "name": "#%%\n"
    }
   },
   "outputs": [],
   "source": [
    "task_data = {\n",
    "    \"train\": train_idx,\n",
    "    \"val\": valid_idx,\n",
    "    \"test\": test_idx\n",
    "}\n",
    "np.savez_compressed(\"ogbg-molhiv_task.npz\", **task_data)\n",
    "with open(\"./task.json\", \"w\") as fp:\n",
    "    json.dump(task, fp, indent=4)"
   ]
  },
  {
   "cell_type": "code",
   "execution_count": 15,
   "metadata": {
    "collapsed": false,
    "pycharm": {
     "name": "#%%\n"
    }
   },
   "outputs": [
    {
     "data": {
      "text/plain": [
       "array([0, 1])"
      ]
     },
     "execution_count": 15,
     "metadata": {},
     "output_type": "execute_result"
    }
   ],
   "source": [
    "np.unique(_labels)"
   ]
  },
  {
   "cell_type": "code",
   "execution_count": null,
   "id": "f4307808",
   "metadata": {},
   "outputs": [],
   "source": []
  }
 ],
 "metadata": {
  "interpreter": {
   "hash": "c060a5fe1ced4d379d309ec1358bf896d440ce64254413b3c9daccac0d24786c"
  },
  "kernelspec": {
   "display_name": "PyCharm (GLB-Repo)",
   "language": "python",
   "name": "python3"
  },
  "language_info": {
   "codemirror_mode": {
    "name": "ipython",
    "version": 3
   },
   "file_extension": ".py",
   "mimetype": "text/x-python",
   "name": "python",
   "nbconvert_exporter": "python",
   "pygments_lexer": "ipython3",
   "version": "3.9.7"
  }
 },
 "nbformat": 4,
 "nbformat_minor": 5
}
