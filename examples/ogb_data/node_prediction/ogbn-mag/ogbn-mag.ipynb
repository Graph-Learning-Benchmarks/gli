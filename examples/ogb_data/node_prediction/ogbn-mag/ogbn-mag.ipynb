{
 "cells": [
  {
   "cell_type": "code",
   "execution_count": null,
   "id": "047d59e5",
   "metadata": {},
   "outputs": [],
   "source": [
    "# source: https://ogb.stanford.edu/docs/nodeprop/#ogbn-mag\n",
    "\n",
    "from ogb.nodeproppred import NodePropPredDataset\n",
    "\n",
    "dataset = NodePropPredDataset(name = \"ogbn-mag\")\n",
    "\n",
    "split_idx = dataset.get_idx_split()\n",
    "\n",
    "train_idx, valid_idx, test_idx = split_idx[\"train\"], split_idx[\"valid\"], split_idx[\"test\"]\n",
    "graph, label = dataset[0]"
   ]
  },
  {
   "cell_type": "code",
   "execution_count": null,
   "id": "00c1bba3",
   "metadata": {
    "pycharm": {
     "name": "#%%\n"
    }
   },
   "outputs": [],
   "source": [
    "import json\n",
    "import numpy as np\n",
    "import torch\n",
    "import scipy.sparse as sparse"
   ]
  },
  {
   "cell_type": "code",
   "execution_count": null,
   "id": "cef0a463",
   "metadata": {
    "pycharm": {
     "name": "#%%\n"
    }
   },
   "outputs": [],
   "source": [
    "graph, label = dataset[0]\n",
    "\n",
    "print(graph.keys())\n",
    "print(graph['edge_feat_dict'])\n",
    "# graph['node_feat_dict']"
   ]
  },
  {
   "cell_type": "code",
   "execution_count": null,
   "id": "cbea9791",
   "metadata": {
    "pycharm": {
     "name": "#%%\n"
    }
   },
   "outputs": [],
   "source": [
    "graph['node_feat_dict']['paper'].shape"
   ]
  },
  {
   "cell_type": "code",
   "execution_count": null,
   "id": "6c6e8776",
   "metadata": {
    "pycharm": {
     "name": "#%%\n"
    }
   },
   "outputs": [],
   "source": [
    "graph['edge_index_dict']"
   ]
  },
  {
   "cell_type": "code",
   "execution_count": null,
   "id": "471b04b1",
   "metadata": {
    "pycharm": {
     "name": "#%%\n"
    }
   },
   "outputs": [],
   "source": [
    "PaperNode_id = np.arange(0, graph['num_nodes_dict']['paper'])\n",
    "paper_feats = graph['node_feat_dict']['paper']\n",
    "paper_class = label\n",
    "paper_year = graph['node_year']\n",
    "AuthorNode_id = np.arange(PaperNode_id[-1]+1, PaperNode_id.shape[-1]+1 + graph['num_nodes_dict']['author'])\n",
    "InstitutionNode_id = np.arange(AuthorNode_id[-1]+1, AuthorNode_id[-1]+1 + graph['num_nodes_dict']['institution'])\n",
    "FieldOfStudy_id = np.arange(InstitutionNode_id[-1]+1, InstitutionNode_id[-1]+1 + graph['num_nodes_dict']['field_of_study'])\n"
   ]
  },
  {
   "cell_type": "code",
   "execution_count": null,
   "id": "4f69eda3",
   "metadata": {
    "pycharm": {
     "name": "#%%\n"
    }
   },
   "outputs": [],
   "source": [
    "author_institution_id = np.arange(0, graph['edge_index_dict'][('author','affiliated_with','institution')].shape[1])\n",
    "author_paper_id = np.arange(author_institution_id[-1]+1, author_institution_id[-1]+1 + graph['edge_index_dict'][('author','writes', 'paper')].shape[1])\n",
    "paper_paper_id = np.arange(author_paper_id[-1]+1, author_paper_id[-1]+1 + graph['edge_index_dict'][('paper','cites','paper')].shape[1])\n",
    "paper_FieldOfStudy_id = np.arange(paper_paper_id[-1]+1, paper_paper_id[-1]+1 + graph['edge_index_dict'][('paper','has_topic','field_of_study')].shape[1])\n",
    "\n",
    "author_institution_edge = np.stack([graph['edge_index_dict'][('author','affiliated_with','institution')][0, :] + PaperNode_id[0],\n",
    "                                   graph['edge_index_dict'][('author','affiliated_with','institution')][1, :] + InstitutionNode_id[0]]).T\n",
    "\n",
    "author_paper_edge = np.stack([graph['edge_index_dict'][('author','writes', 'paper')][0, :] + AuthorNode_id[0],\n",
    "                             graph['edge_index_dict'][('author','writes', 'paper')][1, :] + PaperNode_id[0]]).T\n",
    "\n",
    "paper_paper_edge = np.stack([graph['edge_index_dict'][('paper','cites','paper')][0, :] + PaperNode_id[0],\n",
    "                            graph['edge_index_dict'][('paper','cites','paper')][1, :] + PaperNode_id[0]]).T\n",
    "\n",
    "paper_FieldOfStudy_edge = np.stack([graph['edge_index_dict'][('paper','has_topic','field_of_study')][0, :] + PaperNode_id[0],\n",
    "                                   graph['edge_index_dict'][('paper','has_topic','field_of_study')][1, :] + FieldOfStudy_id[0]]).T\n",
    "\n",
    "node_list = np.ones((1, FieldOfStudy_id[-1]+1))\n",
    "edge_list = np.ones((1, paper_FieldOfStudy_id[-1]+1))"
   ]
  },
  {
   "cell_type": "code",
   "execution_count": null,
   "id": "f844191a",
   "metadata": {
    "pycharm": {
     "name": "#%%\n"
    }
   },
   "outputs": [],
   "source": [
    "metadata ={\n",
    "    \"description\": \"OGBN-MAG dataset.\",\n",
    "    \"data\": {\n",
    "        \"Node\": {\n",
    "            \"PaperNode\": {\n",
    "                \"_ID\": {\n",
    "                    \"file\": \"ogbn-mag.npz\",\n",
    "                    \"key\": \"PaperNode_id\"\n",
    "                },\n",
    "                \"PaperFeature\": {\n",
    "                    \"description\": \"Node features of ogbn-mag dataset.\",\n",
    "                    \"type\": \"float\",\n",
    "                    \"format\": \"Tensor\",\n",
    "                    \"file\": \"ogbn-mag.npz\",\n",
    "                    \"key\": \"paper_feats\",\n",
    "                },\n",
    "                \"PaperLabel\": {\n",
    "                    \"description\": \"Node labels of ogbn-mag dataset, int ranged from 1 to 40.\",\n",
    "                    \"type\": \"int\",\n",
    "                    \"format\": \"Tensor\",\n",
    "                    \"file\": \"ogbn-mag.npz\",\n",
    "                    \"key\": \"paper_class\"\n",
    "                },\n",
    "                \"PaperYear\": {\n",
    "                    \"description\": \"Year of the article represented by the Node\",\n",
    "                    \"type\": \"int\",\n",
    "                    \"format\": \"Tensor\",\n",
    "                    \"file\": \"ogbn-mag.npz\",\n",
    "                    \"key\": \"paper_year\"\n",
    "                }\n",
    "            },\n",
    "            \"AuthorNode\": {\n",
    "                \"_ID\": {\n",
    "                    \"file\": \"ogbn-mag.npz\",\n",
    "                    \"key\": \"AuthorNode_id\"\n",
    "                },\n",
    "            },\n",
    "            \"InstitutionNode\": {\n",
    "                \"_ID\": {\n",
    "                    \"file\": \"ogbn-mag.npz\",\n",
    "                    \"key\": \"InstitutionNode_id\"\n",
    "                },\n",
    "            },\n",
    "            \"FieldOfStudyNode\": {\n",
    "                \"_ID\": {\n",
    "                    \"file\": \"ogbn-mag.npz\",\n",
    "                    \"key\": \"FieldOfStudyNode_id\"\n",
    "                },\n",
    "            }\n",
    "        },\n",
    "        \"Edge\": {\n",
    "            \"Author_affiliated_with_Institution\": {\n",
    "                \"_ID\": {\n",
    "                    \"file\": \"ogbn-mag.npz\",\n",
    "                    \"key\": \"author_institution_id\"\n",
    "                },\n",
    "                \"_Edge\": {\n",
    "                    \"file\": \"ogbn-mag.npz\",\n",
    "                    \"key\": \"author_institution_edge\"\n",
    "                },\n",
    "            },\n",
    "            \"Author_writes_Paper\": {\n",
    "                \"_ID\": {\n",
    "                    \"file\": \"ogbn-mag.npz\",\n",
    "                    \"key\": \"author_paper_id\"\n",
    "                },\n",
    "                \"_Edge\": {\n",
    "                    \"file\": \"ogbn-mag.npz\",\n",
    "                    \"key\": \"author_paper_edge\"\n",
    "                },\n",
    "            },\n",
    "            \"Paper_cites_Paper\": {\n",
    "                \"_ID\": {\n",
    "                    \"file\": \"ogbn-mag.npz\",\n",
    "                    \"key\": \"paper_paper_id\"\n",
    "                },\n",
    "                \"_Edge\": {\n",
    "                    \"file\": \"ogbn-mag.npz\",\n",
    "                    \"key\": \"paper_paper_edge\"\n",
    "                },\n",
    "            },\n",
    "            \"Paper_has_topic_FieldOfStudy\": {\n",
    "                \"_ID\": {\n",
    "                    \"file\": \"ogbn-mag.npz\",\n",
    "                    \"key\": \"paper_FieldOfStudy_id\"\n",
    "                },\n",
    "                \"_Edge\": {\n",
    "                    \"file\": \"ogbn-mag.npz\",\n",
    "                    \"key\": \"paper_FieldOfStudy_edge\"\n",
    "                },\n",
    "            },\n",
    "        },\n",
    "        \"Graph\": {\n",
    "            \"_NodeList\": {\n",
    "                \"file\": \"ogbn-mag.npz\",\n",
    "                \"key\": \"node_list\"\n",
    "            },\n",
    "            \"_EdgeList\": {\n",
    "                \"file\": \"ogbn-mag.npz\",\n",
    "                \"key\": \"edge_list\"\n",
    "            }\n",
    "        }\n",
    "    },\n",
    "    \"citation\": \"@inproceedings{wang2020microsoft,\\ntitle={Microsoft academic graph: When experts are not enough},\\nauthor={Wang, Kuansan and Shen, Zhihong and Huang, Chiyuan and Wu, Chieh-Han and Dong, Yuxiao and Kanakia, Anshul},\\nbooktitle={Quantitative Science Studies},\\npages={396--413},\\nyear={2020}\\n}\"\n",
    " }"
   ]
  },
  {
   "cell_type": "code",
   "execution_count": null,
   "id": "2cc54465",
   "metadata": {
    "pycharm": {
     "name": "#%%\n"
    }
   },
   "outputs": [],
   "source": [
    "\n",
    "data = {\n",
    "    \"PaperNode_id\":  PaperNode_id,\n",
    "    \"paper_feats\":  paper_feats              ,\n",
    "    \"paper_class\":  paper_class              ,\n",
    "    \"paper_year\":  paper_year                ,\n",
    "    \"AuthorNode_id\":  AuthorNode_id          ,\n",
    "    \"InstitutionNode_id\":  InstitutionNode_id,\n",
    "    \"FieldOfStudy_id\":  FieldOfStudy_id      ,\n",
    "    \"author_institution_id\": author_institution_id,\n",
    "    \"author_paper_id\": author_paper_id      ,\n",
    "    \"paper_paper_id\": paper_paper_id       ,\n",
    "    \"paper_FieldOfStudy_id\": paper_FieldOfStudy_id,\n",
    "    \"author_institution_edge\":  author_institution_edge,\n",
    "    \"author_paper_edge      \": author_paper_edge       ,\n",
    "    \"paper_paper_edge       \":  paper_paper_edge       ,\n",
    "    \"paper_FieldOfStudy_edge\":  paper_FieldOfStudy_edge,\n",
    "    \"node_list              \": node_list               ,\n",
    "    \"edge_list              \": edge_list\n",
    "}"
   ]
  },
  {
   "cell_type": "code",
   "execution_count": null,
   "id": "10df598d",
   "metadata": {
    "pycharm": {
     "name": "#%%\n"
    }
   },
   "outputs": [],
   "source": [
    "np.savez_compressed(\"ogbn-mag.npz\", **data)\n"
   ]
  },
  {
   "cell_type": "code",
   "execution_count": null,
   "id": "7b6f68c3",
   "metadata": {
    "pycharm": {
     "name": "#%%\n"
    }
   },
   "outputs": [],
   "source": [
    "mag = np.load(\"ogbn-mag.npz\", allow_pickle=True)\n",
    "mag.files"
   ]
  },
  {
   "cell_type": "code",
   "execution_count": null,
   "id": "9dd43373",
   "metadata": {
    "pycharm": {
     "name": "#%%\n"
    }
   },
   "outputs": [],
   "source": [
    "json.dump(metadata, open(\"metadata.json\", \"w\"), indent=4)"
   ]
  },
  {
   "cell_type": "code",
   "execution_count": null,
   "id": "ac44ccdd",
   "metadata": {
    "pycharm": {
     "name": "#%%\n"
    }
   },
   "outputs": [],
   "source": [
    "task = {\n",
    "    \"description\": \"The ogbn-mag dataset is a heterogeneous network composed of a subset of the Microsoft Academic Graph (MAG) [1]. It contains four types of entities—papers (736,389 nodes), authors (1,134,649 nodes), institutions (8,740 nodes), and fields of study (59,965 nodes)—as well as four types of directed relations connecting two types of entities—an author is “affiliated with” an institution, an author “writes” a paper, a paper “cites” a paper, and a paper “has a topic of” a field of study. Similar to ogbn-mag, each paper is associated with a 128-dimensional word2vec feature vector, and all the other types of entities are not associated with input node features.\",\n",
    "    \"type\": \"NodeClassification\",\n",
    "    \"feature\": [{\n",
    "        \"object\": \"PaperNode\",\n",
    "        \"attribute\": \"PaperNodeFeature\"\n",
    "    },\n",
    "        {\n",
    "            \"object\": \"PaperNode\",\n",
    "            \"attribute\": \"PaperYear\"\n",
    "        }],\n",
    "    \"target\": {\n",
    "        \"object\": \"PaperNode\",\n",
    "        \"attribute\": \"PaperNode\",\n",
    "        \"num_classes\": 349\n",
    "    },\n",
    "    \"train_set\": {\n",
    "        \"file\": \"ogbn-mag_task.npz\",\n",
    "        \"key\": \"train\"\n",
    "    },\n",
    "    \"val_set\": {\n",
    "        \"file\": \"ogbn-mag_task.npz\",\n",
    "        \"key\": \"val\"\n",
    "    },\n",
    "    \"test_set\": {\n",
    "        \"file\": \"ogbn-mag_task.npz\",\n",
    "        \"key\": \"test\"\n",
    "    }\n",
    "}"
   ]
  },
  {
   "cell_type": "code",
   "execution_count": null,
   "id": "1f3bb22f",
   "metadata": {
    "pycharm": {
     "name": "#%%\n"
    }
   },
   "outputs": [],
   "source": [
    "task_data = {\n",
    "    \"train\": train_idx,\n",
    "    \"val\": valid_idx,\n",
    "    \"test\": test_idx\n",
    "}\n",
    "np.savez_compressed(\"ogbn-mag_task.npz\", **task_data)"
   ]
  },
  {
   "cell_type": "code",
   "execution_count": null,
   "id": "7a5d832d",
   "metadata": {
    "pycharm": {
     "name": "#%%\n"
    }
   },
   "outputs": [],
   "source": [
    "with open(\"./task.json\", \"w\") as fp:\n",
    "    json.dump(task, fp, indent=4)\n",
    "\n"
   ]
  },
  {
   "cell_type": "code",
   "execution_count": null,
   "id": "3b690e3a",
   "metadata": {
    "pycharm": {
     "name": "#%%\n"
    }
   },
   "outputs": [],
   "source": []
  }
 ],
 "metadata": {
  "kernelspec": {
   "display_name": "PyCharm (GLB-Repo)",
   "language": "python",
   "name": "pycharm-1c69af80"
  },
  "language_info": {
   "codemirror_mode": {
    "name": "ipython",
    "version": 3
   },
   "file_extension": ".py",
   "mimetype": "text/x-python",
   "name": "python",
   "nbconvert_exporter": "python",
   "pygments_lexer": "ipython3",
   "version": "3.8.11"
  }
 },
 "nbformat": 4,
 "nbformat_minor": 5
}
