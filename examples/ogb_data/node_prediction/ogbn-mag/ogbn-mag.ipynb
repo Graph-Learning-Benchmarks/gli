{
 "cells": [
  {
   "cell_type": "code",
   "execution_count": null,
   "id": "047d59e5",
   "metadata": {},
   "outputs": [],
   "source": [
    "# source: https://ogb.stanford.edu/docs/nodeprop/#ogbn-mag\n",
    "\n",
    "from ogb.nodeproppred import NodePropPredDataset\n",
    "\n",
    "dataset = NodePropPredDataset(name = \"ogbn-mag\")\n",
    "\n",
    "split_idx = dataset.get_idx_split()\n",
    "\n",
    "train_idx, valid_idx, test_idx = split_idx[\"train\"], split_idx[\"valid\"], split_idx[\"test\"]\n",
    "graph, label = dataset[0]"
   ]
  },
  {
   "cell_type": "code",
   "execution_count": null,
   "id": "00c1bba3",
   "metadata": {
    "pycharm": {
     "name": "#%%\n"
    }
   },
   "outputs": [],
   "source": [
    "import json\n",
    "import numpy as np\n",
    "import torch\n",
    "import scipy.sparse as sparse"
   ]
  },
  {
   "cell_type": "code",
   "execution_count": null,
   "id": "cef0a463",
   "metadata": {
    "pycharm": {
     "name": "#%%\n"
    }
   },
   "outputs": [],
   "source": [
    "graph, label = dataset[0]\n",
    "\n",
    "print(graph.keys())\n",
    "print(graph['edge_feat_dict'])\n",
    "# graph['node_feat_dict']"
   ]
  },
  {
   "cell_type": "code",
   "execution_count": null,
   "id": "cbea9791",
   "metadata": {
    "pycharm": {
     "name": "#%%\n"
    }
   },
   "outputs": [],
   "source": [
    "graph['node_feat_dict']['paper'].shape"
   ]
  },
  {
   "cell_type": "code",
   "execution_count": null,
   "id": "6c6e8776",
   "metadata": {
    "pycharm": {
     "name": "#%%\n"
    }
   },
   "outputs": [],
   "source": [
    "graph['edge_index_dict']"
   ]
  },
  {
   "cell_type": "code",
   "execution_count": null,
   "id": "471b04b1",
   "metadata": {
    "pycharm": {
     "name": "#%%\n"
    }
   },
   "outputs": [],
   "source": [
    "PaperNode_id = np.arange(0, graph['num_nodes_dict']['paper'])\n",
    "paper_feats = graph['node_feat_dict']['paper']\n",
    "paper_class = label\n",
    "paper_year = graph['node_year']\n",
    "AuthorNode_id = np.arange(PaperNode_id[-1]+1, PaperNode_id.shape[-1]+1 + graph['num_nodes_dict']['author'])\n",
    "InstitutionNode_id = np.arange(AuthorNode_id[-1]+1, AuthorNode_id[-1]+1 + graph['num_nodes_dict']['institution'])\n",
    "FieldOfStudy_id = np.arange(InstitutionNode_id[-1]+1, InstitutionNode_id[-1]+1 + graph['num_nodes_dict']['field_of_study'])\n"
   ]
  },
  {
   "cell_type": "code",
   "execution_count": null,
   "id": "4f69eda3",
   "metadata": {
    "pycharm": {
     "name": "#%%\n"
    }
   },
   "outputs": [],
   "source": [
    "author_institution_id = np.arange(0, graph['edge_index_dict'][('author','affiliated_with','institution')].shape[1])\n",
    "author_paper_id = np.arange(author_institution_id[-1]+1, author_institution_id[-1]+1 + graph['edge_index_dict'][('author','writes', 'paper')].shape[1])\n",
    "paper_paper_id = np.arange(author_paper_id[-1]+1, author_paper_id[-1]+1 + graph['edge_index_dict'][('paper','cites','paper')].shape[1])\n",
    "paper_FieldOfStudy_id = np.arange(paper_paper_id[-1]+1, paper_paper_id[-1]+1 + graph['edge_index_dict'][('paper','has_topic','field_of_study')].shape[1])\n",
    "\n",
    "author_institution_edge = np.stack([graph['edge_index_dict'][('author','affiliated_with','institution')][0, :] + PaperNode_id[0],\n",
    "                                   graph['edge_index_dict'][('author','affiliated_with','institution')][1, :] + InstitutionNode_id[0]]).T\n",
    "\n",
    "author_paper_edge = np.stack([graph['edge_index_dict'][('author','writes', 'paper')][0, :] + AuthorNode_id[0],\n",
    "                             graph['edge_index_dict'][('author','writes', 'paper')][1, :] + PaperNode_id[0]]).T\n",
    "\n",
    "paper_paper_edge = np.stack([graph['edge_index_dict'][('paper','cites','paper')][0, :] + PaperNode_id[0],\n",
    "                            graph['edge_index_dict'][('paper','cites','paper')][1, :] + PaperNode_id[0]]).T\n",
    "\n",
    "paper_FieldOfStudy_edge = np.stack([graph['edge_index_dict'][('paper','has_topic','field_of_study')][0, :] + PaperNode_id[0],\n",
    "                                   graph['edge_index_dict'][('paper','has_topic','field_of_study')][1, :] + FieldOfStudy_id[0]]).T\n",
    "\n",
    "node_list = np.ones((1, FieldOfStudy_id[-1]+1))\n",
    "edge_list = np.ones((1, paper_FieldOfStudy_id[-1]+1))"
   ]
  },
  {
   "cell_type": "code",
   "execution_count": null,
   "id": "2cc54465",
   "metadata": {
    "pycharm": {
     "name": "#%%\n"
    }
   },
   "outputs": [],
   "source": [
    "\n",
    "data = {\n",
    "    \"PaperNode_id\":  PaperNode_id,\n",
    "    \"paper_feats\":  paper_feats              ,\n",
    "    \"paper_class\":  paper_class              ,\n",
    "    \"paper_year\":  paper_year                ,\n",
    "    \"AuthorNode_id\":  AuthorNode_id          ,\n",
    "    \"InstitutionNode_id\":  InstitutionNode_id,\n",
    "    \"FieldOfStudy_id\":  FieldOfStudy_id      ,\n",
    "    \"author_institution_id\": author_institution_id,\n",
    "    \"author_paper_id\": author_paper_id      ,\n",
    "    \"paper_paper_id\": paper_paper_id       ,\n",
    "    \"paper_FieldOfStudy_id\": paper_FieldOfStudy_id,\n",
    "    \"author_institution_edge\":  author_institution_edge,\n",
    "    \"author_paper_edge      \": author_paper_edge       ,\n",
    "    \"paper_paper_edge       \":  paper_paper_edge       ,\n",
    "    \"paper_FieldOfStudy_edge\":  paper_FieldOfStudy_edge,\n",
    "    \"node_list              \": node_list               ,\n",
    "    \"edge_list              \": edge_list\n",
    "}"
   ]
  },
  {
   "cell_type": "code",
   "execution_count": null,
   "id": "10df598d",
   "metadata": {
    "pycharm": {
     "name": "#%%\n"
    }
   },
   "outputs": [],
   "source": [
    "np.savez_compressed(\"ogbn-mag.npz\", **data)\n"
   ]
  },
  {
   "cell_type": "code",
   "execution_count": null,
   "id": "7b6f68c3",
   "metadata": {
    "pycharm": {
     "name": "#%%\n"
    }
   },
   "outputs": [],
   "source": [
    "mag = np.load(\"ogbn-mag.npz\", allow_pickle=True)\n",
    "mag.files"
   ]
  },
  {
   "cell_type": "code",
   "execution_count": null,
   "id": "1f3bb22f",
   "metadata": {
    "pycharm": {
     "name": "#%%\n"
    }
   },
   "outputs": [],
   "source": [
    "task_data = {\n",
    "    \"train\": train_idx,\n",
    "    \"val\": valid_idx,\n",
    "    \"test\": test_idx\n",
    "}\n",
    "np.savez_compressed(\"ogbn-mag_task.npz\", **task_data)"
   ]
  },
  {
   "cell_type": "code",
   "execution_count": null,
   "id": "3b690e3a",
   "metadata": {
    "pycharm": {
     "name": "#%%\n"
    }
   },
   "outputs": [],
   "source": []
  }
 ],
 "metadata": {
  "kernelspec": {
   "display_name": "PyCharm (GLB-Repo)",
   "language": "python",
   "name": "pycharm-1c69af80"
  },
  "language_info": {
   "codemirror_mode": {
    "name": "ipython",
    "version": 3
   },
   "file_extension": ".py",
   "mimetype": "text/x-python",
   "name": "python",
   "nbconvert_exporter": "python",
   "pygments_lexer": "ipython3",
   "version": "3.8.11"
  }
 },
 "nbformat": 4,
 "nbformat_minor": 5
}
