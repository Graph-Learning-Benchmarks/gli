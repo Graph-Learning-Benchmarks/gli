{
 "cells": [
  {
   "cell_type": "code",
   "execution_count": 34,
   "id": "047d59e5",
   "metadata": {},
   "outputs": [],
   "source": [
    "# source: https://ogb.stanford.edu/docs/nodeprop/#ogbn-arxiv\n",
    "\n",
    "from ogb.nodeproppred import NodePropPredDataset\n",
    "\n",
    "dataset = NodePropPredDataset(name = \"ogbn-arxiv\")\n",
    "\n",
    "split_idx = dataset.get_idx_split()\n",
    "train_idx, valid_idx, test_idx = split_idx[\"train\"], split_idx[\"valid\"], split_idx[\"test\"]\n",
    "graph, label = dataset[0]"
   ]
  },
  {
   "cell_type": "code",
   "execution_count": 35,
   "outputs": [],
   "source": [
    "import json\n",
    "import numpy as np\n",
    "import torch\n",
    "import scipy.sparse as sparse\n"
   ],
   "metadata": {
    "collapsed": false,
    "pycharm": {
     "name": "#%%\n"
    }
   }
  },
  {
   "cell_type": "code",
   "execution_count": 36,
   "id": "747c0f5e",
   "metadata": {},
   "outputs": [],
   "source": [
    "metadata ={\n",
    "    \"description\": \"OGBN-ARXIV dataset.\",\n",
    "    \"data\": {\n",
    "        \"Node\": {\n",
    "            \"NodeFeature\": {\n",
    "                \"description\": \"Node features of ogbn-arxiv dataset.\",\n",
    "                \"type\": \"float\",\n",
    "                \"format\": \"Tensor\",\n",
    "                \"file\": \"ogbn-arxiv.npz\",\n",
    "                \"key\": \"node_feats\"\n",
    "            },\n",
    "            \"NodeLabel\": {\n",
    "                \"description\": \"Node labels of ogbn-arxiv dataset, int ranged from 1 to 40.\",\n",
    "                \"type\": \"int\",\n",
    "                \"format\": \"Tensor\",\n",
    "                \"file\": \"ogbn-arxiv.npz\",\n",
    "                \"key\": \"node_class\"\n",
    "            },\n",
    "            \"NodeYear\": {\n",
    "                \"description\": \"Year of the article represented by the Node\",\n",
    "                \"type\": \"int\",\n",
    "                \"format\": \"Tensor\",\n",
    "                \"file\": \"ogbn-arxiv.npz\",\n",
    "                \"key\": \"node_year\"\n",
    "            }\n",
    "        },\n",
    "        \"Edge\": {\n",
    "            \"_Edge\": {\n",
    "                \"file\": \"ogbn-arxiv.npz\",\n",
    "                \"key\": \"edge\"\n",
    "            }\n",
    "        },\n",
    "        \"Graph\": {\n",
    "            \"_NodeList\": {\n",
    "                \"file\": \"ogbn-arxiv.npz\",\n",
    "                \"key\": \"node_list\"\n",
    "            },\n",
    "            \"_EdgeList\": {\n",
    "                \"file\": \"ogbn-arxiv.npz\",\n",
    "                \"key\": \"edge_list\"\n",
    "            }\n",
    "        }\n",
    "    },\n",
    "    \"citation\": \"@inproceedings{wang2020microsoft,\\ntitle={Microsoft academic graph: When experts are not enough},\\nauthor={Wang, Kuansan and Shen, Zhihong and Huang, Chiyuan and Wu, Chieh-Han and Dong, Yuxiao and Kanakia, Anshul},\\nbooktitle={Quantitative Science Studies},\\npages={396--413},\\nyear={2020}\\n}\"\n",
    " }"
   ]
  },
  {
   "cell_type": "code",
   "execution_count": 37,
   "id": "e34de373",
   "metadata": {},
   "outputs": [],
   "source": [
    "node_feats = graph['node_feat'] # (169343, 128)\n",
    "node_class = label.reshape(-1,)  # (169343,)\n",
    "node_year = graph['node_year']\n",
    "edge = graph['edge_index'].T # (1166243, 2)\n",
    "node_list = np.ones((1, graph['num_nodes']))\n",
    "edge_list = np.ones((1, edge.shape[0]))\n",
    "\n",
    "data = {\n",
    "    \"node_feats\": node_feats,\n",
    "    \"node_class\": node_class,\n",
    "    \"node_year\":node_year,\n",
    "    \"edge\": edge,\n",
    "    \"node_list\": node_list,\n",
    "    \"edge_list\": edge_list\n",
    "}"
   ]
  },
  {
   "cell_type": "code",
   "execution_count": 38,
   "outputs": [],
   "source": [
    "np.savez_compressed(\"ogbn-arxiv.npz\", **data)\n"
   ],
   "metadata": {
    "collapsed": false,
    "pycharm": {
     "name": "#%%\n"
    }
   }
  },
  {
   "cell_type": "code",
   "execution_count": 39,
   "outputs": [
    {
     "data": {
      "text/plain": "['node_feats', 'node_class', 'node_year', 'edge', 'node_list', 'edge_list']"
     },
     "execution_count": 39,
     "metadata": {},
     "output_type": "execute_result"
    }
   ],
   "source": [
    "cora = np.load(\"ogbn-arxiv.npz\", allow_pickle=True)\n",
    "cora.files"
   ],
   "metadata": {
    "collapsed": false,
    "pycharm": {
     "name": "#%%\n"
    }
   }
  },
  {
   "cell_type": "code",
   "execution_count": 40,
   "outputs": [],
   "source": [
    "json.dump(metadata, open(\"metadata.json\", \"w\"), indent=4)"
   ],
   "metadata": {
    "collapsed": false,
    "pycharm": {
     "name": "#%%\n"
    }
   }
  },
  {
   "cell_type": "code",
   "execution_count": 41,
   "outputs": [],
   "source": [
    "task = {\n",
    "    \"description\": \"The task is to predict the 40 subject areas of arXiv CS papers, e.g., cs.AI, cs.LG, and cs.OS, which are manually determined (i.e., labeled) by the paper’s authors and arXiv moderators. With the volume of scientific publications doubling every 12 years over the past century, it is practically important to automatically classify each publication’s areas and topics. Formally, the task is to predict the primary categories of the arXiv papers, which is formulated as a 40-class classification problem.\",\n",
    "    \"type\": \"NodeClassification\",\n",
    "    \"feature\": [{\n",
    "        \"object\": \"Node\",\n",
    "        \"attribute\": \"NodeFeature\"\n",
    "    },\n",
    "        {\n",
    "            \"object\": \"Node\",\n",
    "            \"attribute\": \"NodeYear\"\n",
    "        }],\n",
    "    \"target\": {\n",
    "        \"object\": \"Node\",\n",
    "        \"attribute\": \"NodeLabel\",\n",
    "        \"num_classes\": 40\n",
    "    },\n",
    "    \"train_node\": {\n",
    "        \"file\": \"ogbn-arxiv_task.npz\",\n",
    "        \"key\": \"train\"\n",
    "    },\n",
    "    \"val_node\": {\n",
    "        \"file\": \"ogbn-arxiv_task.npz\",\n",
    "        \"key\": \"val\"\n",
    "    },\n",
    "    \"test_node\": {\n",
    "        \"file\": \"ogbn-arxiv_task.npz\",\n",
    "        \"key\": \"test\"\n",
    "    }\n",
    "}\n"
   ],
   "metadata": {
    "collapsed": false,
    "pycharm": {
     "name": "#%%\n"
    }
   }
  },
  {
   "cell_type": "code",
   "execution_count": 42,
   "outputs": [],
   "source": [
    "task_data = {\n",
    "    \"train\": train_idx,\n",
    "    \"val\": valid_idx,\n",
    "    \"test\": test_idx\n",
    "}\n",
    "np.savez_compressed(\"ogbn-arxiv_task.npz\", **task_data)\n",
    "\n",
    "with open(\"./task.json\", \"w\") as fp:\n",
    "    json.dump(task, fp, indent=4)\n",
    "\n"
   ],
   "metadata": {
    "collapsed": false,
    "pycharm": {
     "name": "#%%\n"
    }
   }
  },
  {
   "cell_type": "code",
   "execution_count": null,
   "outputs": [],
   "source": [],
   "metadata": {
    "collapsed": false,
    "pycharm": {
     "name": "#%%\n"
    }
   }
  }
 ],
 "metadata": {
  "kernelspec": {
   "name": "pycharm-1c69af80",
   "language": "python",
   "display_name": "PyCharm (GLB-Repo)"
  },
  "language_info": {
   "codemirror_mode": {
    "name": "ipython",
    "version": 3
   },
   "file_extension": ".py",
   "mimetype": "text/x-python",
   "name": "python",
   "nbconvert_exporter": "python",
   "pygments_lexer": "ipython3",
   "version": "3.8.8"
  }
 },
 "nbformat": 4,
 "nbformat_minor": 5
}