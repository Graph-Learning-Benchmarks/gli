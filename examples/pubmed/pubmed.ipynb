{
 "cells": [
  {
   "cell_type": "markdown",
   "metadata": {
    "id": "-YF5X2_e_16o"
   },
   "source": [
    "# Pubmed Example"
   ]
  },
  {
   "cell_type": "markdown",
   "metadata": {
    "id": "jr4MY1lr_16r"
   },
   "source": [
    "## Data"
   ]
  },
  {
   "cell_type": "code",
   "execution_count": 11,
   "metadata": {
    "executionInfo": {
     "elapsed": 164,
     "status": "ok",
     "timestamp": 1643619229686,
     "user": {
      "displayName": "Hezheng Fan",
      "photoUrl": "https://lh3.googleusercontent.com/a/default-user=s64",
      "userId": "02692002400554089702"
     },
     "user_tz": 300
    },
    "id": "Ke-xCu-X_16s"
   },
   "outputs": [],
   "source": [
    "metadata ={\n",
    "    \"description\": \"PUBMED dataset.\",\n",
    "    \"data\": {\n",
    "        \"Node\": {\n",
    "            \"NodeFeature\": {\n",
    "                \"description\": \"Node features of Pubmed dataset.\",\n",
    "                \"type\": \"float\",\n",
    "                \"format\": \"SparseTensor\",\n",
    "                \"file\": \"pubmed.npz\",\n",
    "                \"key\": \"node_feats\"\n",
    "            },\n",
    "            \"NodeLabel\": {\n",
    "                \"description\": \"Node labels of Pubmed dataset, int ranged from 1 to 3.\",\n",
    "                \"type\": \"int\",\n",
    "                \"format\": \"Tensor\",\n",
    "                \"file\": \"pubmed.npz\",\n",
    "                \"key\": \"node_class\",\n",
    "                \"num_classes\": 3\n",
    "            }\n",
    "        },\n",
    "        \"Edge\": {\n",
    "            \"_Edge\": {\n",
    "                \"file\": \"pubmed.npz\",\n",
    "                \"key\": \"edge\"\n",
    "            }\n",
    "        },\n",
    "        \"Graph\": {\n",
    "            \"_NodeList\": {\n",
    "                \"file\": \"pubmed.npz\",\n",
    "                \"key\": \"node_list\"\n",
    "            },\n",
    "            \"_EdgeList\": {\n",
    "                \"file\": \"pubmed.npz\",\n",
    "                \"key\": \"edge_list\"\n",
    "            }\n",
    "        }\n",
    "    },\n",
    "    \"citation\": \"@inproceedings{yang2016revisiting,\\ntitle={Revisiting semi-supervised learning with graph embeddings},\\nauthor={Yang, Zhilin and Cohen, William and Salakhudinov, Ruslan},\\nbooktitle={International conference on machine learning},\\npages={40--48},\\nyear={2016},\\norganization={PMLR}\\n}\"\n",
    " }\n",
    " "
   ]
  },
  {
   "cell_type": "code",
   "execution_count": 12,
   "metadata": {
    "colab": {
     "base_uri": "https://localhost:8080/"
    },
    "executionInfo": {
     "elapsed": 1743,
     "status": "ok",
     "timestamp": 1643619214622,
     "user": {
      "displayName": "Hezheng Fan",
      "photoUrl": "https://lh3.googleusercontent.com/a/default-user=s64",
      "userId": "02692002400554089702"
     },
     "user_tz": 300
    },
    "id": "tfqmpzcJ_16u",
    "outputId": "37c12992-df60-4a42-8f03-91a7c96f3315"
   },
   "outputs": [
    {
     "name": "stdout",
     "output_type": "stream",
     "text": [
      "  NumNodes: 19717\n",
      "  NumEdges: 88651\n",
      "  NumFeats: 500\n",
      "  NumClasses: 3\n",
      "  NumTrainingSamples: 60\n",
      "  NumValidationSamples: 500\n",
      "  NumTestSamples: 1000\n",
      "Done loading data from cached files.\n"
     ]
    }
   ],
   "source": [
    "import json\n",
    "import numpy as np\n",
    "import torch\n",
    "import scipy.sparse as sparse\n",
    "from dgl.data import PubmedGraphDataset\n",
    "dataset = PubmedGraphDataset()\n",
    "graph = dataset[0]"
   ]
  },
  {
   "cell_type": "markdown",
   "metadata": {
    "id": "kWLV759P_16w"
   },
   "source": [
    "We can save the data file in only one file `pubmed.npz`."
   ]
  },
  {
   "cell_type": "code",
   "execution_count": 13,
   "metadata": {
    "executionInfo": {
     "elapsed": 321,
     "status": "ok",
     "timestamp": 1643619261855,
     "user": {
      "displayName": "Hezheng Fan",
      "photoUrl": "https://lh3.googleusercontent.com/a/default-user=s64",
      "userId": "02692002400554089702"
     },
     "user_tz": 300
    },
    "id": "L_RKUyt3_16w"
   },
   "outputs": [],
   "source": [
    "# pubmed_feat\n",
    "node_feats = sparse.csr_matrix(graph.ndata[\"feat\"].numpy())\n",
    "# pubmed_class\n",
    "node_class = graph.ndata[\"label\"].numpy()  # (19717,)\n",
    "# pubmed_edge\n",
    "edge = torch.stack(graph.edges()).numpy().T\n",
    "# pubmed only has 1 single graph, there are some isolated nodes in the graph. \n",
    "# These isolated nodes are added as zero-vecs into the right position\n",
    "node_list = np.ones((1, graph.num_nodes()))  # (1, 19717)\n",
    "edge_list = np.ones((1, graph.num_edges()))  # (1, 88651)\n",
    "\n",
    "data = {\n",
    "    \"node_feats\": node_feats,\n",
    "    \"node_class\": node_class,\n",
    "    \"edge\": edge,\n",
    "    \"node_list\": node_list,\n",
    "    \"edge_list\": edge_list\n",
    "}"
   ]
  },
  {
   "cell_type": "code",
   "execution_count": 14,
   "metadata": {
    "executionInfo": {
     "elapsed": 877,
     "status": "ok",
     "timestamp": 1643619267368,
     "user": {
      "displayName": "Hezheng Fan",
      "photoUrl": "https://lh3.googleusercontent.com/a/default-user=s64",
      "userId": "02692002400554089702"
     },
     "user_tz": 300
    },
    "id": "8koIwVDI_16x"
   },
   "outputs": [],
   "source": [
    "np.savez_compressed(\"pubmed.npz\", **data)"
   ]
  },
  {
   "cell_type": "code",
   "execution_count": 15,
   "metadata": {
    "colab": {
     "base_uri": "https://localhost:8080/"
    },
    "executionInfo": {
     "elapsed": 167,
     "status": "ok",
     "timestamp": 1643619268552,
     "user": {
      "displayName": "Hezheng Fan",
      "photoUrl": "https://lh3.googleusercontent.com/a/default-user=s64",
      "userId": "02692002400554089702"
     },
     "user_tz": 300
    },
    "id": "MwrkBOFY_16y",
    "outputId": "9724823a-b5c9-4a5f-8e29-59d0adf81f7f"
   },
   "outputs": [
    {
     "data": {
      "text/plain": [
       "['node_feats', 'node_class', 'edge', 'node_list', 'edge_list']"
      ]
     },
     "execution_count": 15,
     "metadata": {},
     "output_type": "execute_result"
    }
   ],
   "source": [
    "pubmed = np.load(\"pubmed.npz\", allow_pickle=True)\n",
    "pubmed.files"
   ]
  },
  {
   "cell_type": "code",
   "execution_count": 16,
   "metadata": {
    "colab": {
     "base_uri": "https://localhost:8080/"
    },
    "executionInfo": {
     "elapsed": 326,
     "status": "ok",
     "timestamp": 1643619271105,
     "user": {
      "displayName": "Hezheng Fan",
      "photoUrl": "https://lh3.googleusercontent.com/a/default-user=s64",
      "userId": "02692002400554089702"
     },
     "user_tz": 300
    },
    "id": "wc70FpvL_16y",
    "outputId": "1901f3f9-2882-4ba3-e12f-0179b999c877"
   },
   "outputs": [
    {
     "name": "stdout",
     "output_type": "stream",
     "text": [
      "4.7M\tpubmed.npz\n"
     ]
    }
   ],
   "source": [
    "!du pubmed.npz -h"
   ]
  },
  {
   "cell_type": "code",
   "execution_count": 17,
   "metadata": {
    "executionInfo": {
     "elapsed": 139,
     "status": "ok",
     "timestamp": 1643619274954,
     "user": {
      "displayName": "Hezheng Fan",
      "photoUrl": "https://lh3.googleusercontent.com/a/default-user=s64",
      "userId": "02692002400554089702"
     },
     "user_tz": 300
    },
    "id": "VG2h51uu_16y"
   },
   "outputs": [],
   "source": [
    "json.dump(metadata, open(\"metadata.json\", \"w\"), indent=4)"
   ]
  },
  {
   "cell_type": "markdown",
   "metadata": {
    "id": "qauMEjnq_16z"
   },
   "source": [
    "## Task"
   ]
  },
  {
   "cell_type": "code",
   "execution_count": 18,
   "metadata": {
    "executionInfo": {
     "elapsed": 164,
     "status": "ok",
     "timestamp": 1643619284500,
     "user": {
      "displayName": "Hezheng Fan",
      "photoUrl": "https://lh3.googleusercontent.com/a/default-user=s64",
      "userId": "02692002400554089702"
     },
     "user_tz": 300
    },
    "id": "4YjxSgj9_16z"
   },
   "outputs": [],
   "source": [
    "task = {\n",
    "    \"description\": \"Node classification on PUBMED dataset. Planetoid split.\",\n",
    "    \"type\": \"NodeClassification\",\n",
    "    \"feature\": [{\n",
    "        \"object\": \"Node\",\n",
    "        \"attribute\": \"NodeFeature\"\n",
    "    }],\n",
    "    \"target\": {\n",
    "        \"object\": \"Node\",\n",
    "        \"attribute\": \"NodeLabel\",\n",
    "        \"num_classes\": 6\n",
    "    },\n",
    "    \"train_set\": {\n",
    "        \"file\": \"pubmed_task.npz\",\n",
    "        \"key\": \"train\"\n",
    "    },\n",
    "    \"val_set\": {\n",
    "        \"file\": \"pubmed_task.npz\",\n",
    "        \"key\": \"val\"\n",
    "    },\n",
    "    \"test_set\": {\n",
    "        \"file\": \"pubmed_task.npz\",\n",
    "        \"key\": \"test\"\n",
    "    }\n",
    "}\n"
   ]
  },
  {
   "cell_type": "code",
   "execution_count": 19,
   "metadata": {
    "id": "rmgrGq3R_16z"
   },
   "outputs": [],
   "source": [
    "train_set = graph.ndata[\"train_mask\"].nonzero().squeeze().numpy()\n",
    "val_set = graph.ndata[\"val_mask\"].nonzero().squeeze().numpy()\n",
    "test_set = graph.ndata[\"test_mask\"].nonzero().squeeze().numpy()"
   ]
  },
  {
   "cell_type": "code",
   "execution_count": 20,
   "metadata": {
    "id": "y8LUePuR_160"
   },
   "outputs": [],
   "source": [
    "task_data = {\n",
    "    \"train\": train_set,\n",
    "    \"val\": val_set,\n",
    "    \"test\": test_set\n",
    "}\n",
    "np.savez_compressed(\"pubmed_task.npz\", **task_data)\n",
    "\n",
    "with open(\"./task.json\", \"w\") as fp:\n",
    "    json.dump(task, fp, indent=4)"
   ]
  },
  {
   "cell_type": "code",
   "execution_count": null,
   "metadata": {
    "id": "yWM_DBgkLD1M"
   },
   "outputs": [],
   "source": []
  }
 ],
 "metadata": {
  "colab": {
   "collapsed_sections": [],
   "name": "pubmed.ipynb",
   "provenance": []
  },
  "interpreter": {
   "hash": "c060a5fe1ced4d379d309ec1358bf896d440ce64254413b3c9daccac0d24786c"
  },
  "kernelspec": {
   "display_name": "Python 3 (ipykernel)",
   "language": "python",
   "name": "python3"
  },
  "language_info": {
   "codemirror_mode": {
    "name": "ipython",
    "version": 3
   },
   "file_extension": ".py",
   "mimetype": "text/x-python",
   "name": "python",
   "nbconvert_exporter": "python",
   "pygments_lexer": "ipython3",
   "version": "3.9.7"
  }
 },
 "nbformat": 4,
 "nbformat_minor": 0
}
