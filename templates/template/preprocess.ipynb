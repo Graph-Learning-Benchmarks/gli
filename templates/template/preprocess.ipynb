{
 "cells": [
  {
   "cell_type": "markdown",
   "metadata": {},
   "source": [
    "Please use this file to write codes that transform the data files and configuration files from the raw data. Typically this script should include following parts:\n",
    "1. Download raw data\n",
    "2. Process raw data\n",
    "3. Convert the raw data into gli format\n",
    "4. save the gli format data into\n",
    "   1. configuration files (e.g., metadata.json, ...)\n",
    "   2. data files (e.g., cora.npz, ...)\n",
    "\n",
    "_You can use a Python script (*.py) to preprocess, too._"
   ]
  },
  {
   "cell_type": "markdown",
   "metadata": {},
   "source": []
  }
 ],
 "metadata": {
  "kernelspec": {
   "display_name": "Python 3 (ipykernel)",
   "language": "python",
   "name": "python3"
  },
  "language_info": {
   "codemirror_mode": {
    "name": "ipython",
    "version": 3
   },
   "file_extension": ".py",
   "mimetype": "text/x-python",
   "name": "python",
   "nbconvert_exporter": "python",
   "pygments_lexer": "ipython3",
   "version": "3.8.13"
  }
 },
 "nbformat": 4,
 "nbformat_minor": 2
}
