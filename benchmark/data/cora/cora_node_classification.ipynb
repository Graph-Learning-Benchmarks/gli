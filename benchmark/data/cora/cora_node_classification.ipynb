{
 "cells": [
  {
   "cell_type": "code",
   "execution_count": 1,
   "metadata": {},
   "outputs": [
    {
     "name": "stderr",
     "output_type": "stream",
     "text": [
      "/home/huangjin/miniconda3/envs/dgl/lib/python3.9/site-packages/tqdm/auto.py:22: TqdmWarning: IProgress not found. Please update jupyter and ipywidgets. See https://ipywidgets.readthedocs.io/en/stable/user_install.html\n",
      "  from .autonotebook import tqdm as notebook_tqdm\n"
     ]
    },
    {
     "name": "stdout",
     "output_type": "stream",
     "text": [
      "CORA dataset.\n",
      "Node classification on CORA dataset. Planetoid split.\n",
      "logits:  torch.Size([2708, 7])\n",
      "In epoch 0, loss: 1.946, val acc: 0.194 (best 0.194), test acc: 0.182 (best 0.182)\n"
     ]
    }
   ],
   "source": [
    "import dgl\n",
    "import torch\n",
    "import torch.nn as nn\n",
    "import torch.nn.functional as F\n",
    "import sys\n",
    "sys.path.append('../..')\n",
    "import glb\n",
    "from dgl.nn import GraphConv\n",
    "\n",
    "metadata_path = \"../../examples/cora/metadata.json\"\n",
    "task_path = \"../../examples/cora/task.json\"\n",
    "g = glb.graph.read_glb_graph(metadata_path=metadata_path)\n",
    "task = glb.task.read_glb_task(task_path=task_path)\n",
    "\n",
    "dataset = glb.dataloading.combine_graph_and_task(g, task)\n",
    "g = dataset[0]\n",
    "\n",
    "class GCN(nn.Module):\n",
    "    def __init__(self, in_feats, h_feats, num_classes):\n",
    "        super(GCN, self).__init__()\n",
    "        self.conv1 = GraphConv(in_feats, h_feats)\n",
    "        self.conv2 = GraphConv(h_feats, num_classes)\n",
    "\n",
    "    def forward(self, g, in_feat):\n",
    "        h = self.conv1(g, in_feat)\n",
    "        h = F.relu(h)\n",
    "        h = self.conv2(g, h)\n",
    "        return h\n",
    "\n",
    "# Create the model with given dimensions\n",
    "model = GCN(g.ndata['NodeFeature'].shape[1], 16, dataset._num_labels)\n",
    "\n",
    "def train(g, model):\n",
    "    optimizer = torch.optim.Adam(model.parameters(), lr=0.01)\n",
    "    best_val_acc = 0\n",
    "    best_test_acc = 0\n",
    "\n",
    "    features = g.ndata['NodeFeature']\n",
    "    labels = g.ndata['NodeLabel']\n",
    "    train_mask = g.ndata['train_set']\n",
    "    val_mask = g.ndata['val_set']\n",
    "    test_mask = g.ndata['test_set']\n",
    "    for e in range(1):\n",
    "        # Forward\n",
    "        logits = model(g, features)\n",
    "        print(\"logits: \", logits.shape)\n",
    "        # Compute prediction\n",
    "        pred = logits.argmax(1)\n",
    "\n",
    "        # Compute loss\n",
    "        # Note that you should only compute the losses of the nodes in the training set.\n",
    "        loss = F.cross_entropy(logits[train_mask], labels[train_mask])\n",
    "\n",
    "        # Compute accuracy on training/validation/test\n",
    "        train_acc = (pred[train_mask] == labels[train_mask]).float().mean()\n",
    "        val_acc = (pred[val_mask] == labels[val_mask]).float().mean()\n",
    "        test_acc = (pred[test_mask] == labels[test_mask]).float().mean()\n",
    "\n",
    "        # Save the best validation accuracy and the corresponding test accuracy.\n",
    "        if best_val_acc < val_acc:\n",
    "            best_val_acc = val_acc\n",
    "            best_test_acc = test_acc\n",
    "\n",
    "        # Backward\n",
    "        optimizer.zero_grad()\n",
    "        loss.backward()\n",
    "        optimizer.step()\n",
    "\n",
    "        if e % 5 == 0:\n",
    "            print('In epoch {}, loss: {:.3f}, val acc: {:.3f} (best {:.3f}), test acc: {:.3f} (best {:.3f})'.format(\n",
    "                e, loss, val_acc, best_val_acc, test_acc, best_test_acc))\n",
    "\n",
    "# train with cpu\n",
    "model = GCN(g.ndata['NodeFeature'].shape[1], 16, dataset._num_labels)\n",
    "train(g, model)\n",
    "\n",
    "# train with gpu\n",
    "# g = g.to('cuda')\n",
    "# model = GCN(g.ndata['NodeFeature'].shape[1], 16, dataset._num_labels).to('cuda')\n",
    "# train(g, model)"
   ]
  },
  {
   "cell_type": "code",
   "execution_count": null,
   "metadata": {},
   "outputs": [],
   "source": []
  }
 ],
 "metadata": {
  "kernelspec": {
   "display_name": "dgl",
   "language": "python",
   "name": "dgl"
  },
  "language_info": {
   "codemirror_mode": {
    "name": "ipython",
    "version": 3
   },
   "file_extension": ".py",
   "mimetype": "text/x-python",
   "name": "python",
   "nbconvert_exporter": "python",
   "pygments_lexer": "ipython3",
   "version": "3.9.13"
  }
 },
 "nbformat": 4,
 "nbformat_minor": 4
}
